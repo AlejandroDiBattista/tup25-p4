{
 "cells": [
  {
   "cell_type": "code",
   "execution_count": 36,
   "id": "eb8874e4",
   "metadata": {},
   "outputs": [
    {
     "name": "stdout",
     "output_type": "stream",
     "text": [
      "         Repositorio: tup25-p4\n",
      "         Descripción: TUP 2025 - Programación 4\n",
      "           Estrellas: 5\n",
      "               Forks: 60\n",
      "  Lenguaje principal: JavaScript\n",
      "Última actualización: 2025-09-02 00:29:41+00:00\n"
     ]
    }
   ],
   "source": [
    "import os\n",
    "import re\n",
    "import time\n",
    "from dotenv import load_dotenv\n",
    "from github import Github\n",
    "\n",
    "load_dotenv()\n",
    "\n",
    "\n",
    "\n",
    "token = os.getenv('GITHUB_TOKEN')\n",
    "g = Github(token)\n",
    "\n",
    "# Trabajar sobre el repositorio específico\n",
    "repo = g.get_repo(\"AlejandroDiBattista/tup25-p4\")\n",
    "\n",
    "print(f\"         Repositorio: {repo.name}\")\n",
    "print(f\"         Descripción: {repo.description}\")\n",
    "print(f\"           Estrellas: {repo.stargazers_count}\")\n",
    "print(f\"               Forks: {repo.forks_count}\")\n",
    "print(f\"  Lenguaje principal: {repo.language}\")\n",
    "print(f\"Última actualización: {repo.updated_at}\")"
   ]
  },
  {
   "cell_type": "code",
   "execution_count": 37,
   "id": "de44b11f",
   "metadata": {},
   "outputs": [
    {
     "name": "stdout",
     "output_type": "stream",
     "text": [
      "> Pull Requests pendientes:\n",
      "- #3: TP1 - 61627 - Juarez Fernandez, Lourdes (por LourdesFernandez1) \n",
      "- #5: TP1 - 61315 - Thiago Robles (por T1T0Dev) \n",
      "- #6: TP1 - 61911 - Luciano Llanos (por LucianoLlanos) \n",
      "- #7: TP1 - 61221 - Marcelo Ezequiel Duclós (por EzeDuclos) \n",
      "- #8: TP1 - 61579 - Marti Gonzalo (por Lived18) \n",
      "- #9: TP1 - 61312 - Lucas David Paz Berrondo (por Lucasdxvid) \n",
      "- #10: TP1 - 61033 - Quiroga José Maria (por jose-qui) \n",
      "- #11: TP1 - 62555 - Verón, Matias Gabriel (por MatiasVeron12503) \n",
      "- #12: TP1 - 61096 - Suarez Vece Leandro (por leandroVece) \n",
      "- #13: TP1 - 61032 - Moyamariano (por mariano-moya) \n",
      "- #14: TP1 - 61271 - Donelli-Gerardo (por GerardoExe) \n",
      "- #15: TP1 - 61719 - Amoedopablo (por Kryfter) \n",
      "- #16: TP1 - 62172 - Salcedomariana (por marianasalcedo22) \n",
      "- #17: TP1 - 61676 - Maximiliano, Massey (por EPILONgaga) \n",
      "- #18: TP1 - 61319 - Carabajal José Gabriel (por 7GabrielC) \n",
      "- #19: TP1 - 61139 - Gallo, María Matilde (por matildegallom) \n",
      "- #20: TP1 - 61037 - Paz, Rodrigo  (por Rodrigopz52) \n",
      "- #21: TP1 - 61445 - Martínez Campero, Santiago (por SantiCampero) \n",
      "- #22: TP1 - 61046 - Ponce, Luz Micela (por Mica8p) \n",
      "- #23: TP1 - 61335 - Lucas Ismael Leon (por LuquitasLeon) \n",
      "- #24: TP1 - 61478 - Soto,Antonella (por anto210) \n",
      "- #25: TP1 - 61200 - Gauna Martin (por MartinGS8) \n",
      "- #26: TP1 - 61626 - Diaz Londero, Sergio Gonzalo (por Gonzalo-diazz) \n",
      "- #27: TP1 - 61240 - Timo Hector Gabriel Adrian (por GabrielTimo006) \n",
      "- #28: TP1 - 61167 - Giacobbe Franco (por frandg47) \n",
      "- #31: TP1 - 61035 - Ledesma Paulo (por pauloled) \n",
      "- #33: TP1 - 61725 - Villagra Jorge (por JorgeVillagraa) \n",
      "- #34: TP1 - 61450 - Jimenez Paz, Patricio Agustín (por patricio-jp) \n",
      "- #35: TP1 - 61794 - Lobo Campero, Hernán Ignacio (por lobohhernan) \n",
      "- #36: TP1 - 61793 - Trujillo, Facundo (por FacundoTrujillo) \n",
      "- #37: TP1 - 62175 - Quiroga Marcela Noemí (por Marce-Quiroga) \n",
      "- #38: TP1 - 61473 - Lagoria García, Tomás Gustavo (por tomaslago27) \n",
      "- #39: TP1 - 61565 - Carrizo Mauro Martín (por DarkoDarkShadow) \n",
      "- #40: TP1 - 61468 - Samaniego Esteban Maximiliano (por MaxiSama12) \n",
      "- #41: TP1 - 54911 - Rodrigo Gabriel Jatib (por RodrigoJatib) \n",
      "- #42: TP1 - 61667 - Acosta,Maira (por maira-acostaa) \n",
      "- #43: TP1 - 62055 - Aiquen Ahumada (por aiquen7) \n",
      "- #44: TP1 - 62053 - Ivan-Agustin-Herrera (por ivanagustinherrera) \n",
      "- #45: TP1 - 61338 - Juan Daniel Morales (por JuanMo17) \n",
      "- #46: TP1 - 61115 - Ledesma Santiago (por santled) \n",
      "- #47: TP1 - 61073 - Gonzalez Chavez, Rodrigo (por rodrigogc21) \n",
      "- #48: TP1 - 61028 - Ponce, Rodrigo Exequiel (por rodrikapo12) \n",
      "- #49: TP1 - 61129 - Abril María Agostina Tello (por abriltello) \n",
      "- #50: TP1 - 61236 - Franco Eduardo Drachenberg (por FDrach) \n",
      "- #51: TP1 - 61805 - Tomas Jerez (por ElTommmy) \n",
      "- #52: TP1 - 61136 - Sosa Oscar (por Oscar40997) \n",
      "- #53: TP1 - 61120 - Guerrero Ana Sofia (por AnaSofi03) \n",
      "- #54: TP1 - 61113 - Oriz Caballero Juan Jose (por JuanchoCab) \n",
      "- #55: TP1 - 61150 - Juan Martin Molina Navarro (por JuanMolinaNavarro) \n",
      "- #56: TP1 - 61198 - Ferreyra Appas, Santiago Nicolas (por Ercutt) \n",
      "- #57: TP1 - 61472 - Julieta Diaz (por juliidiiaz04) \n",
      "- #58: TP1 - 62263 - José Augusto Orellana (por Jaodem) \n",
      "- #59: TP1 - 61248 - Palma Collado Nahuel (por Nahu333) \n",
      "- #60: TP1 - 61197 - Romano, Alfredo Nicolas (por NicoRomano904) \n",
      "- #61: TP1 - 61551 - Diaz Valdez, Ignacio (por IgnacioDiazV) \n",
      "- #62: TP1 - 62318 - Quiroga Castro, Lisandro (por Lisandro-18) \n",
      "- #63: TP1 - 61818 - Lopez Tisera, Gaston (por gastonlopezt) \n",
      "- #64: TP1 - 61141 - Antonella Di Clemente  (por antodiclemente) \n",
      ".\n"
     ]
    }
   ],
   "source": [
    "# Listar todos los pull requests pendientes (abiertos)\n",
    "\n",
    "def normalizar_pr(tp=1):\n",
    "    def normalizar_titulo_pr(titulo):\n",
    "        if match:= re.search(r'(\\d{5})[,\\s-]+(.+)\\s*', titulo):\n",
    "            return f\"TP{tp} - {match.group(1)} - {match.group(2).title()}\"\n",
    "        else:\n",
    "            return titulo\n",
    "\n",
    "    open_pulls = repo.get_pulls(state='open', sort='created', base='main')\n",
    "    print(f\"> Pull Requests pendientes:\")\n",
    "    for pr in open_pulls:\n",
    "        pr = repo.get_pull(pr.number)  # Refrescar datos del PR\n",
    "        nuevo = normalizar_titulo_pr(pr.title)\n",
    "        if pr.title != nuevo:\n",
    "            pr.edit(title=nuevo)\n",
    "        print(f\"- #{pr.number}: {nuevo} (por {pr.user.login}) {\"*\" if pr.title != nuevo else \"\"}\")\n",
    "    print(\".\")\n",
    "\n",
    "normalizar_pr(tp=1)"
   ]
  },
  {
   "cell_type": "code",
   "execution_count": 40,
   "id": "38a17ed4",
   "metadata": {},
   "outputs": [
    {
     "name": "stdout",
     "output_type": "stream",
     "text": [
      "> Intentando merge de PRs sin conflictos:\n",
      "Esperando mergeability para PR #17... (1/12)\n",
      "✗ PR #17 tiene conflictos: TP1 - 61676 - Maximiliano, Massey\n",
      "✗ PR #37 tiene conflictos: TP1 - 62175 - Quiroga Marcela Noemí\n",
      "✗ PR #39 tiene conflictos: TP1 - 61565 - Carrizo Mauro Martín\n",
      "✗ PR #43 tiene conflictos: TP1 - 62055 - Aiquen Ahumada\n",
      ".\n"
     ]
    }
   ],
   "source": [
    "# Función para hacer merge de PRs sin conflictos\n",
    "def merge_prs_sin_conflictos():\n",
    "    open_pulls = repo.get_pulls(state='open', sort='created', base='main')\n",
    "    print(\"> Intentando merge de PRs sin conflictos:\")\n",
    "    for pr in open_pulls:\n",
    "        pr = repo.get_pull(pr.number)  # Refrescar datos\n",
    "        # Esperar hasta que mergeable no sea None\n",
    "        intentos = 0\n",
    "        max_intentos = 12  # Máximo 12 * 5 = 60 segundos\n",
    "        while pr.mergeable is None and intentos < max_intentos:\n",
    "            print(f\"Esperando mergeability para PR #{pr.number}... ({intentos+1}/{max_intentos})\")\n",
    "            time.sleep(5)\n",
    "            pr = repo.get_pull(pr.number)  # Refrescar\n",
    "            intentos += 1\n",
    "\n",
    "        if pr.mergeable is True:  # Solo si puede ser merged\n",
    "            try:\n",
    "                pr.merge()\n",
    "                print(f\"✓ PR #{pr.number} merged: {pr.title}\")\n",
    "            except Exception as e:\n",
    "                print(f\"✗ Error al mergear PR #{pr.number}: {e}\")\n",
    "        elif pr.mergeable is False:\n",
    "            print(f\"✗ PR #{pr.number} tiene conflictos: {pr.title}\")\n",
    "        else:\n",
    "            print(f\"✗ Tiempo agotado para PR #{pr.number}: {pr.title}\")\n",
    "    print(\".\")\n",
    "\n",
    "# Ejecutar la función\n",
    "merge_prs_sin_conflictos()"
   ]
  }
 ],
 "metadata": {
  "kernelspec": {
   "display_name": "tup-25-p4 (3.13.2)",
   "language": "python",
   "name": "python3"
  },
  "language_info": {
   "codemirror_mode": {
    "name": "ipython",
    "version": 3
   },
   "file_extension": ".py",
   "mimetype": "text/x-python",
   "name": "python",
   "nbconvert_exporter": "python",
   "pygments_lexer": "ipython3",
   "version": "3.13.2"
  }
 },
 "nbformat": 4,
 "nbformat_minor": 5
}
