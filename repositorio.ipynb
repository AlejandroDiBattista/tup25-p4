{
 "cells": [
  {
   "cell_type": "code",
   "execution_count": null,
   "id": "eb8874e4",
   "metadata": {},
   "outputs": [
    {
     "name": "stdout",
     "output_type": "stream",
     "text": [
      "         Repositorio: tup25-p4\n",
      "         Descripción: TUP 2025 - Programación 4\n",
      "           Estrellas: 5\n",
      "               Forks: 64\n",
      "  Lenguaje principal: JavaScript\n",
      "Última actualización: 2025-09-05 07:46:07+00:00\n"
     ]
    }
   ],
   "source": [
    "import os\n",
    "import re\n",
    "import time\n",
    "from dotenv import load_dotenv\n",
    "from github import Github\n",
    "\n",
    "load_dotenv()\n",
    "\n",
    "\n",
    "\n",
    "token = os.getenv('GITHUB_TOKEN')\n",
    "g = Github(token)\n",
    "\n",
    "# Trabajar sobre el repositorio específico\n",
    "repo = g.get_repo(\"AlejandroDiBattista/tup25-p4\")\n",
    "\n",
    "print(f\"         Repositorio: {repo.name}\")\n",
    "print(f\"         Descripción: {repo.description}\")\n",
    "print(f\"           Estrellas: {repo.stargazers_count}\")\n",
    "print(f\"               Forks: {repo.forks_count}\")\n",
    "print(f\"  Lenguaje principal: {repo.language}\")\n",
    "print(f\"Última actualización: {repo.updated_at}\")"
   ]
  },
  {
   "cell_type": "code",
   "execution_count": null,
   "id": "de44b11f",
   "metadata": {},
   "outputs": [
    {
     "name": "stdout",
     "output_type": "stream",
     "text": [
      "> Leyendo alumnos.md...\n"
     ]
    },
    {
     "ename": "FileNotFoundError",
     "evalue": "[Errno 2] No such file or directory: 'alumnos.md'",
     "output_type": "error",
     "traceback": [
      "\u001b[31m---------------------------------------------------------------------------\u001b[39m",
      "\u001b[31mFileNotFoundError\u001b[39m                         Traceback (most recent call last)",
      "\u001b[36mCell\u001b[39m\u001b[36m \u001b[39m\u001b[32mIn[6]\u001b[39m\u001b[32m, line 50\u001b[39m\n\u001b[32m     47\u001b[39m     \u001b[38;5;28mprint\u001b[39m(\u001b[33m\"\u001b[39m\u001b[33m.\u001b[39m\u001b[33m\"\u001b[39m)\n\u001b[32m     49\u001b[39m \u001b[38;5;66;03m# normalizar_pr(tp=2)\u001b[39;00m\n\u001b[32m---> \u001b[39m\u001b[32m50\u001b[39m \u001b[38;5;28mprint\u001b[39m(normalizar_titulo_pr(\u001b[33m\"\u001b[39m\u001b[33mTP2 - 61037\u001b[39m\u001b[33m\"\u001b[39m, \u001b[43mleer\u001b[49m\u001b[43m(\u001b[49m\u001b[43m)\u001b[49m))  \u001b[38;5;66;03m# Ejemplo de uso\u001b[39;00m\n",
      "\u001b[36mCell\u001b[39m\u001b[36m \u001b[39m\u001b[32mIn[6]\u001b[39m\u001b[32m, line 9\u001b[39m, in \u001b[36mleer\u001b[39m\u001b[34m(origen)\u001b[39m\n\u001b[32m      7\u001b[39m \u001b[38;5;28mprint\u001b[39m(\u001b[33mf\u001b[39m\u001b[33m\"\u001b[39m\u001b[33m> Leyendo \u001b[39m\u001b[38;5;132;01m{\u001b[39;00morigen\u001b[38;5;132;01m}\u001b[39;00m\u001b[33m...\u001b[39m\u001b[33m\"\u001b[39m)\n\u001b[32m      8\u001b[39m salida, comision = [], \u001b[33m\"\u001b[39m\u001b[33m\"\u001b[39m\n\u001b[32m----> \u001b[39m\u001b[32m9\u001b[39m \u001b[38;5;28;01mwith\u001b[39;00m \u001b[38;5;28;43mopen\u001b[39;49m\u001b[43m(\u001b[49m\u001b[43morigen\u001b[49m\u001b[43m,\u001b[49m\u001b[43m \u001b[49m\u001b[33;43m\"\u001b[39;49m\u001b[33;43mr\u001b[39;49m\u001b[33;43m\"\u001b[39;49m\u001b[43m,\u001b[49m\u001b[43m \u001b[49m\u001b[43mencoding\u001b[49m\u001b[43m=\u001b[49m\u001b[33;43m'\u001b[39;49m\u001b[33;43mutf-8\u001b[39;49m\u001b[33;43m'\u001b[39;49m\u001b[43m)\u001b[49m \u001b[38;5;28;01mas\u001b[39;00m archivo:\n\u001b[32m     10\u001b[39m     \u001b[38;5;28;01mfor\u001b[39;00m linea \u001b[38;5;129;01min\u001b[39;00m archivo:\n\u001b[32m     11\u001b[39m         \u001b[38;5;28;01mif\u001b[39;00m \u001b[38;5;129;01mnot\u001b[39;00m linea.strip():\n",
      "\u001b[36mFile \u001b[39m\u001b[32m~/Documents/GitHub/tup-25-p4/.venv/lib/python3.13/site-packages/IPython/core/interactiveshell.py:343\u001b[39m, in \u001b[36m_modified_open\u001b[39m\u001b[34m(file, *args, **kwargs)\u001b[39m\n\u001b[32m    336\u001b[39m \u001b[38;5;28;01mif\u001b[39;00m file \u001b[38;5;129;01min\u001b[39;00m {\u001b[32m0\u001b[39m, \u001b[32m1\u001b[39m, \u001b[32m2\u001b[39m}:\n\u001b[32m    337\u001b[39m     \u001b[38;5;28;01mraise\u001b[39;00m \u001b[38;5;167;01mValueError\u001b[39;00m(\n\u001b[32m    338\u001b[39m         \u001b[33mf\u001b[39m\u001b[33m\"\u001b[39m\u001b[33mIPython won\u001b[39m\u001b[33m'\u001b[39m\u001b[33mt let you open fd=\u001b[39m\u001b[38;5;132;01m{\u001b[39;00mfile\u001b[38;5;132;01m}\u001b[39;00m\u001b[33m by default \u001b[39m\u001b[33m\"\u001b[39m\n\u001b[32m    339\u001b[39m         \u001b[33m\"\u001b[39m\u001b[33mas it is likely to crash IPython. If you know what you are doing, \u001b[39m\u001b[33m\"\u001b[39m\n\u001b[32m    340\u001b[39m         \u001b[33m\"\u001b[39m\u001b[33myou can use builtins\u001b[39m\u001b[33m'\u001b[39m\u001b[33m open.\u001b[39m\u001b[33m\"\u001b[39m\n\u001b[32m    341\u001b[39m     )\n\u001b[32m--> \u001b[39m\u001b[32m343\u001b[39m \u001b[38;5;28;01mreturn\u001b[39;00m \u001b[43mio_open\u001b[49m\u001b[43m(\u001b[49m\u001b[43mfile\u001b[49m\u001b[43m,\u001b[49m\u001b[43m \u001b[49m\u001b[43m*\u001b[49m\u001b[43margs\u001b[49m\u001b[43m,\u001b[49m\u001b[43m \u001b[49m\u001b[43m*\u001b[49m\u001b[43m*\u001b[49m\u001b[43mkwargs\u001b[49m\u001b[43m)\u001b[49m\n",
      "\u001b[31mFileNotFoundError\u001b[39m: [Errno 2] No such file or directory: 'alumnos.md'"
     ]
    }
   ],
   "source": [
    "def normalizar_titulo_pr(titulo, alumnos):\n",
    "    if match:= re.search(r'(\\d{5})[,\\s-]+(.+)\\s*', titulo):\n",
    "        legajo = match.group(1)\n",
    "        nombre_alumno = next((a['nombre'] for a in alumnos if a['legajo'] == legajo), \"Desconocido\")\n",
    "        return f\"TP{tp} - {legajo} - {nombre_alumno} - {match.group(2).title()}\"\n",
    "    else:\n",
    "        return titulo\n",
    "\n",
    "def normalizar_pr(tp=2):\n",
    "\n",
    "    alumnos = leer()\n",
    "\n",
    "\n",
    "    open_pulls = repo.get_pulls(state='open', sort='created', base='main')\n",
    "    print(f\"> Pull Requests pendientes:\")\n",
    "    for pr in open_pulls:\n",
    "        pr = repo.get_pull(pr.number)  # Refrescar datos del PR\n",
    "        nuevo = normalizar_titulo_pr(pr.title, alumnos)\n",
    "        if pr.title != nuevo:\n",
    "            pr.edit(title=nuevo)\n",
    "            print(f\"- #{pr.number}: {nuevo} (por {pr.user.login}) {\"*\" if pr.title != nuevo else \"\"}\")\n",
    "    print(\".\")\n",
    "\n",
    "# normalizar_pr(tp=2)\n",
    "print(normalizar_titulo_pr(\"TP2 - 61037\", leer()))  # Ejemplo de uso"
   ]
  },
  {
   "cell_type": "code",
   "execution_count": 3,
   "id": "38a17ed4",
   "metadata": {},
   "outputs": [],
   "source": [
    "# Función para hacer merge de PRs sin conflictos\n",
    "def merge_prs_sin_conflictos():\n",
    "    open_pulls = repo.get_pulls(state='open', sort='created', base='main')\n",
    "    print(\"> Intentando merge de PRs sin conflictos:\")\n",
    "    for pr in open_pulls:\n",
    "        pr = repo.get_pull(pr.number)  # Refrescar datos\n",
    "        # Esperar hasta que mergeable no sea None\n",
    "        intentos = 0\n",
    "        max_intentos = 12  # Máximo 12 * 5 = 60 segundos\n",
    "        while pr.mergeable is None and intentos < max_intentos:\n",
    "            print(f\"Esperando mergeability para PR #{pr.number}... ({intentos+1}/{max_intentos})\")\n",
    "            time.sleep(5)\n",
    "            pr = repo.get_pull(pr.number)  # Refrescar\n",
    "            intentos += 1\n",
    "\n",
    "        if pr.mergeable is True:  # Solo si puede ser merged\n",
    "            try:\n",
    "                pr.merge()\n",
    "                print(f\"✓ PR #{pr.number} merged: {pr.title}\")\n",
    "            except Exception as e:\n",
    "                print(f\"✗ Error al mergear PR #{pr.number}: {e}\")\n",
    "        elif pr.mergeable is False:\n",
    "            print(f\"✗ PR #{pr.number} tiene conflictos: {pr.title}\")\n",
    "        else:\n",
    "            print(f\"✗ Tiempo agotado para PR #{pr.number}: {pr.title}\")\n",
    "    print(\".\")\n",
    "\n",
    "# Ejecutar la función\n",
    "# merge_prs_sin_conflictos()"
   ]
  }
 ],
 "metadata": {
  "kernelspec": {
   "display_name": "tup-25-p4 (3.13.2)",
   "language": "python",
   "name": "python3"
  },
  "language_info": {
   "codemirror_mode": {
    "name": "ipython",
    "version": 3
   },
   "file_extension": ".py",
   "mimetype": "text/x-python",
   "name": "python",
   "nbconvert_exporter": "python",
   "pygments_lexer": "ipython3",
   "version": "3.13.2"
  }
 },
 "nbformat": 4,
 "nbformat_minor": 5
}
