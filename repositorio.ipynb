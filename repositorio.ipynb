{
 "cells": [
  {
   "cell_type": "code",
   "execution_count": 1,
   "id": "eb8874e4",
   "metadata": {},
   "outputs": [
    {
     "name": "stdout",
     "output_type": "stream",
     "text": [
      "         Repositorio: tup25-p4\n",
      "         Descripción: TUP 2025 - Programación 4\n",
      "           Estrellas: 5\n",
      "               Forks: 61\n",
      "  Lenguaje principal: JavaScript\n",
      "Última actualización: 2025-09-04 04:51:58+00:00\n"
     ]
    }
   ],
   "source": [
    "import os\n",
    "import re\n",
    "import time\n",
    "from dotenv import load_dotenv\n",
    "from github import Github\n",
    "\n",
    "load_dotenv()\n",
    "\n",
    "\n",
    "\n",
    "token = os.getenv('GITHUB_TOKEN')\n",
    "g = Github(token)\n",
    "\n",
    "# Trabajar sobre el repositorio específico\n",
    "repo = g.get_repo(\"AlejandroDiBattista/tup25-p4\")\n",
    "\n",
    "print(f\"         Repositorio: {repo.name}\")\n",
    "print(f\"         Descripción: {repo.description}\")\n",
    "print(f\"           Estrellas: {repo.stargazers_count}\")\n",
    "print(f\"               Forks: {repo.forks_count}\")\n",
    "print(f\"  Lenguaje principal: {repo.language}\")\n",
    "print(f\"Última actualización: {repo.updated_at}\")"
   ]
  },
  {
   "cell_type": "code",
   "execution_count": 2,
   "id": "de44b11f",
   "metadata": {},
   "outputs": [
    {
     "name": "stdout",
     "output_type": "stream",
     "text": [
      "> Pull Requests pendientes:\n",
      "- #65: TP2 - 62093 - Frias Silva Juan Segundo (por juansefriass) \n",
      "- #66: TP2 - 61572 - Parrado Navarrete,Alex Daniel (por AlexDaniel28) \n",
      "- #67: TP2 - 61200 - Gauna Martin (por MartinGS8) \n",
      ".\n"
     ]
    }
   ],
   "source": [
    "# Listar todos los pull requests pendientes (abiertos)\n",
    "\n",
    "def normalizar_pr(tp):\n",
    "    def normalizar_titulo_pr(titulo):\n",
    "        if match:= re.search(r'(\\d{5})[,\\s-]+(.+)\\s*', titulo):\n",
    "            return f\"TP{tp} - {match.group(1)} - {match.group(2).title()}\"\n",
    "        else:\n",
    "            return titulo\n",
    "\n",
    "    open_pulls = repo.get_pulls(state='open', sort='created', base='main')\n",
    "    print(f\"> Pull Requests pendientes:\")\n",
    "    for pr in open_pulls:\n",
    "        pr = repo.get_pull(pr.number)  # Refrescar datos del PR\n",
    "        nuevo = normalizar_titulo_pr(pr.title)\n",
    "        if pr.title != nuevo:\n",
    "            pr.edit(title=nuevo)\n",
    "        print(f\"- #{pr.number}: {nuevo} (por {pr.user.login}) {\"*\" if pr.title != nuevo else \"\"}\")\n",
    "    print(\".\")\n",
    "\n",
    "normalizar_pr(tp=2)"
   ]
  },
  {
   "cell_type": "code",
   "execution_count": 3,
   "id": "38a17ed4",
   "metadata": {},
   "outputs": [],
   "source": [
    "# Función para hacer merge de PRs sin conflictos\n",
    "def merge_prs_sin_conflictos():\n",
    "    open_pulls = repo.get_pulls(state='open', sort='created', base='main')\n",
    "    print(\"> Intentando merge de PRs sin conflictos:\")\n",
    "    for pr in open_pulls:\n",
    "        pr = repo.get_pull(pr.number)  # Refrescar datos\n",
    "        # Esperar hasta que mergeable no sea None\n",
    "        intentos = 0\n",
    "        max_intentos = 12  # Máximo 12 * 5 = 60 segundos\n",
    "        while pr.mergeable is None and intentos < max_intentos:\n",
    "            print(f\"Esperando mergeability para PR #{pr.number}... ({intentos+1}/{max_intentos})\")\n",
    "            time.sleep(5)\n",
    "            pr = repo.get_pull(pr.number)  # Refrescar\n",
    "            intentos += 1\n",
    "\n",
    "        if pr.mergeable is True:  # Solo si puede ser merged\n",
    "            try:\n",
    "                pr.merge()\n",
    "                print(f\"✓ PR #{pr.number} merged: {pr.title}\")\n",
    "            except Exception as e:\n",
    "                print(f\"✗ Error al mergear PR #{pr.number}: {e}\")\n",
    "        elif pr.mergeable is False:\n",
    "            print(f\"✗ PR #{pr.number} tiene conflictos: {pr.title}\")\n",
    "        else:\n",
    "            print(f\"✗ Tiempo agotado para PR #{pr.number}: {pr.title}\")\n",
    "    print(\".\")\n",
    "\n",
    "# Ejecutar la función\n",
    "# merge_prs_sin_conflictos()"
   ]
  }
 ],
 "metadata": {
  "kernelspec": {
   "display_name": "tup-25-p4 (3.13.2)",
   "language": "python",
   "name": "python3"
  },
  "language_info": {
   "codemirror_mode": {
    "name": "ipython",
    "version": 3
   },
   "file_extension": ".py",
   "mimetype": "text/x-python",
   "name": "python",
   "nbconvert_exporter": "python",
   "pygments_lexer": "ipython3",
   "version": "3.13.2"
  }
 },
 "nbformat": 4,
 "nbformat_minor": 5
}
