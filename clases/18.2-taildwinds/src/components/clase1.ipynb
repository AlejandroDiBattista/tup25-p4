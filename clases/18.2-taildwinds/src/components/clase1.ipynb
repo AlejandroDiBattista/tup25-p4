{
 "cells": [
  {
   "cell_type": "code",
   "execution_count": null,
   "id": "7329b505",
   "metadata": {},
   "outputs": [
    {
     "name": "stdout",
     "output_type": "stream",
     "text": [
      "[0, 2, 4, 6, 8]\n"
     ]
    }
   ],
   "source": [
    "# s = \"ale di ba\"\n",
    "\n",
    "# a = [1, 2, 4]\n",
    "# b = list(\"hola\")\n",
    "\n",
    "# c = [ [1, 2], [3, 4] ]\n",
    "# # print(f\"{a} {type(a)}\")\n",
    "# # print(f\"{b} {type(b)}\")\n",
    "# # print(f\"{c} {type(c)}\")\n",
    "# # print(b[-1])\n",
    "\n",
    "# decenas = [0,10,20,30,40,50,60,70,80,90]\n",
    "\n",
    "\n",
    "# for x in decenas:\n",
    "#     print(x)\n",
    "    \n",
    "# #  En JS   \n",
    "# # for( x of decenas ){\n",
    "# #     console.log(x);\n",
    "# # }\n",
    "# # for(let i = 0; i < decenas.length; i++ ){\n",
    "# #     console.log( decenas[i] );\n",
    "# # }\n",
    "\n",
    "# def len(x):\n",
    "#     contador = 0\n",
    "#     for _ in x:\n",
    "#         contador += 1\n",
    "#     return contador\n",
    "\n",
    "# def doble(lista):\n",
    "#     salida = []\n",
    "#     for x in lista:\n",
    "#         salida.append( x * 2 )\n",
    "#     return salida\n",
    "digitos = [0,1,2,3,4,5,6,7,8,9]\n",
    "salida = [ x * 2 for x in digitos ]\n",
    "cubos  = [ x**3 for x in digitos ]\n",
    "\n",
    "pares = []\n",
    "for x in digitos:\n",
    "    if x % 2 == 0:\n",
    "        pares.append(x)\n",
    "print(pares)\n",
    "\n",
    "impares = [ x for x in digitos if x % 2 != 0 ]\n",
    "print(impares)\n",
    "\n"
   ]
  },
  {
   "cell_type": "code",
   "execution_count": null,
   "id": "a327a088",
   "metadata": {},
   "outputs": [
    {
     "name": "stdout",
     "output_type": "stream",
     "text": [
      "{'uno': 3, 'dos': 3, 'tres': 1}\n"
     ]
    }
   ],
   "source": [
    "a = {\"nombre\": \"ale\", \"edad\": 44}\n",
    "b = dict(nombre=\"ale\", edad=44)\n",
    "\n",
    "\n",
    "a[\"nombre\"] = \"alejandro\"\n",
    "a[\"edad\"] = a[\"edad\"] + 1\n",
    "a[\"sueldo\"] = 2000\n",
    "s = a.get(\"sueldo\", 1000)\n",
    "a.setdefault(\"sueldo\", 1000)\n",
    "\n",
    "numeros = \"uno dos uno dos tres dos uno\".split()\n",
    "contador = {}\n",
    "for x in numeros:\n",
    "    contador[x] = contador.setdefault(x, 0) + 1\n",
    "    \n",
    "print(contador)"
   ]
  },
  {
   "cell_type": "code",
   "execution_count": 131,
   "id": "59cf5ec5",
   "metadata": {},
   "outputs": [
    {
     "name": "stdout",
     "output_type": "stream",
     "text": [
      "{'tres', 'uno', 'dos'}\n",
      "tres: 1\n",
      "uno: 3\n",
      "dos: 3\n"
     ]
    }
   ],
   "source": [
    "a = {1, 2, 3, 5, 2, 1, 4}\n",
    "b = set([3, 4, 5, 6, 7])\n",
    "c = {1, 2, 3}\n",
    "d = {3, 4, 5, 1,2}\n",
    "c < d \n",
    "\n",
    "print(set(numeros))\n",
    "for x in set(numeros):\n",
    "    print(f\"{x}: {numeros.count(x)}\")\n",
    "    \n"
   ]
  },
  {
   "cell_type": "code",
   "execution_count": null,
   "id": "fa8839c8",
   "metadata": {},
   "outputs": [
    {
     "name": "stdout",
     "output_type": "stream",
     "text": [
      "('nombre', 'ale')\n",
      "('edad', 44)\n",
      "('sueldo', 2000)\n"
     ]
    }
   ],
   "source": [
    "d = {\"nombre\": \"ale\", \"edad\": 44, \"sueldo\": 2000}\n",
    "for v in d.items():\n",
    "    print(f\"{v}\")\n",
    "    "
   ]
  },
  {
   "cell_type": "code",
   "execution_count": 17,
   "id": "895d149c",
   "metadata": {},
   "outputs": [
    {
     "name": "stdout",
     "output_type": "stream",
     "text": [
      "[1, 5, 20, 10, 30, 40, 60]\n"
     ]
    },
    {
     "data": {
      "text/plain": [
       "['uno', 'dos', 'uno', 'dos', 'tres', 'dos', 'uno']"
      ]
     },
     "execution_count": 17,
     "metadata": {},
     "output_type": "execute_result"
    }
   ],
   "source": [
    "\n",
    "l = [1, 5, 20, 10, 30]\n",
    "m = l[:]\n",
    "for x in l:\n",
    "    if x > 10:\n",
    "        m.append(x * 2)\n",
    "print(m)\n",
    "\n",
    "[ x ** 3 for x in l if x > 10 ]\n",
    "{ x: x ** 3 for x in l if x > 10 }\n",
    "\n",
    "{ x: numeros.count(x) for x in numeros }\n",
    "{ x for x in numeros }\n",
    "a = ( x for x in numeros  if len(x) > 2 )\n",
    "list(a)"
   ]
  },
  {
   "cell_type": "code",
   "execution_count": null,
   "id": "56c24cca",
   "metadata": {},
   "outputs": [],
   "source": [
    "\n"
   ]
  }
 ],
 "metadata": {
  "kernelspec": {
   "display_name": "Python 3",
   "language": "python",
   "name": "python3"
  },
  "language_info": {
   "codemirror_mode": {
    "name": "ipython",
    "version": 3
   },
   "file_extension": ".py",
   "mimetype": "text/x-python",
   "name": "python",
   "nbconvert_exporter": "python",
   "pygments_lexer": "ipython3",
   "version": "3.13.7"
  }
 },
 "nbformat": 4,
 "nbformat_minor": 5
}
