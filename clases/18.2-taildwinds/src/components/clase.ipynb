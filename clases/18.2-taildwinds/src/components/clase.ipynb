{
 "cells": [
  {
   "cell_type": "code",
   "execution_count": null,
   "id": "eb63fe6d",
   "metadata": {},
   "outputs": [
    {
     "name": "stdout",
     "output_type": "stream",
     "text": [
      "[10, 20, 40, 50, 60, 80]\n"
     ]
    },
    {
     "data": {
      "text/plain": [
       "[[10, 20, 40, 50, 60, 80, 1],\n",
       " [10, 20, 40, 50, 60, 80, 1],\n",
       " [10, 20, 40, 50, 60, 80, 1],\n",
       " [10, 20, 40, 50, 60, 80, 1],\n",
       " [10, 20, 40, 50, 60, 80, 1],\n",
       " [10, 20, 40, 50, 60, 80, 1],\n",
       " [10, 20, 40, 50, 60, 80, 1],\n",
       " [10, 20, 40, 50, 60, 80, 1],\n",
       " [10, 20, 40, 50, 60, 80, 1],\n",
       " [10, 20, 40, 50, 60, 80, 1]]"
      ]
     },
     "execution_count": 103,
     "metadata": {},
     "output_type": "execute_result"
    }
   ],
   "source": [
    "a = [10, 20, 30, 40]\n",
    "\n",
    "len(a)\n",
    "a.append(50)\n",
    "a.extend([60, 70, 80])\n",
    "a.remove(30)\n",
    "a.pop(-2), a\n",
    "sum(a)/len(a)  # media\n",
    "min(a), max(a)\n",
    "s = \"Hola mundo\"\n",
    "\n",
    "print(a)\n",
    "def es_palindromo(s):\n",
    "    s = s.replace(\" \", \"\").lower()\n",
    "    return s == s[::-1]\n",
    "\n",
    "es_palindromo(\"ana\")\n",
    "es_palindromo(\"hola\")\n",
    "es_palindromo(\"dabale arroz a la zorra el abad\")\n",
    "\n",
    "def doble(s):\n",
    "    b = []\n",
    "    for x in s:\n",
    "        b.append(x * 10)\n",
    "    return b\n",
    "\n",
    "doble([1, 2, 3, 4])\n",
    "doble(\"hola\")\n",
    "\n",
    "[1, 2, 3] * 5\n",
    "zeros = [0] * 10\n",
    "\n",
    "zeros = [a] * 10  # cuidado con esto\n",
    "zeros[0].append(1)\n",
    "zeros\n",
    "\n"
   ]
  },
  {
   "cell_type": "code",
   "execution_count": null,
   "id": "715167dc",
   "metadata": {},
   "outputs": [
    {
     "name": "stdout",
     "output_type": "stream",
     "text": [
      "[0, 2, 44, 66, 8, 10, 12, 14, 16, 18]\n",
      "[0, 3, 66, 99, 12, 15, 18, 21, 24, 27]\n",
      "[1, 33, 5, 7, 9]\n"
     ]
    }
   ],
   "source": [
    "digitos = [0, 1, 22, 33, 4, 5, 6, 7, 8, 9]\n",
    "pares = []\n",
    "for d in digitos:\n",
    "    if d % 2 == 0:\n",
    "        pares.append(d)\n",
    "pares\n",
    "\n",
    "doble = []\n",
    "for x in digitos:\n",
    "    doble.append(x * 2)\n",
    "print(doble)\n",
    "\n",
    "triple = [x * 3 for x in digitos]\n",
    "print(triple)\n",
    "\n",
    "impar = [x for x in digitos if x % 2 != 0]\n",
    "print(impar)\n",
    "\n"
   ]
  },
  {
   "cell_type": "code",
   "execution_count": 127,
   "id": "02bf9113",
   "metadata": {},
   "outputs": [
    {
     "name": "stdout",
     "output_type": "stream",
     "text": [
      "no existe sueldo\n",
      "('nombre', 'ale'): \n",
      "('edad', 44): \n",
      "('sueldo', 2000): \n"
     ]
    }
   ],
   "source": [
    "a = {\"nombre\": \"ale\", \"edad\": 44}\n",
    "a[\"nombre\"]\n",
    "if \"sueldo\" in a:\n",
    "    print(a[\"sueldo\"])\n",
    "else:\n",
    "    print(\"no existe sueldo\")\n",
    "a.get(\"sueldo\", 0)  # devuelve 0 si no existe\n",
    "\n",
    "a[\"sueldo\"] = 2000  # crea o actualiza\n",
    "a.setdefault(\"sueldo\", 1000)  \n",
    "\n",
    "# JS : Object.keys( a )  -->  list( a )\n",
    "a.keys()# si no existe lo crea con valor 0\n",
    "a.items()  # devuelve tuplas (clave, valor)\n",
    "\n",
    "for x in a.items():\n",
    "    print(f\"{x}: \")"
   ]
  },
  {
   "cell_type": "code",
   "execution_count": null,
   "id": "e055fd7d",
   "metadata": {},
   "outputs": [
    {
     "name": "stdout",
     "output_type": "stream",
     "text": [
      "10\n",
      "20\n",
      "30\n",
      "40\n",
      "50\n"
     ]
    },
    {
     "data": {
      "text/plain": [
       "['h', 'o', 'l', 'a', ' ', 'm', 'u', 'n', 'd', 'o']"
      ]
     },
     "execution_count": 141,
     "metadata": {},
     "output_type": "execute_result"
    }
   ],
   "source": [
    "t = (10, 20, 30, 40, 50)\n",
    "t[1::2]\n",
    "min(t), max(t), sum(t)\n",
    "len(t)\n",
    "for x in t:\n",
    "    print(x)\n",
    "l = [x * 2 for x in t]\n",
    "l\n",
    "t = list(\"hola mundo\")\n",
    "t\n"
   ]
  },
  {
   "cell_type": "code",
   "execution_count": 163,
   "id": "78dfc6aa",
   "metadata": {},
   "outputs": [
    {
     "name": "stdout",
     "output_type": "stream",
     "text": [
      "['uno', 'dos', 'uno', 'tres', 'dos', 'uno']\n",
      "{'dos', 'tres', 'uno'}\n",
      "dos: 2\n",
      "tres: 1\n",
      "uno: 3\n",
      "3\n",
      "2\n",
      "3\n",
      "2\n"
     ]
    }
   ],
   "source": [
    "c = {1, 2, 3, 1, 2, 3, 4, 5}\n",
    "c = set([1, 2, 3, 1, 2, 3, 4, 5])\n",
    "\n",
    "l = set(\"hola mundo\")\n",
    "\n",
    "num = \"uno dos uno tres dos uno\".split()\n",
    "unicos = list(set(num))\n",
    "unicos\n",
    "\n",
    "contador = {}\n",
    "for n in num:\n",
    "    if n not in contador:\n",
    "        contador[n] = 0\n",
    "    contador[n] += 1\n",
    "contador\n",
    "con = {}\n",
    "for n in num:\n",
    "    con[n] = con.get(n, 0) + 1\n",
    "con\n",
    "\n",
    "co = {}\n",
    "for n in num:\n",
    "    co.setdefault(n, 0)\n",
    "    co[n] += 1\n",
    "co\n",
    "print(num)\n",
    "print(set(num))\n",
    "for x in set(num):\n",
    "    print(f\"{x}: {num.count(x)}\")\n",
    "\n",
    "x = (num.count(x) for x in num if num.count(x) > 1)\n",
    "print(next(x))\n",
    "print(next(x))\n",
    "print(next(x))\n",
    "print(next(x))"
   ]
  }
 ],
 "metadata": {
  "kernelspec": {
   "display_name": "Python 3",
   "language": "python",
   "name": "python3"
  },
  "language_info": {
   "codemirror_mode": {
    "name": "ipython",
    "version": 3
   },
   "file_extension": ".py",
   "mimetype": "text/x-python",
   "name": "python",
   "nbconvert_exporter": "python",
   "pygments_lexer": "ipython3",
   "version": "3.13.7"
  }
 },
 "nbformat": 4,
 "nbformat_minor": 5
}
