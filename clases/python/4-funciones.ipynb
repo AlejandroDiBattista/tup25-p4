{
 "cells": [
  {
   "cell_type": "code",
   "execution_count": 20,
   "id": "c8c0683a",
   "metadata": {},
   "outputs": [
    {
     "name": "stdout",
     "output_type": "stream",
     "text": [
      "sumar\n"
     ]
    }
   ],
   "source": [
    "def sumar(a:int,b:int) -> None:\n",
    "    \" Esta funcion suma dos numeros e imprime el resultado\"\n",
    "    \n",
    "    print(f\"La suma de {a} + {b} es: {a + b}\")\n",
    "\n",
    "a = sumar\n",
    "print(a.__name__)\n",
    "\n",
    "\n"
   ]
  },
  {
   "cell_type": "code",
   "execution_count": 28,
   "id": "2c818f92",
   "metadata": {},
   "outputs": [
    {
     "name": "stdout",
     "output_type": "stream",
     "text": [
      "x fuera de la funcion: 5\n",
      "x dentro de la funcion: 15\n",
      "x fuera de la funcion: 15\n"
     ]
    }
   ],
   "source": [
    "x = 5\n",
    "def probar():\n",
    "    global x\n",
    "    x = x + 10\n",
    "    print(f\"x dentro de la funcion: {x}\")\n",
    "\n",
    "print(f\"x fuera de la funcion: {x}\")    \n",
    "probar()\n",
    "print(f\"x fuera de la funcion: {x}\")"
   ]
  },
  {
   "cell_type": "markdown",
   "id": "b292b1f6",
   "metadata": {},
   "source": [
    "## Ejemplo de funciones recursivas\n",
    "Vamos a crear un arbol binanrio usando un diccionario. \n",
    "\n",
    "La idea es que guardamos los datos en un nodo. \n",
    "Si el nodo no tiene un valor lo registramos en dicho nodo.\n",
    "Si tiene un valor agregamos el valor a la izquierda o a la derecha segun sea menor o mayor al valor anterior."
   ]
  },
  {
   "cell_type": "code",
   "execution_count": 10,
   "id": "36e08183",
   "metadata": {},
   "outputs": [
    {
     "name": "stdout",
     "output_type": "stream",
     "text": [
      "\n",
      "=== Recorrer en forma recursiva ===\n",
      "3\n",
      "5\n",
      "7\n",
      "15\n",
      "\n",
      "=== Recorrer en forma recursiva (usando generador)===\n",
      "3\n",
      "5\n",
      "7\n",
      "15\n",
      "\n",
      "=== Recorrido secuencias con el iterador ===\n",
      "3\n",
      "5\n",
      "7\n",
      "15\n"
     ]
    },
    {
     "ename": "StopIteration",
     "evalue": "",
     "output_type": "error",
     "traceback": [
      "\u001b[31m---------------------------------------------------------------------------\u001b[39m",
      "\u001b[31mStopIteration\u001b[39m                             Traceback (most recent call last)",
      "\u001b[36mCell\u001b[39m\u001b[36m \u001b[39m\u001b[32mIn[10]\u001b[39m\u001b[32m, line 55\u001b[39m\n\u001b[32m     53\u001b[39m \u001b[38;5;28mprint\u001b[39m(\u001b[38;5;28mnext\u001b[39m(arbol))\n\u001b[32m     54\u001b[39m \u001b[38;5;28mprint\u001b[39m(\u001b[38;5;28mnext\u001b[39m(arbol))\n\u001b[32m---> \u001b[39m\u001b[32m55\u001b[39m \u001b[38;5;28mprint\u001b[39m(\u001b[38;5;28;43mnext\u001b[39;49m\u001b[43m(\u001b[49m\u001b[43marbol\u001b[49m\u001b[43m)\u001b[49m)\n",
      "\u001b[31mStopIteration\u001b[39m: "
     ]
    }
   ],
   "source": [
    "# Empezamos con un arbol vacio (Raiz con el valor None)\n",
    "\n",
    "\n",
    "# Empezamos con una raiz vacia.\n",
    "raiz = {\"valor\": None}\n",
    "\n",
    "\n",
    "def insertar(raiz, valor):\n",
    "    \"\"\" Insertamos en forma recursiva un valor en el arbol binario\"\"\"\n",
    "    if raiz[\"valor\"] is None:   # Sin no tiene un valor los asigno y creo los hijos vacios.\n",
    "        raiz[\"valor\"] = valor\n",
    "        raiz[\"izq\"] = {\"valor\": None}\n",
    "        raiz[\"der\"] = {\"valor\": None}\n",
    "    elif valor < raiz[\"valor\"]: # Si existia el valor lo agrego a la izquierda si es menor.\n",
    "        insertar(raiz[\"izq\"], valor)\n",
    "    else:\n",
    "        insertar(raiz[\"der\"], valor) #En caso contrario lo agrego a la derecha.\n",
    "\n",
    "\n",
    "def mostrar(raiz):\n",
    "    \"\"\" Muestra los valores del arbol inorden\"\"\"\n",
    "    if raiz[\"valor\"] is None: return\n",
    "    mostrar(raiz[\"izq\"])\n",
    "    print(raiz[\"valor\"])\n",
    "    mostrar(raiz[\"der\"])\n",
    "\n",
    "        \n",
    "def recorrer(raiz):\n",
    "    \"\"\" Crea un generador para recorrar en forma recursiva el arbol\"\"\"\n",
    "    if raiz[\"valor\"] is None: return\n",
    "    \n",
    "    yield from recorrer(raiz[\"izq\"])\n",
    "    yield raiz[\"valor\"]\n",
    "    yield from recorrer(raiz[\"der\"])\n",
    "    \n",
    "insertar(raiz, 5)\n",
    "insertar(raiz, 15)\n",
    "insertar(raiz, 3)\n",
    "insertar(raiz, 7)\n",
    "\n",
    "print(\"\\n=== Recorrer en forma recursiva ===\")\n",
    "mostrar(raiz)\n",
    "\n",
    "print(\"\\n=== Recorrer en forma recursiva (usando generador)===\")\n",
    "arbol = recorrer(raiz)\n",
    "for x in arbol:\n",
    "    print(x)\n",
    "    \n",
    "print(\"\\n=== Recorrido secuencias con el iterador ===\")\n",
    "arbol = recorrer(raiz)\n",
    "print(next(arbol))\n",
    "print(next(arbol))\n",
    "print(next(arbol))\n",
    "print(next(arbol))\n",
    "print(next(arbol))\n"
   ]
  },
  {
   "cell_type": "markdown",
   "id": "14017fc8",
   "metadata": {},
   "source": [
    "## Paso de parametros.\n",
    "Paso de parametros posicionales de longitud variable."
   ]
  },
  {
   "cell_type": "code",
   "execution_count": 1,
   "id": "4955b1fe",
   "metadata": {},
   "outputs": [
    {
     "name": "stdout",
     "output_type": "stream",
     "text": [
      "a=1 b=2 lista=[3, 5, 6]\n",
      "La suma es 15\n"
     ]
    }
   ],
   "source": [
    "# Queremos una funcion que nos permita sumar de 2 a n valores.\n",
    "\n",
    "def suma(a, b, *lista):\n",
    "    suma = a + b\n",
    "    for n in lista:\n",
    "        suma += n\n",
    "    return suma\n",
    "\n",
    "\n",
    "\n",
    "a, b, *lista = 1, 2, 3, 5, 6\n",
    "print(f\"{a=} {b=} {lista=}\")\n",
    "\n",
    "print(f\"La suma es {suma(1, 2, 3, 4, 5)}\")\n"
   ]
  },
  {
   "cell_type": "code",
   "execution_count": null,
   "id": "4f974e43",
   "metadata": {},
   "outputs": [
    {
     "name": "stdout",
     "output_type": "stream",
     "text": [
      "Nombre: juan, Apellido: Perez\n",
      "Nombre: Ana, Apellido: Gomez\n",
      "edad = 30\n",
      "ciudad = Madrid\n",
      "Nombre: Luis, Apellido: Lopez\n",
      "profesion = Ingeniero\n"
     ]
    }
   ],
   "source": [
    "def mostrar_persona(nombre=\"juan\", apellido=\"Perez\", **valores):\n",
    "    print(f\"Nombre: {nombre}, Apellido: {apellido}\")\n",
    "    for k, v in valores.items():\n",
    "        print(f\"{k} = {v}\")\n",
    "\n",
    "mostrar_persona()\n",
    "mostrar_persona(\"Ana\", \"Gomez\", edad=30, ciudad=\"Madrid\")\n",
    "mostrar_persona(apellido=\"Lopez\", nombre=\"Luis\", profesion=\"Ingeniero\")\n",
    "\n"
   ]
  },
  {
   "cell_type": "code",
   "execution_count": null,
   "id": "4e549e2c",
   "metadata": {},
   "outputs": [
    {
     "ename": "AttributeError",
     "evalue": "module 'datetime' has no attribute 'now'",
     "output_type": "error",
     "traceback": [
      "\u001b[31m---------------------------------------------------------------------------\u001b[39m",
      "\u001b[31mAttributeError\u001b[39m                            Traceback (most recent call last)",
      "\u001b[36mCell\u001b[39m\u001b[36m \u001b[39m\u001b[32mIn[3]\u001b[39m\u001b[32m, line 6\u001b[39m\n\u001b[32m      3\u001b[39m \u001b[38;5;28;01mdef\u001b[39;00m\u001b[38;5;250m \u001b[39m\u001b[34mdebug\u001b[39m(*valores, sep=\u001b[33m\"\u001b[39m\u001b[33m \u001b[39m\u001b[33m\"\u001b[39m, end=\u001b[33m\"\u001b[39m\u001b[38;5;130;01m\\n\u001b[39;00m\u001b[33m\"\u001b[39m):\n\u001b[32m      4\u001b[39m     \u001b[38;5;28mprint\u001b[39m(\u001b[33mf\u001b[39m\u001b[33m\"\u001b[39m\u001b[33m[DEBUG \u001b[39m\u001b[38;5;132;01m{\u001b[39;00mdatetime.now()\u001b[38;5;132;01m}\u001b[39;00m\u001b[33m]\u001b[39m\u001b[33m\"\u001b[39m, *valores, sep=sep, end=end)\n\u001b[32m----> \u001b[39m\u001b[32m6\u001b[39m \u001b[43mdebug\u001b[49m\u001b[43m(\u001b[49m\u001b[33;43m\"\u001b[39;49m\u001b[33;43mTodo Ok\u001b[39;49m\u001b[33;43m\"\u001b[39;49m\u001b[43m)\u001b[49m\n",
      "\u001b[36mCell\u001b[39m\u001b[36m \u001b[39m\u001b[32mIn[3]\u001b[39m\u001b[32m, line 4\u001b[39m, in \u001b[36mdebug\u001b[39m\u001b[34m(sep, end, *valores)\u001b[39m\n\u001b[32m      3\u001b[39m \u001b[38;5;28;01mdef\u001b[39;00m\u001b[38;5;250m \u001b[39m\u001b[34mdebug\u001b[39m(*valores, sep=\u001b[33m\"\u001b[39m\u001b[33m \u001b[39m\u001b[33m\"\u001b[39m, end=\u001b[33m\"\u001b[39m\u001b[38;5;130;01m\\n\u001b[39;00m\u001b[33m\"\u001b[39m):\n\u001b[32m----> \u001b[39m\u001b[32m4\u001b[39m     \u001b[38;5;28mprint\u001b[39m(\u001b[33mf\u001b[39m\u001b[33m\"\u001b[39m\u001b[33m[DEBUG \u001b[39m\u001b[38;5;132;01m{\u001b[39;00m\u001b[43mdatetime\u001b[49m\u001b[43m.\u001b[49m\u001b[43mnow\u001b[49m()\u001b[38;5;132;01m}\u001b[39;00m\u001b[33m]\u001b[39m\u001b[33m\"\u001b[39m, *valores, sep=sep, end=end)\n",
      "\u001b[31mAttributeError\u001b[39m: module 'datetime' has no attribute 'now'"
     ]
    }
   ],
   "source": [
    "import datetime\n",
    "\n",
    "def debug(*valores, sep=\" \", end=\"\\n\"):\n",
    "    print(f\"[DEBUG {datetime.now}]\", *valores, sep=sep, end=end)\n",
    "\n",
    "debug(\"Todo Ok\")\n"
   ]
  },
  {
   "cell_type": "code",
   "execution_count": null,
   "id": "661ba3d3",
   "metadata": {},
   "outputs": [],
   "source": []
  },
  {
   "cell_type": "code",
   "execution_count": 33,
   "id": "ccf4fad0",
   "metadata": {},
   "outputs": [
    {
     "name": "stdout",
     "output_type": "stream",
     "text": [
      "<html>\n",
      "  <head title=\"Agenda\"></head>\n",
      "  <body>\n",
      "    <main>\n",
      "      <h1>Lista de clientes</h1>\n",
      "      <div>Contenido de la agenda</div>\n",
      "      <div>\n",
      "        <span>uno</span>\n",
      "        <span>Dos</span>\n",
      "      </div>\n",
      "    </main>\n",
      "  </body>\n",
      "</html>\n"
     ]
    }
   ],
   "source": [
    "class Nodo:\n",
    "    nivel = 0\n",
    "    def __init__(self, tag=None, *children, **atributos):\n",
    "        self.tag = tag\n",
    "        self.children = children\n",
    "        self.atributos = atributos\n",
    "\n",
    "    def to_html(self, indent=0, indent_str='  '):\n",
    "        pad = indent_str * indent\n",
    "        # Texto plano (nodo sin tag): mostrar hijos inline\n",
    "        if self.tag is None:\n",
    "            parts = []\n",
    "            for c in self.children:\n",
    "                if isinstance(c, Nodo):\n",
    "                    parts.append(c.to_html(indent, indent_str).lstrip())\n",
    "                else:\n",
    "                    parts.append(str(c))\n",
    "            return pad + ''.join(parts)\n",
    "\n",
    "        # Atributos serializados\n",
    "        attrs = ''\n",
    "        if self.atributos:\n",
    "            attrs = ' ' + ' '.join(f'{k}=\"{v}\"' for k, v in self.atributos.items())\n",
    "\n",
    "        open_tag = f\"{pad}<{self.tag}{attrs}>\"\n",
    "\n",
    "        # Si no hay hijos, tag vacío en una línea\n",
    "        if not self.children:\n",
    "            return f\"{open_tag}</{self.tag}>\"\n",
    "\n",
    "        # Si todos los hijos son texto simple, ponerlos en la misma línea (opcional)\n",
    "        only_text = all(not isinstance(c, Nodo) for c in self.children)\n",
    "\n",
    "        if only_text:\n",
    "            inner = ''.join(str(c) for c in self.children)\n",
    "            return f\"{open_tag}{inner}</{self.tag}>\"\n",
    "\n",
    "        # Si hay nodos hijos, indentar cada uno en su línea\n",
    "        lines = [open_tag]\n",
    "        for c in self.children:\n",
    "            if isinstance(c, Nodo):\n",
    "                lines.append(c.to_html(indent + 1, indent_str))\n",
    "            else:\n",
    "                lines.append(f\"{indent_str * (indent + 1)}{str(c)}\")\n",
    "        lines.append(f\"{pad}</{self.tag}>\")\n",
    "        return '\\n'.join(lines)\n",
    "\n",
    "    def __str__(self):\n",
    "        return self.to_html()\n",
    "\n",
    "def Div(*children, **atributos):  return Nodo('div',  *children, **atributos)\n",
    "def Span(*children, **atributos): return Nodo('span', *children, **atributos)\n",
    "def Html(*children, **atributos): return Nodo('html', *children, **atributos)\n",
    "def Head(*children, **atributos): return Nodo('head', *children, **atributos)\n",
    "def Body(*children, **atributos): return Nodo('body', *children, **atributos)\n",
    "def Main(*children, **atributos): return Nodo('main', *children, **atributos)\n",
    "def A(*children, **atributos):    return Nodo('a',    *children, **atributos)\n",
    "def H1(*children, **atributos):   return Nodo('h1',   *children, **atributos)\n",
    "def H2(*children, **atributos):   return Nodo('h2',   *children, **atributos)\n",
    "\n",
    "a = Html(\n",
    "        Head(title=\"Agenda\"),\n",
    "        Body(\n",
    "            Main(\n",
    "                H1(\"Lista de clientes\"),\n",
    "                Div(\"Contenido de la agenda\"),\n",
    "                Div(Span(\"uno\"), Span(\"Dos\"))\n",
    "            )\n",
    "        )\n",
    ")\n",
    "print(a.to_html())\n"
   ]
  },
  {
   "cell_type": "code",
   "execution_count": 28,
   "id": "a8b61a74",
   "metadata": {},
   "outputs": [],
   "source": [
    "def mostrar(nombre, apellido=\"Perez\", edad=18):\n",
    "    print(f\"Nombre: {nombre}, Apellido: {apellido}, Edad: {edad}\")\n",
    "\n",
    "# mostrar(edad=25, apellido=\"Gomez\")"
   ]
  },
  {
   "cell_type": "code",
   "execution_count": 78,
   "id": "5e22faea",
   "metadata": {},
   "outputs": [
    {
     "name": "stdout",
     "output_type": "stream",
     "text": [
      "{'ciudad': 'Buenos Aires', 'profesion': 'Ingeniera'}\n",
      "Nombre: Ana, Apellido: Perez, Edad: 18\n",
      "ciudad: Buenos Aires\n",
      "profesion: Ingeniera\n"
     ]
    }
   ],
   "source": [
    "def mostrar(nombre, apellido=\"Perez\", edad=18, **valores):\n",
    "    print(valores)\n",
    "    print(f\"Nombre: {nombre}, Apellido: {apellido}, Edad: {edad}\")\n",
    "    for clave, valor in valores.items():\n",
    "        print(f\"{clave}: {valor}\")\n",
    "\n",
    "mostrar(\"Ana\", ciudad=\"Buenos Aires\", profesion=\"Ingeniera\")"
   ]
  },
  {
   "cell_type": "code",
   "execution_count": null,
   "id": "75b5ef2c",
   "metadata": {},
   "outputs": [],
   "source": []
  },
  {
   "cell_type": "code",
   "execution_count": 84,
   "id": "9e60b848",
   "metadata": {},
   "outputs": [],
   "source": [
    "def tag(nombre, texto, **atributos):\n",
    "    print(f\"<{nombre} \", end=\"\")\n",
    "    for clave, valor in atributos.items():\n",
    "        print(f'{clave}=\"{valor}\" ', end=\"\")\n",
    "    print(f\">{texto}</{nombre}>\")\n",
    "    \n",
    "def div(texto, **atributos):\n",
    "    tag(\"div\", texto, **atributos)\n",
    "    \n",
    "def span(texto, **atributos):\n",
    "    tag(\"span\", texto, **atributos)\n",
    "    \n"
   ]
  },
  {
   "cell_type": "code",
   "execution_count": 95,
   "id": "7ab66304",
   "metadata": {},
   "outputs": [
    {
     "name": "stdout",
     "output_type": "stream",
     "text": [
      "1 <class 'int'>\n",
      "2 <class 'int'>\n",
      "3 <class 'int'>\n",
      "4 <class 'int'>\n",
      "5 <class 'int'>\n",
      "ana\n",
      "juan\n",
      "pedro\n"
     ]
    }
   ],
   "source": [
    "def convertir(x):\n",
    "    return int(x)\n",
    "\n",
    "def mapear_int(func, lista):\n",
    "    for x in lista:\n",
    "        yield func(x)\n",
    "        \n",
    "def mapear(func, lista):\n",
    "    salida = []\n",
    "    for x in lista:\n",
    "        salida.append(func(x))\n",
    "    return salida\n",
    "    \n",
    "numeros = \"1,2,3,4,5\".split(\",\")\n",
    "\n",
    "for x in mapear(int, numeros):\n",
    "    print(x, type(x))\n",
    "    \n",
    "    \n",
    "nombre = [\"Ana\", \"Juan\", \"Pedro\"]\n",
    "for x in map(str.lower, nombre):\n",
    "    print(x)\n",
    "    \n"
   ]
  },
  {
   "cell_type": "code",
   "execution_count": 5,
   "id": "9eeaa7bd",
   "metadata": {},
   "outputs": [
    {
     "name": "stdout",
     "output_type": "stream",
     "text": [
      "--- HTML como texto indentado ---\n",
      "<html>\n",
      "  <head title=\"Agenda\"></head>\n",
      "  <body>\n",
      "    <main>\n",
      "      <h1 style=\"color: red\">Lista de clientes</h1>\n",
      "      <div>Contenido de la agenda</div>\n",
      "      <div>\n",
      "        <span>uno</span>\n",
      "        <span>Dos</span>\n",
      "      </div>\n",
      "    </main>\n",
      "  </body>\n",
      "</html>\n",
      "\n",
      "--- Renderizado en Jupyter ---\n"
     ]
    }
   ],
   "source": [
    "\n",
    "class Nodo:\n",
    "    def __init__(self, etiqueta=None, *hijos, **atributos):\n",
    "        self.etiqueta = etiqueta\n",
    "        self.hijos = list(hijos)\n",
    "        self.atributos = atributos\n",
    "\n",
    "    def _serializar_atributos(self):\n",
    "        if not self.atributos:\n",
    "            return \"\"\n",
    "        partes = []\n",
    "        for clave, valor in self.atributos.items():\n",
    "            partes.append(f'{clave}=\"{valor}\"')\n",
    "        return \" \" + \" \".join(partes)\n",
    "\n",
    "    def to_html(self, nivel=0, separador='  '):\n",
    "        \"\"\"Devuelve el HTML como string con indentación legible.\"\"\"\n",
    "        sangria = separador * nivel\n",
    "\n",
    "        # Nodo texto (sin etiqueta): devolver los hijos concatenados (texto plano)\n",
    "        if self.etiqueta is None:\n",
    "            partes = []\n",
    "            for c in self.hijos:\n",
    "                partes.append(c.to_html(nivel, separador) if isinstance(c, Nodo) else str(c))\n",
    "            return sangria + ''.join(partes)\n",
    "\n",
    "        attrs = self._serializar_atributos()\n",
    "        apertura = f\"{sangria}<{self.etiqueta}{attrs}>\"\n",
    "\n",
    "        # Sin hijos: etiqueta vacía en una sola línea\n",
    "        if not self.hijos:\n",
    "            return f\"{apertura}</{self.etiqueta}>\"\n",
    "\n",
    "        # Si todos los hijos son texto (no Nodo) los ponemos en la misma línea\n",
    "        solo_texto = all(not isinstance(c, Nodo) for c in self.hijos)\n",
    "        if solo_texto:\n",
    "            contenido = ''.join(str(c) for c in self.hijos)\n",
    "            return f\"{apertura}{contenido}</{self.etiqueta}>\"\n",
    "\n",
    "        # Hijos mixtos/nodos: cada hijo en su línea con mayor indentación\n",
    "        lineas = [apertura]\n",
    "        for c in self.hijos:\n",
    "            if isinstance(c, Nodo):\n",
    "                lineas.append(c.to_html(nivel + 1, separador))\n",
    "            else:\n",
    "                lineas.append(f\"{separador * (nivel + 1)}{str(c)}\")\n",
    "        lineas.append(f\"{sangria}</{self.etiqueta}>\")\n",
    "\n",
    "        return \"\\n\".join(lineas)\n",
    "\n",
    "    def __str__(self):\n",
    "        return self.to_html()\n",
    "\n",
    "# Helpers para crear nodos de forma cómoda (nombres de etiquetas en inglés para familiaridad)\n",
    "def Div(*hijos, **atributos):  return Nodo('div',  *hijos, **atributos)\n",
    "def Span(*hijos, **atributos): return Nodo('span', *hijos, **atributos)\n",
    "def Html(*hijos, **atributos): return Nodo('html', *hijos, **atributos)\n",
    "def Head(*hijos, **atributos): return Nodo('head', *hijos, **atributos)\n",
    "def Body(*hijos, **atributos): return Nodo('body', *hijos, **atributos)\n",
    "def Main(*hijos, **atributos): return Nodo('main', *hijos, **atributos)\n",
    "def A(*hijos, **atributos):    return Nodo('a',    *hijos, **atributos)\n",
    "def H1(*hijos, **atributos):   return Nodo('h1',   *hijos, **atributos)\n",
    "def H2(*hijos, **atributos):   return Nodo('h2',   *hijos, **atributos)\n",
    "\n",
    "# Ejemplo de uso y salida con nombres en español\n",
    "muestra = Html(\n",
    "    Head(title=\"Agenda\"),\n",
    "    Body(\n",
    "        Main(\n",
    "            H1(\"Lista de clientes\", style=\"color: red\"),\n",
    "            Div(\"Contenido de la agenda\"),\n",
    "            Div(Span(\"uno\"), Span(\"Dos\"))\n",
    "        )\n",
    "    )\n",
    ")\n",
    "\n",
    "print(\"--- HTML como texto indentado ---\")\n",
    "print(muestra.to_html())\n",
    "\n",
    "# También renderizamos en el notebook como HTML\n",
    "print('\\n--- Renderizado en Jupyter ---')\n",
    "# display(HTML(muestra.to_html()))\n"
   ]
  },
  {
   "cell_type": "code",
   "execution_count": 6,
   "id": "8c5211ef",
   "metadata": {},
   "outputs": [
    {
     "name": "stdout",
     "output_type": "stream",
     "text": [
      "--- Tarjeta de contacto ---\n",
      "<div data_id=\"ana-lopez\" class=\"tarjeta\">\n",
      "  <h2>Ana López</h2>\n",
      "  <span>Email: ana@example.com</span>\n",
      "  <div style=\"font-weight: bold\">Teléfono: 11-5555-5555</div>\n",
      "</div>\n"
     ]
    },
    {
     "data": {
      "text/html": [
       "<div data_id=\"ana-lopez\" class=\"tarjeta\">\n",
       "  <h2>Ana López</h2>\n",
       "  <span>Email: ana@example.com</span>\n",
       "  <div style=\"font-weight: bold\">Teléfono: 11-5555-5555</div>\n",
       "</div>"
      ],
      "text/plain": [
       "<IPython.core.display.HTML object>"
      ]
     },
     "metadata": {},
     "output_type": "display_data"
    }
   ],
   "source": [
    "# Función que usa *l y **k para crear una tarjeta de contacto HTML\n",
    "from IPython.display import HTML, display\n",
    "\n",
    "def tarjeta_contacto(nombre, *l, **k):\n",
    "    \"\"\"Construye un contenedor HTML con datos de contacto.\n",
    "\n",
    "    *l: lista variable de bloques de contenido (str o Nodo)\n",
    "    **k: atributos del <div>, permitiendo usar class_ para evitar palabra reservada\n",
    "    \"\"\"\n",
    "    atributos = dict(k)\n",
    "    if 'class_' in atributos:\n",
    "        atributos['class'] = atributos.pop('class_')\n",
    "    contenido = [H2(nombre)]\n",
    "\n",
    "    if not l:\n",
    "        contenido.append(Span(\"Sin información adicional\"))\n",
    "    else:\n",
    "        for item in l:\n",
    "            contenido.append(item if isinstance(item, Nodo) else Span(item))\n",
    "\n",
    "    return Div(*contenido, **atributos)\n",
    "\n",
    "# Ejemplo de uso de la tarjeta con *l y **k\n",
    "ficha = tarjeta_contacto(\n",
    "    \"Ana López\",\n",
    "    \"Email: ana@example.com\",\n",
    "    Div(\"Teléfono: 11-5555-5555\", style=\"font-weight: bold\"),\n",
    "    class_=\"tarjeta\", data_id=\"ana-lopez\"\n",
    ")\n",
    "\n",
    "print(\"--- Tarjeta de contacto ---\")\n",
    "print(ficha.to_html())\n",
    "display(HTML(ficha.to_html()))\n"
   ]
  }
 ],
 "metadata": {
  "kernelspec": {
   "display_name": "Python 3",
   "language": "python",
   "name": "python3"
  },
  "language_info": {
   "codemirror_mode": {
    "name": "ipython",
    "version": 3
   },
   "file_extension": ".py",
   "mimetype": "text/x-python",
   "name": "python",
   "nbconvert_exporter": "python",
   "pygments_lexer": "ipython3",
   "version": "3.13.7"
  }
 },
 "nbformat": 4,
 "nbformat_minor": 5
}
