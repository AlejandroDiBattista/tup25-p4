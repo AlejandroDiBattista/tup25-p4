{
 "cells": [
  {
   "cell_type": "markdown",
   "id": "ba7e9a68",
   "metadata": {},
   "source": [
    "# Conexión a Supabase con SQLModel\n",
    "\n",
    "Para conectar SQLModel a Supabase necesitás:\n",
    "\n",
    "1. Instalar el driver de PostgreSQL: `uv add psycopg2-binary`\n",
    "2. Obtener tu password de Supabase\n",
    "3. Configurar la variable de entorno `SUPABASE_PASSWORD`\n",
    "\n",
    "## Pasos:\n",
    "\n",
    "```bash\n",
    "# En terminal\n",
    "export SUPABASE_PASSWORD=\"tu_password_aqui\"\n",
    "```\n",
    "\n",
    "O crear un archivo `.env`:\n",
    "```\n",
    "SUPABASE_PASSWORD=tu_password_aqui\n",
    "```\n"
   ]
  },
  {
   "cell_type": "markdown",
   "id": "fb1d0e59",
   "metadata": {
    "vscode": {
     "languageId": "python"
    }
   },
   "source": [
    "# SQLModel\n",
    "ORM Moderno basado en Pydantic y SQLAlchemy\n",
    "\n"
   ]
  },
  {
   "cell_type": "code",
   "execution_count": null,
   "id": "7469befd",
   "metadata": {},
   "outputs": [],
   "source": [
    "!uv add sqlmodel"
   ]
  },
  {
   "cell_type": "code",
   "execution_count": 1,
   "id": "caec879b",
   "metadata": {},
   "outputs": [
    {
     "name": "stdout",
     "output_type": "stream",
     "text": [
      "nombre='Ana' edad=28\n",
      "{'nombre': 'Ana', 'edad': 28}\n",
      "{\n",
      "  \"nombre\": \"Ana\",\n",
      "  \"edad\": 28\n",
      "}\n",
      "{\n",
      "  \"properties\": {\n",
      "    \"nombre\": {\n",
      "      \"title\": \"Nombre\",\n",
      "      \"type\": \"string\"\n",
      "    },\n",
      "    \"edad\": {\n",
      "      \"title\": \"Edad\",\n",
      "      \"type\": \"integer\"\n",
      "    }\n",
      "  },\n",
      "  \"required\": [\n",
      "    \"nombre\",\n",
      "    \"edad\"\n",
      "  ],\n",
      "  \"title\": \"Persona\",\n",
      "  \"type\": \"object\"\n",
      "}\n"
     ]
    }
   ],
   "source": [
    "from sqlmodel import SQLModel, Field\n",
    "import json\n",
    "\n",
    "class Persona(SQLModel):\n",
    "    nombre: str\n",
    "    edad: int\n",
    "\n",
    "p = Persona(nombre=\"Ana\", edad=28)\n",
    "print(p)\n",
    "print(p.model_dump())\n",
    "print(p.model_dump_json(indent=2))\n",
    "print(json.dumps(p.model_json_schema(), indent=2))\n",
    "\n"
   ]
  },
  {
   "cell_type": "code",
   "execution_count": 2,
   "id": "5012f24b",
   "metadata": {},
   "outputs": [
    {
     "name": "stdout",
     "output_type": "stream",
     "text": [
      "nombre='juan' email='juan@gmail.com' id=None telefono=None\n"
     ]
    }
   ],
   "source": [
    "from sqlmodel import create_engine, SQLModel, Field\n",
    "\n",
    "class Usuario(SQLModel, table=True):\n",
    "    id: int | None = Field(default=None, primary_key=True)\n",
    "    nombre: str\n",
    "    email: str  \n",
    "    telefono: str | None = None\n",
    "    \n",
    "usuario = Usuario(nombre=\"juan\", email=\"juan@gmail.com\")\n",
    "print(usuario)\n",
    "\n",
    "engine = create_engine(\"sqlite:///database.db\")\n",
    "SQLModel.metadata.create_all(engine)"
   ]
  },
  {
   "cell_type": "code",
   "execution_count": 3,
   "id": "5308960a",
   "metadata": {},
   "outputs": [
    {
     "name": "stdout",
     "output_type": "stream",
     "text": [
      "telefono=None id=1 nombre='maria' email='maria@gmail.com'\n"
     ]
    }
   ],
   "source": [
    "from sqlmodel import SQLModel, Field, Session, select\n",
    "\n",
    "with Session(engine) as db:\n",
    "    usuario = Usuario(nombre=\"maria\", email=\"maria@gmail.com\")\n",
    "    db.add(usuario)\n",
    "    db.commit()\n",
    "    db.refresh(usuario)\n",
    "    print(usuario)"
   ]
  },
  {
   "cell_type": "code",
   "execution_count": 4,
   "id": "a20c7a31",
   "metadata": {},
   "outputs": [],
   "source": [
    "f = open(\"texto.txt\", \"w\")\n",
    "f.write(\"Hola, mundo!\")\n",
    "f.close()\n",
    "\n",
    "with open(\"texto2.txt\", \"w\") as f:\n",
    "    f.write(\"Hola, mundo con contexto!\")"
   ]
  },
  {
   "cell_type": "code",
   "execution_count": 5,
   "id": "9715688e",
   "metadata": {},
   "outputs": [],
   "source": [
    "s = Session(engine)\n",
    "s.add(Usuario(nombre=\"carlos\", email=\"carlos@gmail.com\"))\n",
    "s.add(Usuario(nombre=\"luisa\", email=\"luisa@gmail.com\"))\n",
    "s.commit()"
   ]
  },
  {
   "cell_type": "code",
   "execution_count": 6,
   "id": "246d59ec",
   "metadata": {},
   "outputs": [
    {
     "name": "stdout",
     "output_type": "stream",
     "text": [
      "SELECT usuario.id, usuario.nombre, usuario.email, usuario.telefono \n",
      "FROM usuario \n",
      "WHERE usuario.nombre = :nombre_1\n",
      "telefono=None id=1 nombre='maria' email='maria@gmail.com'\n"
     ]
    }
   ],
   "source": [
    "s = Session(engine)\n",
    "statement = select(Usuario).where(Usuario.nombre == \"maria\")\n",
    "print(statement)\n",
    "for u in s.exec(statement):\n",
    "    print(u)"
   ]
  },
  {
   "cell_type": "code",
   "execution_count": 16,
   "id": "240a7185",
   "metadata": {},
   "outputs": [
    {
     "name": "stdout",
     "output_type": "stream",
     "text": [
      "nombre='maria' email='maria@gmail.com' id=1 telefono=None\n",
      "nombre='maria' email='maria@gmail.com' id=2 telefono=None\n",
      "nombre='carlos' email='carlos@gmail.com' id=3 telefono=None\n",
      "nombre='luisa' email='luisa@gmail.com' id=4 telefono=None\n",
      "nombre='carlos' email='carlos@gmail.com' id=5 telefono=None\n",
      "nombre='luisa' email='luisa@gmail.com' id=6 telefono=None\n"
     ]
    }
   ],
   "source": [
    "with Session(engine) as db:\n",
    "    usuarios = db.exec(select(Usuario)).all()\n",
    "    for usuario in usuarios:\n",
    "        print(usuario)"
   ]
  },
  {
   "cell_type": "code",
   "execution_count": null,
   "id": "b31b9db4",
   "metadata": {},
   "outputs": [
    {
     "name": "stdout",
     "output_type": "stream",
     "text": [
      "nombre='luisa' email='luisa@gmail.com' id=4 telefono=None\n"
     ]
    }
   ],
   "source": [
    "with Session(engine) as db:\n",
    "    # Usando get() - más directo para obtener por clave primaria\n",
    "    usuario = db.get(Usuario, 4)\n",
    "    print(f\"Usuario con ID 4: {usuario}\")\n",
    "\n",
    "    # Comparación con el método anterior (select + where + first)\n",
    "    usuario_select = db.exec(select(Usuario).where(Usuario.id == 4)).first()\n",
    "    print(f\"Usuario con select: {usuario_select}\")\n",
    "\n",
    "    # Intentar obtener un usuario que no existe\n",
    "    usuario_inexistente = db.get(Usuario, 999)\n",
    "    print(f\"Usuario inexistente: {usuario_inexistente}\")\n",
    "    \n"
   ]
  },
  {
   "cell_type": "code",
   "execution_count": 8,
   "id": "22df196f",
   "metadata": {
    "language_info": {
     "name": "polyglot-notebook"
    },
    "polyglot_notebook": {
     "kernelName": "csharp"
    }
   },
   "outputs": [
    {
     "name": "stdout",
     "output_type": "stream",
     "text": [
      "Usuario guardado: None\n",
      "Fin del programa\n"
     ]
    }
   ],
   "source": [
    "from contextlib import contextmanager\n",
    "\n",
    "@contextmanager\n",
    "def registrar():\n",
    "    session = Session(engine)\n",
    "    try:\n",
    "        yield session   \n",
    "        session.commit()    \n",
    "        print(\"Commit exitoso\")\n",
    "    except Exception as e:\n",
    "        session.rollback()\n",
    "        print(f\"Error, se hizo rollback: {e}\")\n",
    "        raise\n",
    "    finally:\n",
    "        session.close()\n",
    "            \n",
    "@contextmanager\n",
    "def leer(selector):\n",
    "    with Session(engine) as session:\n",
    "        try:\n",
    "            result = session.exec(selector)\n",
    "            yield result\n",
    "        except Exception as e:\n",
    "            print(f\"Error al leer: {e}\")\n",
    "            raise\n",
    "        \n",
    "# Verificar que se guardó\n",
    "with leer(select(Usuario).where(Usuario.nombre == \"pedro\")) as db:\n",
    "    pedro = db.first()\n",
    "    print(f\"Usuario guardado: {pedro}\")\n",
    "\n",
    "print(\"Fin del programa\")"
   ]
  },
  {
   "cell_type": "markdown",
   "id": "f2b34d43",
   "metadata": {},
   "source": [
    "## Modelo de Factura con Items\n",
    "\n",
    "Vamos a crear un sistema de facturación con múltiples items usando relaciones entre tablas."
   ]
  },
  {
   "cell_type": "code",
   "execution_count": 6,
   "id": "ea16b765",
   "metadata": {},
   "outputs": [
    {
     "name": "stdout",
     "output_type": "stream",
     "text": [
      "✅ Modelos de Factura e ItemFactura creados\n"
     ]
    }
   ],
   "source": [
    "from sqlmodel import SQLModel, Field, Relationship, create_engine, Session, select\n",
    "from datetime import datetime\n",
    "from typing import Optional\n",
    "\n",
    "# Modelo para la Factura (cabecera)\n",
    "class Factura(SQLModel, table=True):\n",
    "    __tablename__ = \"facturas\"\n",
    "    \n",
    "    id: Optional[int] = Field(default=None, primary_key=True)\n",
    "    numero: str = Field(index=True, unique=True)\n",
    "    cliente: str\n",
    "    fecha: datetime = Field(default_factory=datetime.now)\n",
    "    observaciones: Optional[str] = None\n",
    "    \n",
    "    # Relación con los items (uno a muchos)\n",
    "    items: list[\"ItemFactura\"] = Relationship(back_populates=\"factura\")\n",
    "    \n",
    "    @property\n",
    "    def total(self) -> float:\n",
    "        \"\"\"Calcula el total de la factura sumando todos los items\"\"\"\n",
    "        return sum(item.subtotal for item in self.items)\n",
    "    \n",
    "    def __repr__(self):\n",
    "        return f\"Factura(numero={self.numero}, cliente={self.cliente}, total=${self.total:.2f})\"\n",
    "\n",
    "\n",
    "# Modelo para cada Item de la Factura\n",
    "class ItemFactura(SQLModel, table=True):\n",
    "    __tablename__ = \"items_factura\"\n",
    "    \n",
    "    id: Optional[int] = Field(default=None, primary_key=True)\n",
    "    factura_id: int = Field(foreign_key=\"facturas.id\")\n",
    "    producto: str\n",
    "    descripcion: Optional[str] = None\n",
    "    cantidad: int\n",
    "    precio_unitario: float\n",
    "    \n",
    "    # Relación con la factura\n",
    "    factura: Optional[Factura] = Relationship(back_populates=\"items\")\n",
    "    \n",
    "    @property\n",
    "    def subtotal(self) -> float:\n",
    "        \"\"\"Calcula el subtotal del item\"\"\"\n",
    "        return self.cantidad * self.precio_unitario\n",
    "    \n",
    "    def __repr__(self):\n",
    "        return f\"Item(producto={self.producto}, cantidad={self.cantidad}, subtotal=${self.subtotal:.2f})\"\n",
    "\n",
    "print(\"✅ Modelos de Factura e ItemFactura creados\")"
   ]
  },
  {
   "cell_type": "code",
   "execution_count": 7,
   "id": "dfb4d58e",
   "metadata": {},
   "outputs": [
    {
     "name": "stdout",
     "output_type": "stream",
     "text": [
      "✅ Base de datos 'facturas.db' creada con las tablas\n"
     ]
    }
   ],
   "source": [
    "from sqlmodel import create_engine, SQLModel\n",
    "# Crear la base de datos y las tablas\n",
    "engine_factura = create_engine(\"sqlite:///facturas.db\")\n",
    "SQLModel.metadata.create_all(engine_factura)\n",
    "\n",
    "print(\"✅ Base de datos 'facturas.db' creada con las tablas\")"
   ]
  },
  {
   "cell_type": "markdown",
   "id": "5009f4b4",
   "metadata": {},
   "source": [
    "### Crear una factura con items\n",
    "\n",
    "Ejemplo de cómo crear una factura completa con múltiples items."
   ]
  },
  {
   "cell_type": "code",
   "execution_count": null,
   "id": "287dcaa5",
   "metadata": {},
   "outputs": [
    {
     "name": "stdout",
     "output_type": "stream",
     "text": [
      "✅ Factura creada: numero='FAC-001' cliente='Acme Corporation' observaciones='Pago en 30 días' id=1 fecha=datetime.datetime(2025, 10, 21, 3, 36, 17, 609422)\n",
      "\n",
      "Items:\n",
      "  - producto='Laptop Dell XPS 15' factura_id=1 cantidad=2 descripcion='Intel i7, 16GB RAM, 512GB SSD' id=1 precio_unitario=1500.0\n",
      "  - producto='Mouse Logitech MX Master' factura_id=1 cantidad=2 descripcion='Ergonómico, inalámbrico' id=2 precio_unitario=99.99\n",
      "  - producto='Teclado mecánico' factura_id=1 cantidad=2 descripcion='Switches Cherry MX Blue' id=3 precio_unitario=150.0\n"
     ]
    }
   ],
   "source": [
    "with Session(engine_factura) as db:\n",
    "    # Crear una nueva factura\n",
    "    factura = Factura(\n",
    "        numero=\"FAC-001\",\n",
    "        cliente=\"Acme Corporation\",\n",
    "        observaciones=\"Pago en 30 días\"\n",
    "    )\n",
    "    \n",
    "    # Agregar items a la factura\n",
    "    item1 = ItemFactura(\n",
    "        producto=\"Laptop Dell XPS 15\",\n",
    "        descripcion=\"Intel i7, 16GB RAM, 512GB SSD\",\n",
    "        cantidad=2,\n",
    "        precio_unitario=1500.00,\n",
    "        factura=factura\n",
    "    ) # type: ignore\n",
    "    \n",
    "    item2 = ItemFactura(\n",
    "        producto=\"Mouse Logitech MX Master\",\n",
    "        descripcion=\"Ergonómico, inalámbrico\",\n",
    "        cantidad=2,\n",
    "        precio_unitario=99.99,\n",
    "        factura=factura\n",
    "    ) # type: ignore\n",
    "    \n",
    "    item3 = ItemFactura(\n",
    "        producto=\"Teclado mecánico\",\n",
    "        descripcion=\"Switches Cherry MX Blue\",\n",
    "        cantidad=2,\n",
    "        precio_unitario=150.00,\n",
    "        factura=factura\n",
    "    ) # pyright: ignore[reportCallIssue]\n",
    "    \n",
    "    # Agregar la factura a la sesión (los items se agregan automáticamente)\n",
    "    db.add(factura)\n",
    "    db.commit()\n",
    "    db.refresh(factura)\n",
    "    \n",
    "    print(f\"✅ Factura creada: {factura}\")\n",
    "    print(f\"\\nItems:\")\n",
    "    for item in factura.items:\n",
    "        print(f\"  - {item}\")"
   ]
  },
  {
   "cell_type": "code",
   "execution_count": 14,
   "id": "98b9c893",
   "metadata": {},
   "outputs": [
    {
     "ename": "IntegrityError",
     "evalue": "(sqlite3.IntegrityError) UNIQUE constraint failed: facturas.numero\n[SQL: INSERT INTO facturas (numero, cliente, fecha, observaciones) VALUES (?, ?, ?, ?)]\n[parameters: ('FAC-002', 'TechStart Solutions', '2025-10-21 03:37:52.545599', None)]\n(Background on this error at: https://sqlalche.me/e/20/gkpj)",
     "output_type": "error",
     "traceback": [
      "\u001b[31m---------------------------------------------------------------------------\u001b[39m",
      "\u001b[31mIntegrityError\u001b[39m                            Traceback (most recent call last)",
      "\u001b[36mFile \u001b[39m\u001b[32m/opt/homebrew/lib/python3.13/site-packages/sqlalchemy/engine/base.py:1967\u001b[39m, in \u001b[36mConnection._exec_single_context\u001b[39m\u001b[34m(self, dialect, context, statement, parameters)\u001b[39m\n\u001b[32m   1966\u001b[39m     \u001b[38;5;28;01mif\u001b[39;00m \u001b[38;5;129;01mnot\u001b[39;00m evt_handled:\n\u001b[32m-> \u001b[39m\u001b[32m1967\u001b[39m         \u001b[38;5;28;43mself\u001b[39;49m\u001b[43m.\u001b[49m\u001b[43mdialect\u001b[49m\u001b[43m.\u001b[49m\u001b[43mdo_execute\u001b[49m\u001b[43m(\u001b[49m\n\u001b[32m   1968\u001b[39m \u001b[43m            \u001b[49m\u001b[43mcursor\u001b[49m\u001b[43m,\u001b[49m\u001b[43m \u001b[49m\u001b[43mstr_statement\u001b[49m\u001b[43m,\u001b[49m\u001b[43m \u001b[49m\u001b[43meffective_parameters\u001b[49m\u001b[43m,\u001b[49m\u001b[43m \u001b[49m\u001b[43mcontext\u001b[49m\n\u001b[32m   1969\u001b[39m \u001b[43m        \u001b[49m\u001b[43m)\u001b[49m\n\u001b[32m   1971\u001b[39m \u001b[38;5;28;01mif\u001b[39;00m \u001b[38;5;28mself\u001b[39m._has_events \u001b[38;5;129;01mor\u001b[39;00m \u001b[38;5;28mself\u001b[39m.engine._has_events:\n",
      "\u001b[36mFile \u001b[39m\u001b[32m/opt/homebrew/lib/python3.13/site-packages/sqlalchemy/engine/default.py:951\u001b[39m, in \u001b[36mDefaultDialect.do_execute\u001b[39m\u001b[34m(self, cursor, statement, parameters, context)\u001b[39m\n\u001b[32m    950\u001b[39m \u001b[38;5;28;01mdef\u001b[39;00m\u001b[38;5;250m \u001b[39m\u001b[34mdo_execute\u001b[39m(\u001b[38;5;28mself\u001b[39m, cursor, statement, parameters, context=\u001b[38;5;28;01mNone\u001b[39;00m):\n\u001b[32m--> \u001b[39m\u001b[32m951\u001b[39m     \u001b[43mcursor\u001b[49m\u001b[43m.\u001b[49m\u001b[43mexecute\u001b[49m\u001b[43m(\u001b[49m\u001b[43mstatement\u001b[49m\u001b[43m,\u001b[49m\u001b[43m \u001b[49m\u001b[43mparameters\u001b[49m\u001b[43m)\u001b[49m\n",
      "\u001b[31mIntegrityError\u001b[39m: UNIQUE constraint failed: facturas.numero",
      "\nThe above exception was the direct cause of the following exception:\n",
      "\u001b[31mIntegrityError\u001b[39m                            Traceback (most recent call last)",
      "\u001b[36mCell\u001b[39m\u001b[36m \u001b[39m\u001b[32mIn[14]\u001b[39m\u001b[32m, line 31\u001b[39m\n\u001b[32m      8\u001b[39m items = [\n\u001b[32m      9\u001b[39m     ItemFactura(\n\u001b[32m     10\u001b[39m         producto=\u001b[33m\"\u001b[39m\u001b[33mMonitor 27\u001b[39m\u001b[38;5;130;01m\\\"\u001b[39;00m\u001b[33m 4K\u001b[39m\u001b[33m\"\u001b[39m,\n\u001b[32m   (...)\u001b[39m\u001b[32m     27\u001b[39m     ),\n\u001b[32m     28\u001b[39m ]\n\u001b[32m     30\u001b[39m db.add(factura2)\n\u001b[32m---> \u001b[39m\u001b[32m31\u001b[39m \u001b[43mdb\u001b[49m\u001b[43m.\u001b[49m\u001b[43mcommit\u001b[49m\u001b[43m(\u001b[49m\u001b[43m)\u001b[49m\n\u001b[32m     32\u001b[39m db.refresh(factura2)\n\u001b[32m     34\u001b[39m \u001b[38;5;28mprint\u001b[39m(\u001b[33mf\u001b[39m\u001b[33m\"\u001b[39m\u001b[33m✅ Segunda factura creada: \u001b[39m\u001b[38;5;132;01m{\u001b[39;00mfactura2\u001b[38;5;132;01m}\u001b[39;00m\u001b[33m\"\u001b[39m)\n",
      "\u001b[36mFile \u001b[39m\u001b[32m/opt/homebrew/lib/python3.13/site-packages/sqlalchemy/orm/session.py:2030\u001b[39m, in \u001b[36mSession.commit\u001b[39m\u001b[34m(self)\u001b[39m\n\u001b[32m   2027\u001b[39m \u001b[38;5;28;01mif\u001b[39;00m trans \u001b[38;5;129;01mis\u001b[39;00m \u001b[38;5;28;01mNone\u001b[39;00m:\n\u001b[32m   2028\u001b[39m     trans = \u001b[38;5;28mself\u001b[39m._autobegin_t()\n\u001b[32m-> \u001b[39m\u001b[32m2030\u001b[39m \u001b[43mtrans\u001b[49m\u001b[43m.\u001b[49m\u001b[43mcommit\u001b[49m\u001b[43m(\u001b[49m\u001b[43m_to_root\u001b[49m\u001b[43m=\u001b[49m\u001b[38;5;28;43;01mTrue\u001b[39;49;00m\u001b[43m)\u001b[49m\n",
      "\u001b[36mFile \u001b[39m\u001b[32m<string>:2\u001b[39m, in \u001b[36mcommit\u001b[39m\u001b[34m(self, _to_root)\u001b[39m\n",
      "\u001b[36mFile \u001b[39m\u001b[32m/opt/homebrew/lib/python3.13/site-packages/sqlalchemy/orm/state_changes.py:137\u001b[39m, in \u001b[36m_StateChange.declare_states.<locals>._go\u001b[39m\u001b[34m(fn, self, *arg, **kw)\u001b[39m\n\u001b[32m    135\u001b[39m \u001b[38;5;28mself\u001b[39m._next_state = _StateChangeStates.CHANGE_IN_PROGRESS\n\u001b[32m    136\u001b[39m \u001b[38;5;28;01mtry\u001b[39;00m:\n\u001b[32m--> \u001b[39m\u001b[32m137\u001b[39m     ret_value = \u001b[43mfn\u001b[49m\u001b[43m(\u001b[49m\u001b[38;5;28;43mself\u001b[39;49m\u001b[43m,\u001b[49m\u001b[43m \u001b[49m\u001b[43m*\u001b[49m\u001b[43marg\u001b[49m\u001b[43m,\u001b[49m\u001b[43m \u001b[49m\u001b[43m*\u001b[49m\u001b[43m*\u001b[49m\u001b[43mkw\u001b[49m\u001b[43m)\u001b[49m\n\u001b[32m    138\u001b[39m \u001b[38;5;28;01mexcept\u001b[39;00m:\n\u001b[32m    139\u001b[39m     \u001b[38;5;28;01mraise\u001b[39;00m\n",
      "\u001b[36mFile \u001b[39m\u001b[32m/opt/homebrew/lib/python3.13/site-packages/sqlalchemy/orm/session.py:1311\u001b[39m, in \u001b[36mSessionTransaction.commit\u001b[39m\u001b[34m(self, _to_root)\u001b[39m\n\u001b[32m   1309\u001b[39m \u001b[38;5;28;01mif\u001b[39;00m \u001b[38;5;28mself\u001b[39m._state \u001b[38;5;129;01mis\u001b[39;00m \u001b[38;5;129;01mnot\u001b[39;00m SessionTransactionState.PREPARED:\n\u001b[32m   1310\u001b[39m     \u001b[38;5;28;01mwith\u001b[39;00m \u001b[38;5;28mself\u001b[39m._expect_state(SessionTransactionState.PREPARED):\n\u001b[32m-> \u001b[39m\u001b[32m1311\u001b[39m         \u001b[38;5;28;43mself\u001b[39;49m\u001b[43m.\u001b[49m\u001b[43m_prepare_impl\u001b[49m\u001b[43m(\u001b[49m\u001b[43m)\u001b[49m\n\u001b[32m   1313\u001b[39m \u001b[38;5;28;01mif\u001b[39;00m \u001b[38;5;28mself\u001b[39m._parent \u001b[38;5;129;01mis\u001b[39;00m \u001b[38;5;28;01mNone\u001b[39;00m \u001b[38;5;129;01mor\u001b[39;00m \u001b[38;5;28mself\u001b[39m.nested:\n\u001b[32m   1314\u001b[39m     \u001b[38;5;28;01mfor\u001b[39;00m conn, trans, should_commit, autoclose \u001b[38;5;129;01min\u001b[39;00m \u001b[38;5;28mset\u001b[39m(\n\u001b[32m   1315\u001b[39m         \u001b[38;5;28mself\u001b[39m._connections.values()\n\u001b[32m   1316\u001b[39m     ):\n",
      "\u001b[36mFile \u001b[39m\u001b[32m<string>:2\u001b[39m, in \u001b[36m_prepare_impl\u001b[39m\u001b[34m(self)\u001b[39m\n",
      "\u001b[36mFile \u001b[39m\u001b[32m/opt/homebrew/lib/python3.13/site-packages/sqlalchemy/orm/state_changes.py:137\u001b[39m, in \u001b[36m_StateChange.declare_states.<locals>._go\u001b[39m\u001b[34m(fn, self, *arg, **kw)\u001b[39m\n\u001b[32m    135\u001b[39m \u001b[38;5;28mself\u001b[39m._next_state = _StateChangeStates.CHANGE_IN_PROGRESS\n\u001b[32m    136\u001b[39m \u001b[38;5;28;01mtry\u001b[39;00m:\n\u001b[32m--> \u001b[39m\u001b[32m137\u001b[39m     ret_value = \u001b[43mfn\u001b[49m\u001b[43m(\u001b[49m\u001b[38;5;28;43mself\u001b[39;49m\u001b[43m,\u001b[49m\u001b[43m \u001b[49m\u001b[43m*\u001b[49m\u001b[43marg\u001b[49m\u001b[43m,\u001b[49m\u001b[43m \u001b[49m\u001b[43m*\u001b[49m\u001b[43m*\u001b[49m\u001b[43mkw\u001b[49m\u001b[43m)\u001b[49m\n\u001b[32m    138\u001b[39m \u001b[38;5;28;01mexcept\u001b[39;00m:\n\u001b[32m    139\u001b[39m     \u001b[38;5;28;01mraise\u001b[39;00m\n",
      "\u001b[36mFile \u001b[39m\u001b[32m/opt/homebrew/lib/python3.13/site-packages/sqlalchemy/orm/session.py:1286\u001b[39m, in \u001b[36mSessionTransaction._prepare_impl\u001b[39m\u001b[34m(self)\u001b[39m\n\u001b[32m   1284\u001b[39m     \u001b[38;5;28;01mif\u001b[39;00m \u001b[38;5;28mself\u001b[39m.session._is_clean():\n\u001b[32m   1285\u001b[39m         \u001b[38;5;28;01mbreak\u001b[39;00m\n\u001b[32m-> \u001b[39m\u001b[32m1286\u001b[39m     \u001b[38;5;28;43mself\u001b[39;49m\u001b[43m.\u001b[49m\u001b[43msession\u001b[49m\u001b[43m.\u001b[49m\u001b[43mflush\u001b[49m\u001b[43m(\u001b[49m\u001b[43m)\u001b[49m\n\u001b[32m   1287\u001b[39m \u001b[38;5;28;01melse\u001b[39;00m:\n\u001b[32m   1288\u001b[39m     \u001b[38;5;28;01mraise\u001b[39;00m exc.FlushError(\n\u001b[32m   1289\u001b[39m         \u001b[33m\"\u001b[39m\u001b[33mOver 100 subsequent flushes have occurred within \u001b[39m\u001b[33m\"\u001b[39m\n\u001b[32m   1290\u001b[39m         \u001b[33m\"\u001b[39m\u001b[33msession.commit() - is an after_flush() hook \u001b[39m\u001b[33m\"\u001b[39m\n\u001b[32m   1291\u001b[39m         \u001b[33m\"\u001b[39m\u001b[33mcreating new objects?\u001b[39m\u001b[33m\"\u001b[39m\n\u001b[32m   1292\u001b[39m     )\n",
      "\u001b[36mFile \u001b[39m\u001b[32m/opt/homebrew/lib/python3.13/site-packages/sqlalchemy/orm/session.py:4331\u001b[39m, in \u001b[36mSession.flush\u001b[39m\u001b[34m(self, objects)\u001b[39m\n\u001b[32m   4329\u001b[39m \u001b[38;5;28;01mtry\u001b[39;00m:\n\u001b[32m   4330\u001b[39m     \u001b[38;5;28mself\u001b[39m._flushing = \u001b[38;5;28;01mTrue\u001b[39;00m\n\u001b[32m-> \u001b[39m\u001b[32m4331\u001b[39m     \u001b[38;5;28;43mself\u001b[39;49m\u001b[43m.\u001b[49m\u001b[43m_flush\u001b[49m\u001b[43m(\u001b[49m\u001b[43mobjects\u001b[49m\u001b[43m)\u001b[49m\n\u001b[32m   4332\u001b[39m \u001b[38;5;28;01mfinally\u001b[39;00m:\n\u001b[32m   4333\u001b[39m     \u001b[38;5;28mself\u001b[39m._flushing = \u001b[38;5;28;01mFalse\u001b[39;00m\n",
      "\u001b[36mFile \u001b[39m\u001b[32m/opt/homebrew/lib/python3.13/site-packages/sqlalchemy/orm/session.py:4466\u001b[39m, in \u001b[36mSession._flush\u001b[39m\u001b[34m(self, objects)\u001b[39m\n\u001b[32m   4463\u001b[39m     transaction.commit()\n\u001b[32m   4465\u001b[39m \u001b[38;5;28;01mexcept\u001b[39;00m:\n\u001b[32m-> \u001b[39m\u001b[32m4466\u001b[39m \u001b[43m    \u001b[49m\u001b[38;5;28;43;01mwith\u001b[39;49;00m\u001b[43m \u001b[49m\u001b[43mutil\u001b[49m\u001b[43m.\u001b[49m\u001b[43msafe_reraise\u001b[49m\u001b[43m(\u001b[49m\u001b[43m)\u001b[49m\u001b[43m:\u001b[49m\n\u001b[32m   4467\u001b[39m \u001b[43m        \u001b[49m\u001b[43mtransaction\u001b[49m\u001b[43m.\u001b[49m\u001b[43mrollback\u001b[49m\u001b[43m(\u001b[49m\u001b[43m_capture_exception\u001b[49m\u001b[43m=\u001b[49m\u001b[38;5;28;43;01mTrue\u001b[39;49;00m\u001b[43m)\u001b[49m\n",
      "\u001b[36mFile \u001b[39m\u001b[32m/opt/homebrew/lib/python3.13/site-packages/sqlalchemy/util/langhelpers.py:224\u001b[39m, in \u001b[36msafe_reraise.__exit__\u001b[39m\u001b[34m(self, type_, value, traceback)\u001b[39m\n\u001b[32m    222\u001b[39m     \u001b[38;5;28;01massert\u001b[39;00m exc_value \u001b[38;5;129;01mis\u001b[39;00m \u001b[38;5;129;01mnot\u001b[39;00m \u001b[38;5;28;01mNone\u001b[39;00m\n\u001b[32m    223\u001b[39m     \u001b[38;5;28mself\u001b[39m._exc_info = \u001b[38;5;28;01mNone\u001b[39;00m  \u001b[38;5;66;03m# remove potential circular references\u001b[39;00m\n\u001b[32m--> \u001b[39m\u001b[32m224\u001b[39m     \u001b[38;5;28;01mraise\u001b[39;00m exc_value.with_traceback(exc_tb)\n\u001b[32m    225\u001b[39m \u001b[38;5;28;01melse\u001b[39;00m:\n\u001b[32m    226\u001b[39m     \u001b[38;5;28mself\u001b[39m._exc_info = \u001b[38;5;28;01mNone\u001b[39;00m  \u001b[38;5;66;03m# remove potential circular references\u001b[39;00m\n",
      "\u001b[36mFile \u001b[39m\u001b[32m/opt/homebrew/lib/python3.13/site-packages/sqlalchemy/orm/session.py:4427\u001b[39m, in \u001b[36mSession._flush\u001b[39m\u001b[34m(self, objects)\u001b[39m\n\u001b[32m   4425\u001b[39m \u001b[38;5;28mself\u001b[39m._warn_on_events = \u001b[38;5;28;01mTrue\u001b[39;00m\n\u001b[32m   4426\u001b[39m \u001b[38;5;28;01mtry\u001b[39;00m:\n\u001b[32m-> \u001b[39m\u001b[32m4427\u001b[39m     \u001b[43mflush_context\u001b[49m\u001b[43m.\u001b[49m\u001b[43mexecute\u001b[49m\u001b[43m(\u001b[49m\u001b[43m)\u001b[49m\n\u001b[32m   4428\u001b[39m \u001b[38;5;28;01mfinally\u001b[39;00m:\n\u001b[32m   4429\u001b[39m     \u001b[38;5;28mself\u001b[39m._warn_on_events = \u001b[38;5;28;01mFalse\u001b[39;00m\n",
      "\u001b[36mFile \u001b[39m\u001b[32m/opt/homebrew/lib/python3.13/site-packages/sqlalchemy/orm/unitofwork.py:466\u001b[39m, in \u001b[36mUOWTransaction.execute\u001b[39m\u001b[34m(self)\u001b[39m\n\u001b[32m    464\u001b[39m \u001b[38;5;28;01melse\u001b[39;00m:\n\u001b[32m    465\u001b[39m     \u001b[38;5;28;01mfor\u001b[39;00m rec \u001b[38;5;129;01min\u001b[39;00m topological.sort(\u001b[38;5;28mself\u001b[39m.dependencies, postsort_actions):\n\u001b[32m--> \u001b[39m\u001b[32m466\u001b[39m         \u001b[43mrec\u001b[49m\u001b[43m.\u001b[49m\u001b[43mexecute\u001b[49m\u001b[43m(\u001b[49m\u001b[38;5;28;43mself\u001b[39;49m\u001b[43m)\u001b[49m\n",
      "\u001b[36mFile \u001b[39m\u001b[32m/opt/homebrew/lib/python3.13/site-packages/sqlalchemy/orm/unitofwork.py:642\u001b[39m, in \u001b[36mSaveUpdateAll.execute\u001b[39m\u001b[34m(self, uow)\u001b[39m\n\u001b[32m    640\u001b[39m \u001b[38;5;129m@util\u001b[39m.preload_module(\u001b[33m\"\u001b[39m\u001b[33msqlalchemy.orm.persistence\u001b[39m\u001b[33m\"\u001b[39m)\n\u001b[32m    641\u001b[39m \u001b[38;5;28;01mdef\u001b[39;00m\u001b[38;5;250m \u001b[39m\u001b[34mexecute\u001b[39m(\u001b[38;5;28mself\u001b[39m, uow):\n\u001b[32m--> \u001b[39m\u001b[32m642\u001b[39m     \u001b[43mutil\u001b[49m\u001b[43m.\u001b[49m\u001b[43mpreloaded\u001b[49m\u001b[43m.\u001b[49m\u001b[43morm_persistence\u001b[49m\u001b[43m.\u001b[49m\u001b[43msave_obj\u001b[49m\u001b[43m(\u001b[49m\n\u001b[32m    643\u001b[39m \u001b[43m        \u001b[49m\u001b[38;5;28;43mself\u001b[39;49m\u001b[43m.\u001b[49m\u001b[43mmapper\u001b[49m\u001b[43m,\u001b[49m\n\u001b[32m    644\u001b[39m \u001b[43m        \u001b[49m\u001b[43muow\u001b[49m\u001b[43m.\u001b[49m\u001b[43mstates_for_mapper_hierarchy\u001b[49m\u001b[43m(\u001b[49m\u001b[38;5;28;43mself\u001b[39;49m\u001b[43m.\u001b[49m\u001b[43mmapper\u001b[49m\u001b[43m,\u001b[49m\u001b[43m \u001b[49m\u001b[38;5;28;43;01mFalse\u001b[39;49;00m\u001b[43m,\u001b[49m\u001b[43m \u001b[49m\u001b[38;5;28;43;01mFalse\u001b[39;49;00m\u001b[43m)\u001b[49m\u001b[43m,\u001b[49m\n\u001b[32m    645\u001b[39m \u001b[43m        \u001b[49m\u001b[43muow\u001b[49m\u001b[43m,\u001b[49m\n\u001b[32m    646\u001b[39m \u001b[43m    \u001b[49m\u001b[43m)\u001b[49m\n",
      "\u001b[36mFile \u001b[39m\u001b[32m/opt/homebrew/lib/python3.13/site-packages/sqlalchemy/orm/persistence.py:93\u001b[39m, in \u001b[36msave_obj\u001b[39m\u001b[34m(base_mapper, states, uowtransaction, single)\u001b[39m\n\u001b[32m     81\u001b[39m     update = _collect_update_commands(\n\u001b[32m     82\u001b[39m         uowtransaction, table, states_to_update\n\u001b[32m     83\u001b[39m     )\n\u001b[32m     85\u001b[39m     _emit_update_statements(\n\u001b[32m     86\u001b[39m         base_mapper,\n\u001b[32m     87\u001b[39m         uowtransaction,\n\u001b[32m   (...)\u001b[39m\u001b[32m     90\u001b[39m         update,\n\u001b[32m     91\u001b[39m     )\n\u001b[32m---> \u001b[39m\u001b[32m93\u001b[39m     \u001b[43m_emit_insert_statements\u001b[49m\u001b[43m(\u001b[49m\n\u001b[32m     94\u001b[39m \u001b[43m        \u001b[49m\u001b[43mbase_mapper\u001b[49m\u001b[43m,\u001b[49m\n\u001b[32m     95\u001b[39m \u001b[43m        \u001b[49m\u001b[43muowtransaction\u001b[49m\u001b[43m,\u001b[49m\n\u001b[32m     96\u001b[39m \u001b[43m        \u001b[49m\u001b[43mmapper\u001b[49m\u001b[43m,\u001b[49m\n\u001b[32m     97\u001b[39m \u001b[43m        \u001b[49m\u001b[43mtable\u001b[49m\u001b[43m,\u001b[49m\n\u001b[32m     98\u001b[39m \u001b[43m        \u001b[49m\u001b[43minsert\u001b[49m\u001b[43m,\u001b[49m\n\u001b[32m     99\u001b[39m \u001b[43m    \u001b[49m\u001b[43m)\u001b[49m\n\u001b[32m    101\u001b[39m _finalize_insert_update_commands(\n\u001b[32m    102\u001b[39m     base_mapper,\n\u001b[32m    103\u001b[39m     uowtransaction,\n\u001b[32m   (...)\u001b[39m\u001b[32m    119\u001b[39m     ),\n\u001b[32m    120\u001b[39m )\n",
      "\u001b[36mFile \u001b[39m\u001b[32m/opt/homebrew/lib/python3.13/site-packages/sqlalchemy/orm/persistence.py:1233\u001b[39m, in \u001b[36m_emit_insert_statements\u001b[39m\u001b[34m(base_mapper, uowtransaction, mapper, table, insert, bookkeeping, use_orm_insert_stmt, execution_options)\u001b[39m\n\u001b[32m   1227\u001b[39m     result = connection.execute(\n\u001b[32m   1228\u001b[39m         statement.values(value_params),\n\u001b[32m   1229\u001b[39m         params,\n\u001b[32m   1230\u001b[39m         execution_options=execution_options,\n\u001b[32m   1231\u001b[39m     )\n\u001b[32m   1232\u001b[39m \u001b[38;5;28;01melse\u001b[39;00m:\n\u001b[32m-> \u001b[39m\u001b[32m1233\u001b[39m     result = \u001b[43mconnection\u001b[49m\u001b[43m.\u001b[49m\u001b[43mexecute\u001b[49m\u001b[43m(\u001b[49m\n\u001b[32m   1234\u001b[39m \u001b[43m        \u001b[49m\u001b[43mstatement\u001b[49m\u001b[43m,\u001b[49m\n\u001b[32m   1235\u001b[39m \u001b[43m        \u001b[49m\u001b[43mparams\u001b[49m\u001b[43m,\u001b[49m\n\u001b[32m   1236\u001b[39m \u001b[43m        \u001b[49m\u001b[43mexecution_options\u001b[49m\u001b[43m=\u001b[49m\u001b[43mexecution_options\u001b[49m\u001b[43m,\u001b[49m\n\u001b[32m   1237\u001b[39m \u001b[43m    \u001b[49m\u001b[43m)\u001b[49m\n\u001b[32m   1239\u001b[39m primary_key = result.inserted_primary_key\n\u001b[32m   1240\u001b[39m \u001b[38;5;28;01mif\u001b[39;00m primary_key \u001b[38;5;129;01mis\u001b[39;00m \u001b[38;5;28;01mNone\u001b[39;00m:\n",
      "\u001b[36mFile \u001b[39m\u001b[32m/opt/homebrew/lib/python3.13/site-packages/sqlalchemy/engine/base.py:1419\u001b[39m, in \u001b[36mConnection.execute\u001b[39m\u001b[34m(self, statement, parameters, execution_options)\u001b[39m\n\u001b[32m   1417\u001b[39m     \u001b[38;5;28;01mraise\u001b[39;00m exc.ObjectNotExecutableError(statement) \u001b[38;5;28;01mfrom\u001b[39;00m\u001b[38;5;250m \u001b[39m\u001b[34;01merr\u001b[39;00m\n\u001b[32m   1418\u001b[39m \u001b[38;5;28;01melse\u001b[39;00m:\n\u001b[32m-> \u001b[39m\u001b[32m1419\u001b[39m     \u001b[38;5;28;01mreturn\u001b[39;00m \u001b[43mmeth\u001b[49m\u001b[43m(\u001b[49m\n\u001b[32m   1420\u001b[39m \u001b[43m        \u001b[49m\u001b[38;5;28;43mself\u001b[39;49m\u001b[43m,\u001b[49m\n\u001b[32m   1421\u001b[39m \u001b[43m        \u001b[49m\u001b[43mdistilled_parameters\u001b[49m\u001b[43m,\u001b[49m\n\u001b[32m   1422\u001b[39m \u001b[43m        \u001b[49m\u001b[43mexecution_options\u001b[49m\u001b[43m \u001b[49m\u001b[38;5;129;43;01mor\u001b[39;49;00m\u001b[43m \u001b[49m\u001b[43mNO_OPTIONS\u001b[49m\u001b[43m,\u001b[49m\n\u001b[32m   1423\u001b[39m \u001b[43m    \u001b[49m\u001b[43m)\u001b[49m\n",
      "\u001b[36mFile \u001b[39m\u001b[32m/opt/homebrew/lib/python3.13/site-packages/sqlalchemy/sql/elements.py:526\u001b[39m, in \u001b[36mClauseElement._execute_on_connection\u001b[39m\u001b[34m(self, connection, distilled_params, execution_options)\u001b[39m\n\u001b[32m    524\u001b[39m     \u001b[38;5;28;01mif\u001b[39;00m TYPE_CHECKING:\n\u001b[32m    525\u001b[39m         \u001b[38;5;28;01massert\u001b[39;00m \u001b[38;5;28misinstance\u001b[39m(\u001b[38;5;28mself\u001b[39m, Executable)\n\u001b[32m--> \u001b[39m\u001b[32m526\u001b[39m     \u001b[38;5;28;01mreturn\u001b[39;00m \u001b[43mconnection\u001b[49m\u001b[43m.\u001b[49m\u001b[43m_execute_clauseelement\u001b[49m\u001b[43m(\u001b[49m\n\u001b[32m    527\u001b[39m \u001b[43m        \u001b[49m\u001b[38;5;28;43mself\u001b[39;49m\u001b[43m,\u001b[49m\u001b[43m \u001b[49m\u001b[43mdistilled_params\u001b[49m\u001b[43m,\u001b[49m\u001b[43m \u001b[49m\u001b[43mexecution_options\u001b[49m\n\u001b[32m    528\u001b[39m \u001b[43m    \u001b[49m\u001b[43m)\u001b[49m\n\u001b[32m    529\u001b[39m \u001b[38;5;28;01melse\u001b[39;00m:\n\u001b[32m    530\u001b[39m     \u001b[38;5;28;01mraise\u001b[39;00m exc.ObjectNotExecutableError(\u001b[38;5;28mself\u001b[39m)\n",
      "\u001b[36mFile \u001b[39m\u001b[32m/opt/homebrew/lib/python3.13/site-packages/sqlalchemy/engine/base.py:1641\u001b[39m, in \u001b[36mConnection._execute_clauseelement\u001b[39m\u001b[34m(self, elem, distilled_parameters, execution_options)\u001b[39m\n\u001b[32m   1629\u001b[39m compiled_cache: Optional[CompiledCacheType] = execution_options.get(\n\u001b[32m   1630\u001b[39m     \u001b[33m\"\u001b[39m\u001b[33mcompiled_cache\u001b[39m\u001b[33m\"\u001b[39m, \u001b[38;5;28mself\u001b[39m.engine._compiled_cache\n\u001b[32m   1631\u001b[39m )\n\u001b[32m   1633\u001b[39m compiled_sql, extracted_params, cache_hit = elem._compile_w_cache(\n\u001b[32m   1634\u001b[39m     dialect=dialect,\n\u001b[32m   1635\u001b[39m     compiled_cache=compiled_cache,\n\u001b[32m   (...)\u001b[39m\u001b[32m   1639\u001b[39m     linting=\u001b[38;5;28mself\u001b[39m.dialect.compiler_linting | compiler.WARN_LINTING,\n\u001b[32m   1640\u001b[39m )\n\u001b[32m-> \u001b[39m\u001b[32m1641\u001b[39m ret = \u001b[38;5;28;43mself\u001b[39;49m\u001b[43m.\u001b[49m\u001b[43m_execute_context\u001b[49m\u001b[43m(\u001b[49m\n\u001b[32m   1642\u001b[39m \u001b[43m    \u001b[49m\u001b[43mdialect\u001b[49m\u001b[43m,\u001b[49m\n\u001b[32m   1643\u001b[39m \u001b[43m    \u001b[49m\u001b[43mdialect\u001b[49m\u001b[43m.\u001b[49m\u001b[43mexecution_ctx_cls\u001b[49m\u001b[43m.\u001b[49m\u001b[43m_init_compiled\u001b[49m\u001b[43m,\u001b[49m\n\u001b[32m   1644\u001b[39m \u001b[43m    \u001b[49m\u001b[43mcompiled_sql\u001b[49m\u001b[43m,\u001b[49m\n\u001b[32m   1645\u001b[39m \u001b[43m    \u001b[49m\u001b[43mdistilled_parameters\u001b[49m\u001b[43m,\u001b[49m\n\u001b[32m   1646\u001b[39m \u001b[43m    \u001b[49m\u001b[43mexecution_options\u001b[49m\u001b[43m,\u001b[49m\n\u001b[32m   1647\u001b[39m \u001b[43m    \u001b[49m\u001b[43mcompiled_sql\u001b[49m\u001b[43m,\u001b[49m\n\u001b[32m   1648\u001b[39m \u001b[43m    \u001b[49m\u001b[43mdistilled_parameters\u001b[49m\u001b[43m,\u001b[49m\n\u001b[32m   1649\u001b[39m \u001b[43m    \u001b[49m\u001b[43melem\u001b[49m\u001b[43m,\u001b[49m\n\u001b[32m   1650\u001b[39m \u001b[43m    \u001b[49m\u001b[43mextracted_params\u001b[49m\u001b[43m,\u001b[49m\n\u001b[32m   1651\u001b[39m \u001b[43m    \u001b[49m\u001b[43mcache_hit\u001b[49m\u001b[43m=\u001b[49m\u001b[43mcache_hit\u001b[49m\u001b[43m,\u001b[49m\n\u001b[32m   1652\u001b[39m \u001b[43m\u001b[49m\u001b[43m)\u001b[49m\n\u001b[32m   1653\u001b[39m \u001b[38;5;28;01mif\u001b[39;00m has_events:\n\u001b[32m   1654\u001b[39m     \u001b[38;5;28mself\u001b[39m.dispatch.after_execute(\n\u001b[32m   1655\u001b[39m         \u001b[38;5;28mself\u001b[39m,\n\u001b[32m   1656\u001b[39m         elem,\n\u001b[32m   (...)\u001b[39m\u001b[32m   1660\u001b[39m         ret,\n\u001b[32m   1661\u001b[39m     )\n",
      "\u001b[36mFile \u001b[39m\u001b[32m/opt/homebrew/lib/python3.13/site-packages/sqlalchemy/engine/base.py:1846\u001b[39m, in \u001b[36mConnection._execute_context\u001b[39m\u001b[34m(self, dialect, constructor, statement, parameters, execution_options, *args, **kw)\u001b[39m\n\u001b[32m   1844\u001b[39m     \u001b[38;5;28;01mreturn\u001b[39;00m \u001b[38;5;28mself\u001b[39m._exec_insertmany_context(dialect, context)\n\u001b[32m   1845\u001b[39m \u001b[38;5;28;01melse\u001b[39;00m:\n\u001b[32m-> \u001b[39m\u001b[32m1846\u001b[39m     \u001b[38;5;28;01mreturn\u001b[39;00m \u001b[38;5;28;43mself\u001b[39;49m\u001b[43m.\u001b[49m\u001b[43m_exec_single_context\u001b[49m\u001b[43m(\u001b[49m\n\u001b[32m   1847\u001b[39m \u001b[43m        \u001b[49m\u001b[43mdialect\u001b[49m\u001b[43m,\u001b[49m\u001b[43m \u001b[49m\u001b[43mcontext\u001b[49m\u001b[43m,\u001b[49m\u001b[43m \u001b[49m\u001b[43mstatement\u001b[49m\u001b[43m,\u001b[49m\u001b[43m \u001b[49m\u001b[43mparameters\u001b[49m\n\u001b[32m   1848\u001b[39m \u001b[43m    \u001b[49m\u001b[43m)\u001b[49m\n",
      "\u001b[36mFile \u001b[39m\u001b[32m/opt/homebrew/lib/python3.13/site-packages/sqlalchemy/engine/base.py:1986\u001b[39m, in \u001b[36mConnection._exec_single_context\u001b[39m\u001b[34m(self, dialect, context, statement, parameters)\u001b[39m\n\u001b[32m   1983\u001b[39m     result = context._setup_result_proxy()\n\u001b[32m   1985\u001b[39m \u001b[38;5;28;01mexcept\u001b[39;00m \u001b[38;5;167;01mBaseException\u001b[39;00m \u001b[38;5;28;01mas\u001b[39;00m e:\n\u001b[32m-> \u001b[39m\u001b[32m1986\u001b[39m     \u001b[38;5;28;43mself\u001b[39;49m\u001b[43m.\u001b[49m\u001b[43m_handle_dbapi_exception\u001b[49m\u001b[43m(\u001b[49m\n\u001b[32m   1987\u001b[39m \u001b[43m        \u001b[49m\u001b[43me\u001b[49m\u001b[43m,\u001b[49m\u001b[43m \u001b[49m\u001b[43mstr_statement\u001b[49m\u001b[43m,\u001b[49m\u001b[43m \u001b[49m\u001b[43meffective_parameters\u001b[49m\u001b[43m,\u001b[49m\u001b[43m \u001b[49m\u001b[43mcursor\u001b[49m\u001b[43m,\u001b[49m\u001b[43m \u001b[49m\u001b[43mcontext\u001b[49m\n\u001b[32m   1988\u001b[39m \u001b[43m    \u001b[49m\u001b[43m)\u001b[49m\n\u001b[32m   1990\u001b[39m \u001b[38;5;28;01mreturn\u001b[39;00m result\n",
      "\u001b[36mFile \u001b[39m\u001b[32m/opt/homebrew/lib/python3.13/site-packages/sqlalchemy/engine/base.py:2355\u001b[39m, in \u001b[36mConnection._handle_dbapi_exception\u001b[39m\u001b[34m(self, e, statement, parameters, cursor, context, is_sub_exec)\u001b[39m\n\u001b[32m   2353\u001b[39m \u001b[38;5;28;01melif\u001b[39;00m should_wrap:\n\u001b[32m   2354\u001b[39m     \u001b[38;5;28;01massert\u001b[39;00m sqlalchemy_exception \u001b[38;5;129;01mis\u001b[39;00m \u001b[38;5;129;01mnot\u001b[39;00m \u001b[38;5;28;01mNone\u001b[39;00m\n\u001b[32m-> \u001b[39m\u001b[32m2355\u001b[39m     \u001b[38;5;28;01mraise\u001b[39;00m sqlalchemy_exception.with_traceback(exc_info[\u001b[32m2\u001b[39m]) \u001b[38;5;28;01mfrom\u001b[39;00m\u001b[38;5;250m \u001b[39m\u001b[34;01me\u001b[39;00m\n\u001b[32m   2356\u001b[39m \u001b[38;5;28;01melse\u001b[39;00m:\n\u001b[32m   2357\u001b[39m     \u001b[38;5;28;01massert\u001b[39;00m exc_info[\u001b[32m1\u001b[39m] \u001b[38;5;129;01mis\u001b[39;00m \u001b[38;5;129;01mnot\u001b[39;00m \u001b[38;5;28;01mNone\u001b[39;00m\n",
      "\u001b[36mFile \u001b[39m\u001b[32m/opt/homebrew/lib/python3.13/site-packages/sqlalchemy/engine/base.py:1967\u001b[39m, in \u001b[36mConnection._exec_single_context\u001b[39m\u001b[34m(self, dialect, context, statement, parameters)\u001b[39m\n\u001b[32m   1965\u001b[39m                 \u001b[38;5;28;01mbreak\u001b[39;00m\n\u001b[32m   1966\u001b[39m     \u001b[38;5;28;01mif\u001b[39;00m \u001b[38;5;129;01mnot\u001b[39;00m evt_handled:\n\u001b[32m-> \u001b[39m\u001b[32m1967\u001b[39m         \u001b[38;5;28;43mself\u001b[39;49m\u001b[43m.\u001b[49m\u001b[43mdialect\u001b[49m\u001b[43m.\u001b[49m\u001b[43mdo_execute\u001b[49m\u001b[43m(\u001b[49m\n\u001b[32m   1968\u001b[39m \u001b[43m            \u001b[49m\u001b[43mcursor\u001b[49m\u001b[43m,\u001b[49m\u001b[43m \u001b[49m\u001b[43mstr_statement\u001b[49m\u001b[43m,\u001b[49m\u001b[43m \u001b[49m\u001b[43meffective_parameters\u001b[49m\u001b[43m,\u001b[49m\u001b[43m \u001b[49m\u001b[43mcontext\u001b[49m\n\u001b[32m   1969\u001b[39m \u001b[43m        \u001b[49m\u001b[43m)\u001b[49m\n\u001b[32m   1971\u001b[39m \u001b[38;5;28;01mif\u001b[39;00m \u001b[38;5;28mself\u001b[39m._has_events \u001b[38;5;129;01mor\u001b[39;00m \u001b[38;5;28mself\u001b[39m.engine._has_events:\n\u001b[32m   1972\u001b[39m     \u001b[38;5;28mself\u001b[39m.dispatch.after_cursor_execute(\n\u001b[32m   1973\u001b[39m         \u001b[38;5;28mself\u001b[39m,\n\u001b[32m   1974\u001b[39m         cursor,\n\u001b[32m   (...)\u001b[39m\u001b[32m   1978\u001b[39m         context.executemany,\n\u001b[32m   1979\u001b[39m     )\n",
      "\u001b[36mFile \u001b[39m\u001b[32m/opt/homebrew/lib/python3.13/site-packages/sqlalchemy/engine/default.py:951\u001b[39m, in \u001b[36mDefaultDialect.do_execute\u001b[39m\u001b[34m(self, cursor, statement, parameters, context)\u001b[39m\n\u001b[32m    950\u001b[39m \u001b[38;5;28;01mdef\u001b[39;00m\u001b[38;5;250m \u001b[39m\u001b[34mdo_execute\u001b[39m(\u001b[38;5;28mself\u001b[39m, cursor, statement, parameters, context=\u001b[38;5;28;01mNone\u001b[39;00m):\n\u001b[32m--> \u001b[39m\u001b[32m951\u001b[39m     \u001b[43mcursor\u001b[49m\u001b[43m.\u001b[49m\u001b[43mexecute\u001b[49m\u001b[43m(\u001b[49m\u001b[43mstatement\u001b[49m\u001b[43m,\u001b[49m\u001b[43m \u001b[49m\u001b[43mparameters\u001b[49m\u001b[43m)\u001b[49m\n",
      "\u001b[31mIntegrityError\u001b[39m: (sqlite3.IntegrityError) UNIQUE constraint failed: facturas.numero\n[SQL: INSERT INTO facturas (numero, cliente, fecha, observaciones) VALUES (?, ?, ?, ?)]\n[parameters: ('FAC-002', 'TechStart Solutions', '2025-10-21 03:37:52.545599', None)]\n(Background on this error at: https://sqlalche.me/e/20/gkpj)"
     ]
    }
   ],
   "source": [
    "# Crear otra factura\n",
    "with Session(engine_factura) as db:\n",
    "    factura2 = Factura(\n",
    "        numero=\"FAC-002\",\n",
    "        cliente=\"TechStart Solutions\"\n",
    "    )\n",
    "    \n",
    "    items = [\n",
    "        ItemFactura(\n",
    "            producto=\"Monitor 27\\\" 4K\",\n",
    "            cantidad=3,\n",
    "            precio_unitario=450.00,\n",
    "            factura=factura2\n",
    "        ),\n",
    "        ItemFactura(\n",
    "            producto=\"Webcam HD\",\n",
    "            cantidad=3,\n",
    "            precio_unitario=89.99,\n",
    "            factura=factura2\n",
    "        ),\n",
    "        ItemFactura(\n",
    "            producto=\"Auriculares con micrófono\",\n",
    "            descripcion=\"Cancelación de ruido\",\n",
    "            cantidad=3,\n",
    "            precio_unitario=120.00,\n",
    "            factura=factura2\n",
    "        ),\n",
    "    ]\n",
    "    \n",
    "    db.add(factura2)\n",
    "    db.commit()\n",
    "    db.refresh(factura2)\n",
    "    \n",
    "    print(f\"✅ Segunda factura creada: {factura2}\")\n",
    "    print(f\"\\nItems:\")\n",
    "    for item in factura2.items:\n",
    "        print(f\"  - {item}\")"
   ]
  },
  {
   "cell_type": "markdown",
   "id": "3e546739",
   "metadata": {},
   "source": [
    "### Consultar facturas\n",
    "\n",
    "Veamos cómo recuperar y mostrar las facturas con sus items."
   ]
  },
  {
   "cell_type": "code",
   "execution_count": 10,
   "id": "57bf18d0",
   "metadata": {},
   "outputs": [
    {
     "name": "stdout",
     "output_type": "stream",
     "text": [
      "📋 LISTADO DE FACTURAS\n",
      "================================================================================\n",
      "\n",
      "numero='FAC-001' cliente='Acme Corporation' observaciones='Pago en 30 días' id=1 fecha=datetime.datetime(2025, 10, 21, 3, 36, 17, 609422)\n",
      "Fecha: 21/10/2025 03:36\n",
      "Observaciones: Pago en 30 días\n",
      "\n",
      "Detalle de items:\n",
      "Producto                         Cant     P.Unit     Subtotal\n",
      "--------------------------------------------------------------------------------\n",
      "Laptop Dell XPS 15                  2 $  1500.00 $    3000.00\n",
      "Mouse Logitech MX Master            2 $    99.99 $     199.98\n",
      "Teclado mecánico                    2 $   150.00 $     300.00\n",
      "--------------------------------------------------------------------------------\n",
      "TOTAL                                            $    3499.98\n",
      "================================================================================\n",
      "\n",
      "numero='FAC-002' cliente='TechStart Solutions' observaciones=None id=2 fecha=datetime.datetime(2025, 10, 21, 3, 36, 23, 953681)\n",
      "Fecha: 21/10/2025 03:36\n",
      "\n",
      "Detalle de items:\n",
      "Producto                         Cant     P.Unit     Subtotal\n",
      "--------------------------------------------------------------------------------\n",
      "Monitor 27\" 4K                      3 $   450.00 $    1350.00\n",
      "Webcam HD                           3 $    89.99 $     269.97\n",
      "Auriculares con micrófono           3 $   120.00 $     360.00\n",
      "--------------------------------------------------------------------------------\n",
      "TOTAL                                            $    1979.97\n",
      "================================================================================\n"
     ]
    }
   ],
   "source": [
    "# Listar todas las facturas\n",
    "with Session(engine_factura) as db:\n",
    "    facturas = db.exec(select(Factura)).all()\n",
    "    \n",
    "    print(\"📋 LISTADO DE FACTURAS\")\n",
    "    print(\"=\" * 80)\n",
    "    \n",
    "    for factura in facturas:\n",
    "        print(f\"\\n{factura}\")\n",
    "        print(f\"Fecha: {factura.fecha.strftime('%d/%m/%Y %H:%M')}\")\n",
    "        if factura.observaciones:\n",
    "            print(f\"Observaciones: {factura.observaciones}\")\n",
    "        print(f\"\\nDetalle de items:\")\n",
    "        print(f\"{'Producto':<30} {'Cant':>6} {'P.Unit':>10} {'Subtotal':>12}\")\n",
    "        print(\"-\" * 80)\n",
    "        \n",
    "        for item in factura.items:\n",
    "            print(f\"{item.producto:<30} {item.cantidad:>6} ${item.precio_unitario:>9.2f} ${item.subtotal:>11.2f}\")\n",
    "        \n",
    "        print(\"-\" * 80)\n",
    "        print(f\"{'TOTAL':<48} ${factura.total:>11.2f}\")\n",
    "        print(\"=\" * 80)"
   ]
  },
  {
   "cell_type": "code",
   "execution_count": 11,
   "id": "bf762b51",
   "metadata": {},
   "outputs": [
    {
     "name": "stdout",
     "output_type": "stream",
     "text": [
      "🔍 Factura encontrada: FAC-001\n",
      "Cliente: Acme Corporation\n",
      "Total: $3499.98\n",
      "Cantidad de items: 3\n"
     ]
    }
   ],
   "source": [
    "# Buscar una factura específica por número\n",
    "with Session(engine_factura) as db:\n",
    "    factura = db.exec(\n",
    "        select(Factura).where(Factura.numero == \"FAC-001\")\n",
    "    ).first()\n",
    "    \n",
    "    if factura:\n",
    "        print(f\"🔍 Factura encontrada: {factura.numero}\")\n",
    "        print(f\"Cliente: {factura.cliente}\")\n",
    "        print(f\"Total: ${factura.total:.2f}\")\n",
    "        print(f\"Cantidad de items: {len(factura.items)}\")"
   ]
  },
  {
   "cell_type": "markdown",
   "id": "879a859d",
   "metadata": {},
   "source": [
    "### Operaciones avanzadas\n",
    "\n",
    "Actualizar items, agregar nuevos items a una factura existente, y calcular estadísticas."
   ]
  },
  {
   "cell_type": "code",
   "execution_count": 12,
   "id": "04ec78ec",
   "metadata": {},
   "outputs": [
    {
     "name": "stdout",
     "output_type": "stream",
     "text": [
      "✅ Nuevo item agregado a la factura FAC-001\n",
      "Nuevo total: $3624.98\n"
     ]
    }
   ],
   "source": [
    "# Agregar un nuevo item a una factura existente\n",
    "with Session(engine_factura) as db:\n",
    "    factura = db.exec(\n",
    "        select(Factura).where(Factura.numero == \"FAC-001\")\n",
    "    ).first()\n",
    "    \n",
    "    if factura:\n",
    "        nuevo_item = ItemFactura(\n",
    "            producto=\"Cable HDMI 2.1\",\n",
    "            descripcion=\"2 metros, 4K@120Hz\",\n",
    "            cantidad=5,\n",
    "            precio_unitario=25.00,\n",
    "            factura=factura\n",
    "        )\n",
    "        \n",
    "        db.add(nuevo_item)\n",
    "        db.commit()\n",
    "        db.refresh(factura)\n",
    "        \n",
    "        print(f\"✅ Nuevo item agregado a la factura {factura.numero}\")\n",
    "        print(f\"Nuevo total: ${factura.total:.2f}\")"
   ]
  },
  {
   "cell_type": "code",
   "execution_count": 15,
   "id": "35937d3d",
   "metadata": {},
   "outputs": [
    {
     "name": "stdout",
     "output_type": "stream",
     "text": [
      "📊 ESTADÍSTICAS DEL SISTEMA\n",
      "============================================================\n",
      "Total de facturas: 2\n",
      "Total de items vendidos: 7\n",
      "Total facturado: $5604.95\n",
      "Promedio por factura: $2802.47\n",
      "============================================================\n"
     ]
    }
   ],
   "source": [
    "# Estadísticas generales\n",
    "with Session(engine_factura) as db:\n",
    "    facturas = db.exec(select(Factura)).all()\n",
    "    items = db.exec(select(ItemFactura)).all()\n",
    "    \n",
    "    total_facturado = sum(f.total for f in facturas)\n",
    "    cantidad_facturas = len(facturas)\n",
    "    cantidad_items = len(items)\n",
    "    promedio_por_factura = total_facturado / cantidad_facturas if cantidad_facturas > 0 else 0\n",
    "    \n",
    "    print(\"📊 ESTADÍSTICAS DEL SISTEMA\")\n",
    "    print(\"=\" * 60)\n",
    "    print(f\"Total de facturas: {cantidad_facturas}\")\n",
    "    print(f\"Total de items vendidos: {cantidad_items}\")\n",
    "    print(f\"Total facturado: ${total_facturado:.2f}\")\n",
    "    print(f\"Promedio por factura: ${promedio_por_factura:.2f}\")\n",
    "    print(\"=\" * 60)"
   ]
  },
  {
   "cell_type": "code",
   "execution_count": null,
   "id": "cb472d77",
   "metadata": {},
   "outputs": [],
   "source": [
    "from contextlib import contextmanager\n",
    "\n",
    "class ContactoBase(SQLModel):\n",
    "    nombre: str\n",
    "    email: str\n",
    "    telefono: Optional[str] = None\n",
    "\n",
    "class Contacto(ContactoBase, table=True):\n",
    "    id: Optional[int] = Field(default=None, primary_key=True)\n",
    "    \n",
    "class ContactoCreate(ContactoBase):\n",
    "    pass\n",
    "\n",
    "class ContactoUpdate(SQLModel):\n",
    "    nombre: Optional[str] = None\n",
    "    email: Optional[str] = None\n",
    "    telefono: Optional[str] = None\n",
    "    \n",
    "class ContactoRead(ContactoBase):\n",
    "    id: int\n",
    "\n",
    "@contextmanager\n",
    "def get_session():\n",
    "    \"\"\"\n",
    "    Generador de contexto para obtener una sesión de base de datos.\n",
    "    Hace commit automáticamente al finalizar si no hay errores.\n",
    "    Hace rollback si hay una excepción.\n",
    "    \"\"\"\n",
    "    session = Session(engine_factura)\n",
    "    try:\n",
    "        yield session\n",
    "        session.commit()  # Commit automático al finalizar\n",
    "    except Exception as e:\n",
    "        session.rollback()  # Rollback si hay error\n",
    "        raise\n",
    "    finally:\n",
    "        session.close()\n",
    "            \n",
    "class ServicioContacto:\n",
    "    \"\"\"Servicio para gestionar contactos usando el patrón Repository\"\"\"\n",
    "    \n",
    "    def crear_contacto(self, contacto_create: ContactoCreate) -> Contacto:\n",
    "        \"\"\"Crea un nuevo contacto en la base de datos\"\"\"\n",
    "        with get_session() as session:\n",
    "            nuevo_contacto = Contacto(**contacto_create.model_dump())\n",
    "            session.add(nuevo_contacto)\n",
    "            # No necesitamos commit aquí, get_session lo hace automáticamente\n",
    "            session.flush()  # Para obtener el ID asignado\n",
    "            session.refresh(nuevo_contacto)\n",
    "            return nuevo_contacto\n",
    "\n",
    "    def obtener_contacto(self, contacto_id: int) -> Optional[Contacto]:\n",
    "        \"\"\"Obtiene un contacto por su ID\"\"\"\n",
    "        with get_session() as session:\n",
    "            return session.get(Contacto, contacto_id)\n",
    "\n",
    "    def listar_contactos(self) -> list[Contacto]:\n",
    "        \"\"\"Lista todos los contactos\"\"\"\n",
    "        with get_session() as session:\n",
    "            return session.exec(select(Contacto)).all()\n",
    "\n",
    "    def actualizar_contacto(self, contacto_id: int, contacto_update: ContactoUpdate) -> Optional[Contacto]:\n",
    "        \"\"\"Actualiza un contacto existente\"\"\"\n",
    "        with get_session() as session:\n",
    "            contacto = session.get(Contacto, contacto_id)\n",
    "            if not contacto:\n",
    "                return None\n",
    "            \n",
    "            # Actualizar solo los campos que fueron proporcionados\n",
    "            for key, value in contacto_update.model_dump(exclude_unset=True).items():\n",
    "                setattr(contacto, key, value)\n",
    "\n",
    "            session.add(contacto)\n",
    "            # No necesitamos commit aquí, get_session lo hace automáticamente\n",
    "            session.flush()\n",
    "            session.refresh(contacto)\n",
    "            return contacto\n",
    "\n",
    "    def eliminar_contacto(self, contacto_id: int) -> bool:\n",
    "        \"\"\"Elimina un contacto por su ID\"\"\"\n",
    "        with get_session() as session:\n",
    "            contacto = session.get(Contacto, contacto_id)\n",
    "            if not contacto:\n",
    "                return False\n",
    "            session.delete(contacto)\n",
    "            # No necesitamos commit aquí, get_session lo hace automáticamente\n",
    "            return True    \n",
    "\n",
    "print(\"✅ Modelos y ServicioContacto refactorizados con get_session que hace commit automático\")"
   ]
  },
  {
   "cell_type": "markdown",
   "id": "ee264cb4",
   "metadata": {},
   "source": [
    "### Context Manager con Commit Automático\n",
    "\n",
    "El `get_session()` ahora funciona como un context manager completo:\n",
    "\n",
    "✅ **Commit automático**: Al salir del bloque `with` sin errores  \n",
    "✅ **Rollback automático**: Si ocurre una excepción  \n",
    "✅ **Cierre garantizado**: La sesión siempre se cierra en el `finally`  \n",
    "\n",
    "Esto simplifica el código en los métodos del servicio:\n",
    "- ❌ Ya no necesitamos `session.commit()` en cada método\n",
    "- ✅ Usamos `session.flush()` para obtener IDs antes del commit\n",
    "- ✅ Las transacciones son automáticas y seguras"
   ]
  },
  {
   "cell_type": "markdown",
   "id": "4006ba19",
   "metadata": {},
   "source": [
    "### Ejemplo de uso del ServicioContacto\n",
    "\n",
    "Vamos a probar todas las operaciones CRUD del servicio refactorizado."
   ]
  },
  {
   "cell_type": "code",
   "execution_count": null,
   "id": "9446abd3",
   "metadata": {},
   "outputs": [],
   "source": [
    "# Crear instancia del servicio (ya no necesita sesión en el constructor)\n",
    "servicio = ServicioContacto()\n",
    "\n",
    "# 1. Crear contactos\n",
    "print(\"1️⃣ Creando contactos...\")\n",
    "contacto1 = servicio.crear_contacto(\n",
    "    ContactoCreate(\n",
    "        nombre=\"Juan Pérez\",\n",
    "        email=\"juan@example.com\",\n",
    "        telefono=\"555-1234\"\n",
    "    )\n",
    ")\n",
    "print(f\"   ✅ Creado: {contacto1}\")\n",
    "\n",
    "contacto2 = servicio.crear_contacto(\n",
    "    ContactoCreate(\n",
    "        nombre=\"María González\",\n",
    "        email=\"maria@example.com\"\n",
    "    )\n",
    ")\n",
    "print(f\"   ✅ Creado: {contacto2}\")\n",
    "\n",
    "# 2. Listar todos los contactos\n",
    "print(\"\\n2️⃣ Listando todos los contactos...\")\n",
    "contactos = servicio.listar_contactos()\n",
    "for contacto in contactos:\n",
    "    print(f\"   - ID: {contacto.id} | {contacto.nombre} | {contacto.email} | Tel: {contacto.telefono or 'N/A'}\")\n",
    "\n",
    "# 3. Obtener un contacto específico\n",
    "print(f\"\\n3️⃣ Obteniendo contacto con ID {contacto1.id}...\")\n",
    "contacto_encontrado = servicio.obtener_contacto(contacto1.id)\n",
    "if contacto_encontrado:\n",
    "    print(f\"   ✅ Encontrado: {contacto_encontrado}\")\n",
    "\n",
    "# 4. Actualizar un contacto\n",
    "print(f\"\\n4️⃣ Actualizando contacto con ID {contacto2.id}...\")\n",
    "contacto_actualizado = servicio.actualizar_contacto(\n",
    "    contacto2.id,\n",
    "    ContactoUpdate(telefono=\"555-5678\")\n",
    ")\n",
    "if contacto_actualizado:\n",
    "    print(f\"   ✅ Actualizado: {contacto_actualizado}\")\n",
    "\n",
    "# 5. Eliminar un contacto\n",
    "print(f\"\\n5️⃣ Eliminando contacto con ID {contacto1.id}...\")\n",
    "eliminado = servicio.eliminar_contacto(contacto1.id)\n",
    "print(f\"   {'✅ Eliminado' if eliminado else '❌ No se pudo eliminar'}\")\n",
    "\n",
    "# 6. Verificar la lista final\n",
    "print(\"\\n6️⃣ Lista final de contactos:\")\n",
    "contactos_finales = servicio.listar_contactos()\n",
    "for contacto in contactos_finales:\n",
    "    print(f\"   - ID: {contacto.id} | {contacto.nombre} | {contacto.email} | Tel: {contacto.telefono or 'N/A'}\")"
   ]
  }
 ],
 "metadata": {
  "kernelspec": {
   "display_name": "Python 3",
   "language": "python",
   "name": "python3"
  },
  "language_info": {
   "codemirror_mode": {
    "name": "ipython",
    "version": 3
   },
   "file_extension": ".py",
   "mimetype": "text/x-python",
   "name": "python",
   "nbconvert_exporter": "python",
   "pygments_lexer": "ipython3",
   "version": "3.13.7"
  },
  "polyglot_notebook": {
   "kernelInfo": {
    "defaultKernelName": "csharp",
    "items": [
     {
      "aliases": [],
      "name": "csharp"
     }
    ]
   }
  }
 },
 "nbformat": 4,
 "nbformat_minor": 5
}
