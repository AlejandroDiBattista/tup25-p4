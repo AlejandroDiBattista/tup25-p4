{
 "cells": [
  {
   "cell_type": "code",
   "execution_count": null,
   "id": "b5605ee5",
   "metadata": {},
   "outputs": [
    {
     "name": "stdout",
     "output_type": "stream",
     "text": [
      "0    100\n",
      "1    200\n",
      "2    300\n",
      "3    400\n",
      "4    500\n",
      "dtype: int64\n",
      "lu        Lunes\n",
      "ma       Martes\n",
      "mi    Miercoles\n",
      "ju       Jueves\n",
      "vi      Viernes\n",
      "dtype: object\n"
     ]
    },
    {
     "data": {
      "text/plain": [
       "'Lunes'"
      ]
     },
     "execution_count": 7,
     "metadata": {},
     "output_type": "execute_result"
    }
   ],
   "source": [
    "# pip3 install pandas\n",
    "# uv add pandas\n",
    "\n",
    "import pandas as pd \n",
    "ventas = pd.Series([100, 200, 300, 400, 500])\n",
    "print(ventas)\n"
   ]
  },
  {
   "cell_type": "code",
   "execution_count": null,
   "id": "707b19c3",
   "metadata": {},
   "outputs": [],
   "source": []
  },
  {
   "cell_type": "code",
   "execution_count": 10,
   "id": "499551fa",
   "metadata": {},
   "outputs": [
    {
     "name": "stdout",
     "output_type": "stream",
     "text": [
      "lu        Lunes\n",
      "ma       Martes\n",
      "mi    Miercoles\n",
      "ju       Jueves\n",
      "vi      Viernes\n",
      "dtype: object\n"
     ]
    },
    {
     "data": {
      "text/plain": [
       "'Miercoles'"
      ]
     },
     "execution_count": 10,
     "metadata": {},
     "output_type": "execute_result"
    }
   ],
   "source": [
    "dias = pd.Series(\n",
    "    ['Lunes', 'Martes', 'Miercoles', 'Jueves', 'Viernes'],\n",
    "    index=['lu', 'ma', 'mi', 'ju', 'vi']\n",
    ")\n",
    "print(dias)\n",
    "dias.iloc[2]  # Miercoles"
   ]
  },
  {
   "cell_type": "code",
   "execution_count": 36,
   "id": "e17b0691",
   "metadata": {},
   "outputs": [
    {
     "name": "stdout",
     "output_type": "stream",
     "text": [
      "Index(['enero', 'febrero', 'marzo', 'abril', 'mayo'], dtype='object')\n",
      "enero      220.0\n",
      "febrero    340.0\n",
      "marzo      400.0\n",
      "abril      580.0\n",
      "mayo       700.0\n",
      "dtype: float64\n"
     ]
    }
   ],
   "source": [
    "ventas = pd.Series([100, 200, 250, 400, 500], index=['enero', 'febrero', 'marzo', 'abril', 'mayo'])\n",
    "\n",
    "print(ventas.index)\n",
    "\n",
    "nuevo = ventas * 1.2 + 100\n",
    "print(nuevo)  # Aumento del 20%"
   ]
  },
  {
   "cell_type": "code",
   "execution_count": 81,
   "id": "72d8b29d",
   "metadata": {},
   "outputs": [
    {
     "name": "stdout",
     "output_type": "stream",
     "text": [
      "   ingles portugues\n",
      "ce   zero      zero\n",
      "tr  three      três\n"
     ]
    }
   ],
   "source": [
    "numeros = pd.Series(['cero', 'uno', 'dos', 'tres'],index=[0, 1, 2, 3])\n",
    "numbers = pd.Series([\"zero\", \"two\", \"one\", \"three\"], index=[0, 2, 1, 3])\n",
    "# print(numbers)\n",
    "\n",
    "tabla = pd.DataFrame(\n",
    "    {'español': numeros, \n",
    "     'ingles': numbers})\n",
    "\n",
    "# print(tabla)\n",
    "# print(tabla[[\"español\", \"ingles\"]])\n",
    "tabla[\"portugues\"] = [\"zero\", \"um\", \"dois\", \"três\"]\n",
    "# print(tabla)\n",
    "\n",
    "# print(tabla)\n",
    "# print(tabla.loc[1:3])\n",
    "tabla.index = ['ce', 'un', 'do', 'tr']\n",
    "print(tabla.loc[['ce','tr'], ['ingles', 'portugues']])"
   ]
  },
  {
   "cell_type": "code",
   "execution_count": 28,
   "id": "6536eab8",
   "metadata": {},
   "outputs": [
    {
     "name": "stdout",
     "output_type": "stream",
     "text": [
      "Index(['sucursal', 'producto', 'año', 'mes', 'cantidad', 'ingreso', 'costo'], dtype='object')\n",
      "     cantidad      ingreso   precio\n",
      "0        9930  18489527.72  1861.99\n",
      "1        1945   3474578.31  1786.42\n",
      "2        7205  13604289.65  1888.17\n",
      "3        1009   1514611.12  1501.10\n",
      "4        8678  13337409.12  1536.92\n",
      "..        ...          ...      ...\n",
      "895     15339  86153788.74  5616.65\n",
      "896       861    639253.19   742.45\n",
      "897      5488  15017946.42  2736.51\n",
      "898      5548   8026246.59  1446.69\n",
      "899      8474  28498705.20  3363.08\n",
      "\n",
      "[900 rows x 3 columns]\n",
      "           cantidad       ingreso       precio\n",
      "count    900.000000  9.000000e+02   900.000000\n",
      "mean    6129.195556  1.734835e+07  2230.058900\n",
      "std     4039.410099  1.914407e+07  1104.454814\n",
      "min      743.000000  4.944449e+05   664.580000\n",
      "25%     1884.500000  3.127363e+06  1504.930000\n",
      "50%     6432.500000  1.438673e+07  1962.870000\n",
      "75%     8409.250000  2.136406e+07  2657.137500\n",
      "max    15934.000000  9.945962e+07  6241.970000\n"
     ]
    },
    {
     "name": "stderr",
     "output_type": "stream",
     "text": [
      "/var/folders/6n/z412hmln0wn4g5vby875r5s00000gn/T/ipykernel_78863/3381957531.py:9: SettingWithCopyWarning: \n",
      "A value is trying to be set on a copy of a slice from a DataFrame.\n",
      "Try using .loc[row_indexer,col_indexer] = value instead\n",
      "\n",
      "See the caveats in the documentation: https://pandas.pydata.org/pandas-docs/stable/user_guide/indexing.html#returning-a-view-versus-a-copy\n",
      "  a[\"precio\"] = (a[\"ingreso\"] / a[\"cantidad\"]).round(2)\n"
     ]
    }
   ],
   "source": [
    "import pandas as pd\n",
    "gs = pd.read_csv(\"gaseosas.csv\")\n",
    "print(gs.columns)\n",
    "cnt = gs['cantidad']\n",
    "ing = gs['ingreso']\n",
    "precio = ing / cnt\n",
    "\n",
    "a = gs[['cantidad', 'ingreso']]\n",
    "a[\"precio\"] = (a[\"ingreso\"] / a[\"cantidad\"]).round(2)\n",
    "print(a)\n",
    "print(a.describe())"
   ]
  },
  {
   "cell_type": "code",
   "execution_count": 60,
   "id": "3f94da55",
   "metadata": {},
   "outputs": [
    {
     "name": "stdout",
     "output_type": "stream",
     "text": [
      "tipo\n",
      "normal    592\n",
      "caro      239\n",
      "barato     69\n",
      "Name: count, dtype: int64\n"
     ]
    },
    {
     "name": "stderr",
     "output_type": "stream",
     "text": [
      "/var/folders/6n/z412hmln0wn4g5vby875r5s00000gn/T/ipykernel_78863/3323640810.py:4: SettingWithCopyWarning: \n",
      "A value is trying to be set on a copy of a slice from a DataFrame.\n",
      "Try using .loc[row_indexer,col_indexer] = value instead\n",
      "\n",
      "See the caveats in the documentation: https://pandas.pydata.org/pandas-docs/stable/user_guide/indexing.html#returning-a-view-versus-a-copy\n",
      "  a[\"tipo\"] = \"normal\"\n"
     ]
    }
   ],
   "source": [
    "# caros = a[\"precio\"] > 2600\n",
    "# print(a[ (a[\"precio\"] > 2600) & (a[\"cantidad\"]> 15000)].describe())\n",
    "\n",
    "a[\"tipo\"] = \"normal\"\n",
    "a.loc[a['precio'] > 2600, \"tipo\"] = \"caro\"\n",
    "a.loc[a['precio'] < 1000, \"tipo\"] = \"barato\"\n",
    "\n",
    "print(a[\"tipo\"].value_counts())\n",
    "a.to_csv(\"gaseosas_procesado.csv\", index=False)\n",
    "a.to_json(\"gaseosas_procesado.json\", orient=\"records\", lines=True)\n"
   ]
  }
 ],
 "metadata": {
  "kernelspec": {
   "display_name": "Python 3",
   "language": "python",
   "name": "python3"
  },
  "language_info": {
   "codemirror_mode": {
    "name": "ipython",
    "version": 3
   },
   "file_extension": ".py",
   "mimetype": "text/x-python",
   "name": "python",
   "nbconvert_exporter": "python",
   "pygments_lexer": "ipython3",
   "version": "3.13.7"
  }
 },
 "nbformat": 4,
 "nbformat_minor": 5
}
