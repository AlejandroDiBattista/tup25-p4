{
 "cells": [
  {
   "cell_type": "code",
   "execution_count": null,
   "id": "c39d84db",
   "metadata": {},
   "outputs": [
    {
     "name": "stdout",
     "output_type": "stream",
     "text": [
      "400\n"
     ]
    }
   ],
   "source": [
    "#uv add pandas\n",
    "import pandas as pd\n",
    "\n",
    "dias = pd.Series(\n",
    "    [\"Lunes\", \"Martes\", \"Miércoles\", \"Jueves\", \"Viernes\", \"Sábado\", \"Domingo\"],\n",
    "    index=['lun', 'mar', 'mie', 'jue', 'vie', 'sab', 'dom'])\n",
    "colores = pd.Series([\"Rojo\", \"Verde\", \"Azul\", \"Amarillo\", \"Naranja\", \"Morado\", \"Rosa\"])\n",
    "# print(dias)\n",
    "\n",
    "# print(dias[\"lun\"])\n"
   ]
  },
  {
   "cell_type": "code",
   "execution_count": null,
   "id": "d05cc019",
   "metadata": {},
   "outputs": [
    {
     "name": "stdout",
     "output_type": "stream",
     "text": [
      "lun    1110.0\n",
      "mar    1165.0\n",
      "mie    1220.0\n",
      "jue    1165.0\n",
      "vie    1374.0\n",
      "sab    1275.0\n",
      "dom    1440.0\n",
      "dtype: float64\n",
      "lun    False\n",
      "mar    False\n",
      "mie    False\n",
      "jue    False\n",
      "vie     True\n",
      "sab    False\n",
      "dom     True\n",
      "dtype: bool\n"
     ]
    }
   ],
   "source": [
    "ventas = pd.Series([100, 150, 200, 150, 340, 250, 400], index=dias.index)\n",
    "# print(ventas)\n",
    "# salida = []\n",
    "# for v in ventas:\n",
    "\n",
    "#     salida.append(v / 1.21)\n",
    "# print(salida)\n",
    "proyeccion = ventas * (1 + 10/100) + 1000\n",
    "print(proyeccion)\n"
   ]
  },
  {
   "cell_type": "code",
   "execution_count": 37,
   "id": "9f33ea19",
   "metadata": {},
   "outputs": [
    {
     "name": "stdout",
     "output_type": "stream",
     "text": [
      "lun    100\n",
      "mie    200\n",
      "vie    340\n",
      "dtype: int64\n"
     ]
    }
   ],
   "source": [
    "\n",
    "m300 = ventas > 300\n",
    "print(ventas[[True, False, True, False, True, False, False]])\n",
    "\n",
    "# print(m300)"
   ]
  },
  {
   "cell_type": "code",
   "execution_count": 43,
   "id": "d394d09e",
   "metadata": {},
   "outputs": [
    {
     "name": "stdout",
     "output_type": "stream",
     "text": [
      "mie    200\n",
      "vie    340\n",
      "sab    250\n",
      "dom    400\n",
      "dtype: int64\n"
     ]
    }
   ],
   "source": [
    "print(ventas[ventas * 2 > 300])"
   ]
  },
  {
   "cell_type": "code",
   "execution_count": 75,
   "id": "bbd9928f",
   "metadata": {},
   "outputs": [
    {
     "name": "stdout",
     "output_type": "stream",
     "text": [
      "1    False\n",
      "2     True\n",
      "3     True\n",
      "4      NaN\n",
      "5    False\n",
      "Name: inglés, dtype: object\n"
     ]
    }
   ],
   "source": [
    "numeros = pd.Series([\"uno\", \"dos\", \"tres\", \"cuatro\"], index=[1, 2, 3, 4])\n",
    "numbers = pd.Series([\"one\",  \"three\", \"two\", \"four\"], index=[1, 3,2, 5])\n",
    "n = pd.DataFrame({\"español\": numeros, \"inglés\": numbers})\n",
    "a = n[\"inglés\"]\n",
    "b = a.str.upper()\n",
    "c = b.str.startswith(\"T\")\n",
    "print(c)\n",
    "# print(n[\"inglés\"].str.upper().str.startswith(\"T\"))"
   ]
  },
  {
   "cell_type": "code",
   "execution_count": 85,
   "id": "5fcf3ab8",
   "metadata": {},
   "outputs": [
    {
     "name": "stdout",
     "output_type": "stream",
     "text": [
      "  inglés español portugues\n",
      "1    one     uno        um\n",
      "2    two     dos      dois\n",
      "3  three    tres      tres\n",
      "4    NaN  cuatro    quatro\n",
      "5   four     NaN     cinco\n"
     ]
    }
   ],
   "source": [
    "n[\"portugues\"] =pd.Series([\"um\", \"dois\", \"tres\", \"quatro\", \"cinco\"], index=[1, 2, 3, 4, 5])\n",
    "print(n[[\"inglés\", \"español\", \"portugues\" ]])"
   ]
  },
  {
   "cell_type": "code",
   "execution_count": 98,
   "id": "a9344146",
   "metadata": {},
   "outputs": [
    {
     "name": "stdout",
     "output_type": "stream",
     "text": [
      "Index(['sucursal', 'producto', 'año', 'mes', 'cantidad', 'ingreso', 'costo'], dtype='object')\n"
     ]
    }
   ],
   "source": [
    "gs = pd.read_csv(\"gaseosas.csv\")\n",
    "print(gs.columns)"
   ]
  },
  {
   "cell_type": "code",
   "execution_count": 108,
   "id": "443b4455",
   "metadata": {},
   "outputs": [
    {
     "name": "stdout",
     "output_type": "stream",
     "text": [
      "0      1295.23\n",
      "1      1296.31\n",
      "2      1384.07\n",
      "3      1043.86\n",
      "4       928.03\n",
      "        ...   \n",
      "895    4051.56\n",
      "896     529.60\n",
      "897    1718.78\n",
      "898    1139.52\n",
      "899    2350.74\n",
      "Name: costo_unitario, Length: 900, dtype: float64\n"
     ]
    }
   ],
   "source": [
    "# print(gs.columns)\n",
    "gs[\"precio\"] = (gs[\"ingreso\"] / gs[\"cantidad\"]).round(2)\n",
    "gs[\"costo_unitario\"] = (gs.costo/ gs.cantidad).round(2)\n",
    "# print(gs[[\"cantidad\", \"ingreso\"]])\n",
    "# print(gs[[\"cantidad\",\"precio\"]])\n",
    "# print(gs[\"precio\"])\n",
    "print(gs[\"costo_unitario\"])\n"
   ]
  },
  {
   "cell_type": "code",
   "execution_count": 124,
   "id": "4cef5bd3",
   "metadata": {},
   "outputs": [
    {
     "name": "stderr",
     "output_type": "stream",
     "text": [
      "/var/folders/6n/z412hmln0wn4g5vby875r5s00000gn/T/ipykernel_81305/637072356.py:2: SettingWithCopyWarning: \n",
      "A value is trying to be set on a copy of a slice from a DataFrame.\n",
      "Try using .loc[row_indexer,col_indexer] = value instead\n",
      "\n",
      "See the caveats in the documentation: https://pandas.pydata.org/pandas-docs/stable/user_guide/indexing.html#returning-a-view-versus-a-copy\n",
      "  g[\"tipo\"] = \"normal\"\n"
     ]
    }
   ],
   "source": [
    "g = gs[[\"cantidad\", \"precio\", \"costo_unitario\"]]\n",
    "g[\"tipo\"] = \"normal\"\n",
    "g.loc[g[\"precio\"] > 2000, \"tipo\"] = \"caro\"\n",
    "g.loc[g[\"precio\"] < 1000, \"tipo\"] = \"barato\"\n",
    "\n"
   ]
  },
  {
   "cell_type": "code",
   "execution_count": null,
   "id": "06374e7e",
   "metadata": {},
   "outputs": [
    {
     "ename": "ModuleNotFoundError",
     "evalue": "No module named 'matplotlib'",
     "output_type": "error",
     "traceback": [
      "\u001b[0;31m---------------------------------------------------------------------------\u001b[0m",
      "\u001b[0;31mModuleNotFoundError\u001b[0m                       Traceback (most recent call last)",
      "Cell \u001b[0;32mIn[1], line 1\u001b[0m\n\u001b[0;32m----> 1\u001b[0m \u001b[38;5;28;01mimport\u001b[39;00m \u001b[38;5;21;01mmatplotlib\u001b[39;00m\u001b[38;5;21;01m.\u001b[39;00m\u001b[38;5;21;01mpyplot\u001b[39;00m \u001b[38;5;28;01mas\u001b[39;00m \u001b[38;5;21;01mplt\u001b[39;00m\n\u001b[1;32m      2\u001b[0m g\u001b[38;5;241m.\u001b[39mplot(kind\u001b[38;5;241m=\u001b[39m\u001b[38;5;124m\"\u001b[39m\u001b[38;5;124mbar\u001b[39m\u001b[38;5;124m\"\u001b[39m, x\u001b[38;5;241m=\u001b[39m\u001b[38;5;124m\"\u001b[39m\u001b[38;5;124mcantidad\u001b[39m\u001b[38;5;124m\"\u001b[39m, y\u001b[38;5;241m=\u001b[39m\u001b[38;5;124m\"\u001b[39m\u001b[38;5;124mprecio\u001b[39m\u001b[38;5;124m\"\u001b[39m)\n\u001b[1;32m      3\u001b[0m plt\u001b[38;5;241m.\u001b[39mshow()\n",
      "\u001b[0;31mModuleNotFoundError\u001b[0m: No module named 'matplotlib'"
     ]
    }
   ],
   "source": []
  },
  {
   "cell_type": "code",
   "execution_count": null,
   "id": "8b0cdd8c",
   "metadata": {},
   "outputs": [],
   "source": [
    "import matplotlib.pyplot as plt\n",
    "g.plot(kind=\"bar\", x=\"cantidad\", y=\"precio\")\n",
    "plt.show()"
   ]
  }
 ],
 "metadata": {
  "kernelspec": {
   "display_name": "Python 3",
   "language": "python",
   "name": "python3"
  },
  "language_info": {
   "codemirror_mode": {
    "name": "ipython",
    "version": 3
   },
   "file_extension": ".py",
   "mimetype": "text/x-python",
   "name": "python",
   "nbconvert_exporter": "python",
   "pygments_lexer": "ipython3",
   "version": "3.13.7"
  }
 },
 "nbformat": 4,
 "nbformat_minor": 5
}
