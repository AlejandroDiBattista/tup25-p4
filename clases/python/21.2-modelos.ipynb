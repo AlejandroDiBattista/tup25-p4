{
 "cells": [
  {
   "cell_type": "code",
   "execution_count": 11,
   "id": "5227e596",
   "metadata": {},
   "outputs": [
    {
     "name": "stdout",
     "output_type": "stream",
     "text": [
      "5\n",
      "Hola, mundo!\n",
      "{'a': <class 'int'>, 'b': <class 'int'>, 'return': <class 'float'>}\n"
     ]
    }
   ],
   "source": [
    "def suma(a:int, b: int) -> float:\n",
    "    return a + b\n",
    "\n",
    "print(suma(2,3))  # Output: 5\n",
    "print(suma(\"Hola, \",\"mundo!\"))  # Output: Hola, mundo!\n",
    "\n",
    "print(suma.__annotations__)"
   ]
  },
  {
   "cell_type": "code",
   "execution_count": 21,
   "id": "a5dcaf0e",
   "metadata": {},
   "outputs": [
    {
     "name": "stdout",
     "output_type": "stream",
     "text": [
      "{'nombre': <class 'str'>, 'edad': <class 'int'>}\n",
      "Nombre: Carlos, Edad: 28\n",
      "Persona(nombre=Carlos, edad=28)\n"
     ]
    }
   ],
   "source": [
    "class Persona:\n",
    "    nombre: str\n",
    "    edad: int\n",
    "    \n",
    "    def __init__(self, nombre: str, edad: int):\n",
    "        self.nombre = nombre\n",
    "        self.edad = edad\n",
    "\n",
    "    def __repr__(self) -> str:\n",
    "        return f\"Persona(nombre={self.nombre}, edad={self.edad})\"\n",
    "\n",
    "print(Persona.__annotations__)\n",
    "\n",
    "p = Persona(\"Carlos\", 28)\n",
    "print(f\"Nombre: {p.nombre}, Edad: {p.edad}\")\n",
    "print(p)"
   ]
  },
  {
   "cell_type": "code",
   "execution_count": 31,
   "id": "354a668c",
   "metadata": {},
   "outputs": [
    {
     "name": "stdout",
     "output_type": "stream",
     "text": [
      "15\n",
      "10.0\n",
      "5.5\n",
      "[1, 2, 3, 4, 5]\n",
      "{'hola': 1, 'mundo': 2, 'python': 1, 'javascript': 1}\n",
      "dict_values([1, 2, 1, 1])\n",
      "{\"nombre\": \"Ana\", \"edad\": 25}\n"
     ]
    }
   ],
   "source": [
    "from typing import Union, Optional\n",
    "\n",
    "def sumar(a: Union[int, float], b: Optional[Union[int, float]]) -> float:\n",
    "    if b is None:\n",
    "        return a\n",
    "    return a + b\n",
    "\n",
    "print(sumar(5, 10))        # Output: 15\n",
    "print(sumar(5.5, 4.5))     # Output: 10\n",
    "print(sumar(5.5, None))    # Output: 5.5    \n",
    "\n",
    "numeros: list[int] = [1, 2, 3, 4, 5]\n",
    "print(numeros)  \n",
    "\n",
    "palabras: list[str] = [\"hola\", \"mundo\", \"python\", \"mundo\", \"javascript\"]\n",
    "\n",
    "contador: dict[str, int] = {}\n",
    "for palabra in palabras:\n",
    "    contador[palabra] = contador.get(palabra, 0) + 1\n",
    "\n",
    "print(contador)\n",
    "print(contador.values())\n"
   ]
  },
  {
   "cell_type": "code",
   "execution_count": 41,
   "id": "50448159",
   "metadata": {},
   "outputs": [
    {
     "name": "stdout",
     "output_type": "stream",
     "text": [
      "{\n",
      "  \"nombre\": \"Ana\",\n",
      "  \"edad\": 25\n",
      "}\n"
     ]
    }
   ],
   "source": [
    "import json\n",
    "\n",
    "a = Persona(\"Ana\", 25)\n",
    "j = {\"nombre\": a.nombre, \"edad\": a.edad}\n",
    "\n",
    "print(json.dumps(j, indent=2))"
   ]
  },
  {
   "cell_type": "code",
   "execution_count": 59,
   "id": "f3a1537a",
   "metadata": {},
   "outputs": [
    {
     "name": "stdout",
     "output_type": "stream",
     "text": [
      "nombre='Miguel' edad=25\n",
      "{\n",
      "  \"nombre\": \"Miguel\",\n",
      "  \"edad\": 25\n",
      "}\n",
      "{\n",
      "  \"nombre\": \"Miguel\",\n",
      "  \"edad\": 25\n",
      "}\n"
     ]
    }
   ],
   "source": [
    "# !pip install pydantic \n",
    "from pydantic import BaseModel, Field\n",
    "\n",
    "class PersonaModel(BaseModel):\n",
    "    nombre: str\n",
    "    edad: int = Field(18, ge=18, le=65, description=\"Edad debe estar entre 18 y 65\")\n",
    "\n",
    "\n",
    "p1 = PersonaModel(nombre=\"Miguel\", edad=25)\n",
    "print(p1)\n",
    "print(p1.model_dump_json(indent=2))\n",
    "\n",
    "print(json.dumps(p1.model_dump(), indent=2))"
   ]
  },
  {
   "cell_type": "code",
   "execution_count": 62,
   "id": "256829b7",
   "metadata": {},
   "outputs": [
    {
     "name": "stdout",
     "output_type": "stream",
     "text": [
      "{\n",
      "  \"properties\": {\n",
      "    \"nombre\": {\n",
      "      \"title\": \"Nombre\",\n",
      "      \"type\": \"string\"\n",
      "    },\n",
      "    \"edad\": {\n",
      "      \"default\": 18,\n",
      "      \"description\": \"Edad debe estar entre 18 y 65\",\n",
      "      \"maximum\": 65,\n",
      "      \"minimum\": 18,\n",
      "      \"title\": \"Edad\",\n",
      "      \"type\": \"integer\"\n",
      "    }\n",
      "  },\n",
      "  \"required\": [\n",
      "    \"nombre\"\n",
      "  ],\n",
      "  \"title\": \"PersonaModel\",\n",
      "  \"type\": \"object\"\n",
      "}\n"
     ]
    }
   ],
   "source": [
    "print(json.dumps(p1.model_json_schema(), indent=2))"
   ]
  },
  {
   "cell_type": "code",
   "execution_count": null,
   "id": "d1aae8c2",
   "metadata": {},
   "outputs": [],
   "source": []
  },
  {
   "cell_type": "markdown",
   "id": "d018866f",
   "metadata": {},
   "source": [
    "## Modelo Producto con validación de fechas\n",
    "\n",
    "Vamos a crear un modelo con fechas de disponibilidad y validaciones personalizadas."
   ]
  },
  {
   "cell_type": "code",
   "execution_count": 63,
   "id": "2ef42328",
   "metadata": {},
   "outputs": [
    {
     "name": "stdout",
     "output_type": "stream",
     "text": [
      "✅ Clase Producto creada con validaciones\n"
     ]
    }
   ],
   "source": [
    "from pydantic import BaseModel, Field, field_validator, model_validator\n",
    "from datetime import datetime, timedelta\n",
    "from typing import Optional\n",
    "\n",
    "class Producto(BaseModel):\n",
    "    nombre: str = Field(..., min_length=3, description=\"Nombre del producto\")\n",
    "    precio: float = Field(..., gt=0, description=\"Precio debe ser mayor a 0\")\n",
    "    desde: datetime = Field(default_factory=datetime.now, description=\"Fecha inicio de disponibilidad\")\n",
    "    hasta: Optional[datetime] = Field(None, description=\"Fecha de vencimiento\")\n",
    "    \n",
    "    @model_validator(mode='after')\n",
    "    def validar_fechas(self):\n",
    "        \"\"\"Valida que hasta sea mayor que desde, y si no existe, la crea con desde + 30 días\"\"\"\n",
    "        # Si no se proporcionó 'hasta', la calculamos\n",
    "        if self.hasta is None:\n",
    "            self.hasta = self.desde + timedelta(days=30)\n",
    "        \n",
    "        # Validar que 'hasta' sea mayor que 'desde'\n",
    "        if self.hasta <= self.desde:\n",
    "            raise ValueError(f\"La fecha 'hasta' ({self.hasta}) debe ser mayor que 'desde' ({self.desde})\")\n",
    "        \n",
    "        return self\n",
    "    \n",
    "    def __repr__(self):\n",
    "        return f\"Producto(nombre='{self.nombre}', precio=${self.precio:.2f}, desde={self.desde.date()}, hasta={self.hasta.date()})\"\n",
    "\n",
    "print(\"✅ Clase Producto creada con validaciones\")"
   ]
  },
  {
   "cell_type": "markdown",
   "id": "02dda31d",
   "metadata": {},
   "source": [
    "### Ejemplos de uso\n",
    "\n",
    "Probemos diferentes casos: con fecha hasta, sin fecha hasta, y validación de fechas incorrectas."
   ]
  },
  {
   "cell_type": "code",
   "execution_count": 64,
   "id": "4bdddbfb",
   "metadata": {},
   "outputs": [
    {
     "name": "stdout",
     "output_type": "stream",
     "text": [
      "1️⃣ Producto sin fecha 'hasta':\n",
      "nombre='Laptop' precio=1500.0 desde=datetime.datetime(2025, 1, 1, 0, 0) hasta=datetime.datetime(2025, 1, 31, 0, 0)\n",
      "   Días de disponibilidad: 30\n",
      "\n"
     ]
    }
   ],
   "source": [
    "# Ejemplo 1: Producto sin fecha 'hasta' (se calcula automáticamente)\n",
    "print(\"1️⃣ Producto sin fecha 'hasta':\")\n",
    "p1 = Producto( nombre=\"Laptop\", precio=1500.00, desde=datetime(2025, 1, 1) )\n",
    "print(p1)\n",
    "print(f\"   Días de disponibilidad: {(p1.hasta - p1.desde).days}\")\n",
    "print()"
   ]
  },
  {
   "cell_type": "code",
   "execution_count": 65,
   "id": "329700f6",
   "metadata": {},
   "outputs": [
    {
     "name": "stdout",
     "output_type": "stream",
     "text": [
      "2️⃣ Producto con ambas fechas:\n",
      "nombre='Mouse Inalámbrico' precio=45.99 desde=datetime.datetime(2025, 2, 1, 0, 0) hasta=datetime.datetime(2025, 3, 15, 0, 0)\n",
      "   Días de disponibilidad: 42\n",
      "\n"
     ]
    }
   ],
   "source": [
    "# Ejemplo 2: Producto con ambas fechas especificadas\n",
    "print(\"2️⃣ Producto con ambas fechas:\")\n",
    "p2 = Producto(\n",
    "    nombre=\"Mouse Inalámbrico\",\n",
    "    precio=45.99,\n",
    "    desde=datetime(2025, 2, 1),\n",
    "    hasta=datetime(2025, 3, 15)\n",
    ")\n",
    "print(p2)\n",
    "print(f\"   Días de disponibilidad: {(p2.hasta - p2.desde).days}\")\n",
    "print()"
   ]
  },
  {
   "cell_type": "code",
   "execution_count": 66,
   "id": "1c831ed6",
   "metadata": {},
   "outputs": [
    {
     "name": "stdout",
     "output_type": "stream",
     "text": [
      "3️⃣ Intentando crear producto con fechas inválidas:\n",
      "   ❌ Error de validación: 1 validation error for Producto\n",
      "  Value error, La fecha 'hasta' (2025-02-15 00:00:00) debe ser mayor que 'desde' (2025-03-01 00:00:00) [type=value_error, input_value={'nombre': 'Teclado', 'pr...time(2025, 2, 15, 0, 0)}, input_type=dict]\n",
      "    For further information visit https://errors.pydantic.dev/2.11/v/value_error\n",
      "\n"
     ]
    }
   ],
   "source": [
    "# Ejemplo 3: Validación - Fecha 'hasta' menor que 'desde' (ERROR)\n",
    "print(\"3️⃣ Intentando crear producto con fechas inválidas:\")\n",
    "try:\n",
    "    p3 = Producto(\n",
    "        nombre=\"Teclado\",\n",
    "        precio=85.00,\n",
    "        desde=datetime(2025, 3, 1),\n",
    "        hasta=datetime(2025, 2, 15)  # ❌ Esta fecha es ANTES de 'desde'\n",
    "    )\n",
    "    print(p3)\n",
    "except ValueError as e:\n",
    "    print(f\"   ❌ Error de validación: {e}\")\n",
    "print()"
   ]
  },
  {
   "cell_type": "code",
   "execution_count": null,
   "id": "c0e1e277",
   "metadata": {},
   "outputs": [
    {
     "name": "stdout",
     "output_type": "stream",
     "text": [
      "4️⃣ Producto con fecha actual:\n",
      "nombre='Monitor 24\"' precio=299.99 desde=datetime.datetime(2025, 10, 21, 10, 59, 2, 813931) hasta=datetime.datetime(2025, 11, 20, 10, 59, 2, 813931)\n",
      "   Disponible desde: 21/10/2025 10:59\n",
      "   Disponible hasta: 20/11/2025 10:59\n",
      "   Días de disponibilidad: 30\n",
      "\n"
     ]
    }
   ],
   "source": [
    "# Ejemplo 4: Producto con fecha actual (sin especificar 'desde')\n",
    "print(\"4️⃣ Producto con fecha actual:\")\n",
    "p4 = Producto( nombre=\"Monitor 24\\\"\", precio=299.99 ) \n",
    "\n",
    "print(p4)\n",
    "print(f\"   Disponible desde: {p4.desde.strftime('%d/%m/%Y %H:%M')}\")\n",
    "print(f\"   Disponible hasta: {p4.hasta.strftime('%d/%m/%Y %H:%M')}\")\n",
    "print(f\"   Días de disponibilidad: {(p4.hasta - p4.desde).days}\")\n",
    "print()"
   ]
  },
  {
   "cell_type": "code",
   "execution_count": 69,
   "id": "e26e9125",
   "metadata": {},
   "outputs": [
    {
     "name": "stdout",
     "output_type": "stream",
     "text": [
      "5️⃣ Serialización del producto:\n",
      "{\n",
      "  \"nombre\": \"Mouse Inalámbrico\",\n",
      "  \"precio\": 45.99,\n",
      "  \"desde\": \"2025-02-01T00:00:00\",\n",
      "  \"hasta\": \"2025-03-15T00:00:00\"\n",
      "}\n",
      "\n",
      "6️⃣ Esquema JSON del modelo Producto:\n",
      "{\n",
      "  \"properties\": {\n",
      "    \"nombre\": {\n",
      "      \"description\": \"Nombre del producto\",\n",
      "      \"minLength\": 3,\n",
      "      \"title\": \"Nombre\",\n",
      "      \"type\": \"string\"\n",
      "    },\n",
      "    \"precio\": {\n",
      "      \"description\": \"Precio debe ser mayor a 0\",\n",
      "      \"exclusiveMinimum\": 0,\n",
      "      \"title\": \"Precio\",\n",
      "      \"type\": \"number\"\n",
      "    },\n",
      "    \"desde\": {\n",
      "      \"description\": \"Fecha inicio de disponibilidad\",\n",
      "      \"format\": \"date-time\",\n",
      "      \"title\": \"Desde\",\n",
      "      \"type\": \"string\"\n",
      "    },\n",
      "    \"hasta\": {\n",
      "      \"anyOf\": [\n",
      "        {\n",
      "          \"format\": \"date-time\",\n",
      "          \"type\": \"string\"\n",
      "        },\n",
      "        {\n",
      "          \"type\": \"null\"\n",
      "        }\n",
      "      ],\n",
      "      \"default\": null,\n",
      "      \"description\": \"Fecha de vencimiento\",\n",
      "      \"title\": \"Hasta\"\n",
      "    }\n",
      "  },\n",
      "  \"required\": [\n",
      "    \"nombre\",\n",
      "    \"precio\"\n",
      "  ],\n",
      "  \"title\": \"Producto\",\n",
      "  \"type\": \"object\"\n",
      "}\n"
     ]
    }
   ],
   "source": [
    "# Ejemplo 5: Serialización a JSON\n",
    "print(\"5️⃣ Serialización del producto:\")\n",
    "print(p2.model_dump_json(indent=2))\n",
    "print()\n",
    "\n",
    "# Ver el esquema JSON del modelo\n",
    "print(\"6️⃣ Esquema JSON del modelo Producto:\")\n",
    "print(json.dumps(Producto.model_json_schema(), indent=2))"
   ]
  },
  {
   "cell_type": "code",
   "execution_count": 72,
   "id": "b52d1f9a",
   "metadata": {},
   "outputs": [
    {
     "name": "stdout",
     "output_type": "stream",
     "text": [
      "{\n",
      "  \"persona\": {\n",
      "    \"nombre\": \"Laura\",\n",
      "    \"edad\": 30\n",
      "  },\n",
      "  \"puesto\": \"Desarrolladora\",\n",
      "  \"salario\": 75000.0,\n",
      "  \"a_cargo\": [\n",
      "    {\n",
      "      \"nombre\": \"Juan\",\n",
      "      \"edad\": 23\n",
      "    },\n",
      "    {\n",
      "      \"nombre\": \"Sofía\",\n",
      "      \"edad\": 30\n",
      "    }\n",
      "  ]\n",
      "}\n"
     ]
    }
   ],
   "source": [
    "class Empleado(BaseModel):\n",
    "    persona: PersonaModel\n",
    "    puesto: str = Field(..., min_length=3, description=\"Puesto de trabajo\")\n",
    "    salario: float = Field(..., gt=0, description=\"Salario debe ser mayor a 0\")\n",
    "    a_cargo: list[PersonaModel] = Field(default_factory=list, description=\"Lista de personas a cargo\")\n",
    "\n",
    "e1 = Empleado(\n",
    "    persona=PersonaModel(nombre=\"Laura\", edad=30),\n",
    "    puesto=\"Desarrolladora\",\n",
    "    salario=75000.00,\n",
    "    a_cargo=[PersonaModel(nombre=\"Juan\", edad=23), PersonaModel(nombre=\"Sofía\", edad=30)]\n",
    "    \n",
    ")\n",
    "print(e1.model_dump_json(indent=2))"
   ]
  }
 ],
 "metadata": {
  "kernelspec": {
   "display_name": "Python 3",
   "language": "python",
   "name": "python3"
  },
  "language_info": {
   "codemirror_mode": {
    "name": "ipython",
    "version": 3
   },
   "file_extension": ".py",
   "mimetype": "text/x-python",
   "name": "python",
   "nbconvert_exporter": "python",
   "pygments_lexer": "ipython3",
   "version": "3.13.7"
  }
 },
 "nbformat": 4,
 "nbformat_minor": 5
}
