{
 "cells": [
  {
   "cell_type": "markdown",
   "id": "d47a0f6c",
   "metadata": {},
   "source": [
    "## POO (Programación Orientada a Objetos) en Python (OOP: Object Oriented Programming)\n",
    "\n",
    "Todo en Python es un objeto, las clases son plantillas para crear objetos (instancias). \n",
    "Una clase puede contener atributos (datos) y métodos (funciones)."
   ]
  },
  {
   "cell_type": "code",
   "execution_count": 119,
   "id": "51bdb829",
   "metadata": {},
   "outputs": [
    {
     "name": "stdout",
     "output_type": "stream",
     "text": [
      "Soy una persona\n",
      "<class '__main__.Persona'>\n",
      "True\n",
      "Soy una persona\n",
      "<class '__main__.Persona'>\n"
     ]
    }
   ],
   "source": [
    "class Persona:\n",
    "    \"\"\"Clase que representa a una persona.\"\"\"\n",
    "    \n",
    "    pass\n",
    "\n",
    "    def __str__(self):\n",
    "        return \"Soy una persona\"\n",
    "\n",
    "a = Persona()\n",
    "print(a)\n",
    "print(type(a))\n",
    "print(isinstance(a, Persona))\n",
    "\n",
    "b = Persona\n",
    "c = b()\n",
    "print(c)\n",
    "print(type(c))"
   ]
  },
  {
   "cell_type": "code",
   "execution_count": 124,
   "id": "ddc47d19",
   "metadata": {},
   "outputs": [
    {
     "name": "stdout",
     "output_type": "stream",
     "text": [
      "Adrián\n",
      "30\n",
      "Hola, mi nombre es Adrián y tengo 30 años.\n",
      "Hola, mi nombre es Adrián y tengo 31 años.\n",
      "Hola, mi nombre es Adrián y tengo -5 años.\n",
      "García\n",
      "{'nombre': 'Adrián', 'edad': -5, 'apellido': 'García'}\n"
     ]
    }
   ],
   "source": [
    "class Persona:\n",
    "    def __init__(self, nombre, edad):\n",
    "        self.nombre = nombre\n",
    "        self.edad = edad\n",
    "\n",
    "    def saludar(self):\n",
    "        return f\"Hola, mi nombre es {self.nombre} y tengo {self.edad} años.\"\n",
    "    \n",
    "a = Persona(\"Adrián\", 30)\n",
    "print(a.nombre)\n",
    "print(a.edad)\n",
    "print(a.saludar())\n",
    "a.edad = 31\n",
    "print(a.saludar())\n",
    "a.edad = -5  # No hay control de tipos ni validaciones\n",
    "print(a.saludar())\n",
    "a.apellido = \"García\"  # Se pueden añadir atributos dinámicamente\n",
    "print(a.apellido)\n",
    "print(a.__dict__)  # Muestra los atributos del objeto"
   ]
  }
 ],
 "metadata": {
  "kernelspec": {
   "display_name": "Python 3",
   "language": "python",
   "name": "python3"
  },
  "language_info": {
   "codemirror_mode": {
    "name": "ipython",
    "version": 3
   },
   "file_extension": ".py",
   "mimetype": "text/x-python",
   "name": "python",
   "nbconvert_exporter": "python",
   "pygments_lexer": "ipython3",
   "version": "3.13.7"
  }
 },
 "nbformat": 4,
 "nbformat_minor": 5
}
