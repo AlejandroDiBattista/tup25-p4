{
 "cells": [
  {
   "cell_type": "code",
   "execution_count": 6,
   "id": "503d35c1",
   "metadata": {},
   "outputs": [
    {
     "data": {
      "text/plain": [
       "'HOLA'"
      ]
     },
     "execution_count": 6,
     "metadata": {},
     "output_type": "execute_result"
    }
   ],
   "source": [
    "def suma(a:int,b:int) -> None: \n",
    "    \"\"\"\n",
    "    Las funcion suma dos numeros e imprime el resultado \n",
    "    Args:\n",
    "        a (int): primer numero\n",
    "        b (int): segundo numero\n",
    "    Returns: None\n",
    "    Example:\n",
    "        >>> suma(3,5)\n",
    "        Las suma de 3 + 5 es: 8\n",
    "    \"\"\"\n",
    "    print(f\"Las suma de {a} + {b} es: {a + b}\")\n",
    "\n",
    "def factorial(n:int) -> int:\n",
    "    \"\"\"\n",
    "    La funcion calcula el factorial de un numero\n",
    "    Args:\n",
    "        n (int): numero para calcular su factorial\n",
    "    Returns: int\n",
    "    Example:\n",
    "        >>> factorial(5)\n",
    "        120\n",
    "    \"\"\"\n",
    "    if n == 0:\n",
    "        return 1\n",
    "    else:\n",
    "        return n * factorial(n - 1)\n",
    "\n",
    "\"HOla\".upper()"
   ]
  },
  {
   "cell_type": "code",
   "execution_count": 19,
   "id": "765ae499",
   "metadata": {},
   "outputs": [
    {
     "name": "stdout",
     "output_type": "stream",
     "text": [
      "Juan Lopez\n"
     ]
    }
   ],
   "source": [
    "def mostrar(nombre=\"Ana\", apellido=\"Perez\"):\n",
    "    nombre_completo = f\"{nombre} {apellido}\"\n",
    "    return nombre_completo\n",
    "\n",
    "a = mostrar(apellido=\"Lopez\", nombre=\"Juan\")\n",
    "\n",
    "print(a)"
   ]
  },
  {
   "cell_type": "code",
   "execution_count": 31,
   "id": "bd3f84de",
   "metadata": {},
   "outputs": [
    {
     "name": "stdout",
     "output_type": "stream",
     "text": [
      "3\n",
      "15\n",
      "6\n"
     ]
    }
   ],
   "source": [
    "def suma(a,b,*valores):\n",
    "    suma = a + b\n",
    "    for v in valores:\n",
    "        suma += v\n",
    "    return suma\n",
    "\n",
    "print(suma(1,2))\n",
    "print(suma(1,2,3,4,5))\n",
    "print(suma(*[1, 2, 3]))\n"
   ]
  },
  {
   "cell_type": "code",
   "execution_count": 34,
   "id": "cceba956",
   "metadata": {},
   "outputs": [
    {
     "name": "stdout",
     "output_type": "stream",
     "text": [
      "Nombre: Juan, Apellido: Perez, Edad: 20\n"
     ]
    }
   ],
   "source": [
    "def mostrar(**valores):\n",
    "    print(f\"Nombre: {valores['nombre']}, Apellido: {valores['apellido']}, Edad: {valores['edad']}\")\n",
    "\n",
    "p = {\"apellido\": \"Gomez\", \"nombre\": \"Ana\", \"edad\": 30}\n",
    "\n",
    "mostrar(nombre=\"Juan\", edad=20, apellido=\"Perez\")"
   ]
  },
  {
   "cell_type": "code",
   "execution_count": null,
   "id": "78df6040",
   "metadata": {},
   "outputs": [
    {
     "name": "stdout",
     "output_type": "stream",
     "text": [
      "<div id=\"mi_div\" style=\"color: red;\" >\n",
      "Hola\n",
      "</div>\n",
      "<div >\n",
      "Esto es  un div\n",
      "</div>\n"
     ]
    }
   ],
   "source": [
    "def tag(nombre, texto=\"\", **prop):\n",
    "    print(f\"<{nombre} \", end=\"\")\n",
    "    for k, v in prop.items():\n",
    "        print(f'{k}=\"{v}\" ', end=\"\")\n",
    "    print(f\">\\n{texto}\\n</{nombre}>\")\n",
    "\n",
    "def div(texto, **prop):\n",
    "    tag(\"div\", texto, **prop)\n",
    "    \n",
    "def span(texto, **prop):\n",
    "    tag(\"span\", texto, **prop)\n",
    "    \n",
    "div(\"Hola\", id=\"mi_div\", style=\"color: red;\")\n",
    "\n",
    "div(\"Esto es  un div\")\n"
   ]
  },
  {
   "cell_type": "code",
   "execution_count": 62,
   "id": "7412cb7e",
   "metadata": {},
   "outputs": [
    {
     "name": "stdout",
     "output_type": "stream",
     "text": [
      "a=1\n",
      "b=10\n",
      "nombre=Juan\n",
      "lista=(), tipo=<class 'tuple'>\n",
      "diccionario={'edad': 30, 'ciudad': 'Buenos Aires'}, tipo=<class 'dict'>\n"
     ]
    }
   ],
   "source": [
    "\n",
    "def general(a, b=10, *lista, nombre=\"Juan\", **diccionario):\n",
    "    print(f\"a={a}\")\n",
    "    print(f\"b={b}\")\n",
    "    print(f\"nombre={nombre}\")\n",
    "    print(f\"lista={lista}, tipo={type(lista)}\")\n",
    "    print(f\"diccionario={diccionario}, tipo={type(diccionario)}\")\n",
    "\n",
    "l = [3, 4, 5]\n",
    "general(1, edad=30, ciudad=\"Buenos Aires\")"
   ]
  },
  {
   "cell_type": "code",
   "execution_count": 64,
   "id": "d164aa1e",
   "metadata": {},
   "outputs": [
    {
     "name": "stdout",
     "output_type": "stream",
     "text": [
      "i=100\n",
      "0\n",
      "1\n",
      "2\n",
      "3\n",
      "4\n",
      "5\n",
      "6\n",
      "7\n",
      "8\n",
      "9\n",
      "i=100\n"
     ]
    }
   ],
   "source": [
    "i = 100\n",
    "def mostrar10():\n",
    "    i = 0\n",
    "    while i < 10:\n",
    "        print(i)\n",
    "        i += 1\n",
    "        \n",
    "print(f\"{i=}\")\n",
    "mostrar10()\n",
    "print(f\"{i=}\")\n"
   ]
  },
  {
   "cell_type": "code",
   "execution_count": 74,
   "id": "05483d11",
   "metadata": {},
   "outputs": [
    {
     "name": "stdout",
     "output_type": "stream",
     "text": [
      "i fuera de la funcion: 100\n",
      "i dentro de la funcion: 100\n",
      "i fuera de la funcion: 5\n"
     ]
    }
   ],
   "source": [
    "i = 100\n",
    "def prueba():\n",
    "    global i\n",
    "    print(f\"i dentro de la funcion: {i}\")\n",
    "    i = 5\n",
    "    \n",
    "print(f\"i fuera de la funcion: {i}\")\n",
    "prueba()\n",
    "print(f\"i fuera de la funcion: {i}\")"
   ]
  },
  {
   "cell_type": "code",
   "execution_count": 80,
   "id": "0ceee294",
   "metadata": {},
   "outputs": [
    {
     "name": "stdout",
     "output_type": "stream",
     "text": [
      "Hola, soy Juan el hijo\n",
      "Hola, soy el padre\n"
     ]
    }
   ],
   "source": [
    "def padre():\n",
    "    def hijo():\n",
    "        print(f\"Hola, soy {nombre} el hijo\")\n",
    "\n",
    "    nombre = \"Juan\"        \n",
    "    hijo()\n",
    "    print(\"Hola, soy el padre\")\n",
    "\n",
    "padre()\n",
    "\n"
   ]
  },
  {
   "cell_type": "code",
   "execution_count": null,
   "id": "0e9205b3",
   "metadata": {},
   "outputs": [
    {
     "data": {
      "text/plain": [
       "['UNO', 'DOS', 'TRES']"
      ]
     },
     "execution_count": 102,
     "metadata": {},
     "output_type": "execute_result"
    }
   ],
   "source": [
    "def es_par(n:int) -> bool:\n",
    "    \"\"\"Retorna si es par o no un numero entero\"\"\"\n",
    "    return n % 2 == 0\n",
    "\n",
    "# dir(es_par)\n",
    "a = es_par\n",
    "a.__annotations__\n",
    "\n",
    "\n",
    "d = [\"1\", \"2\", \"3\"]\n",
    "def entero(x): return int(x)\n",
    "\n",
    "def mapear(f,lista):\n",
    "    resultado = []\n",
    "    for v in lista:\n",
    "        resultado.append(f(v))\n",
    "    return resultado\n",
    "def duplicar(x): return x * 2\n",
    "list(mapear(int, d))\n",
    "\n",
    "b = [\"uno\", \"dos\", \"tres\"]\n",
    "list(mapear(str.upper, b))\n",
    "\n",
    "a = \"Hola\"\n",
    "a.upper() # str.upper(a)"
   ]
  },
  {
   "cell_type": "code",
   "execution_count": null,
   "id": "571eabc0",
   "metadata": {},
   "outputs": [
    {
     "name": "stdout",
     "output_type": "stream",
     "text": [
      "<class 'str'>\n",
      "HOLA\n",
      "Help on built-in function upper:\n",
      "\n",
      "upper() method of builtins.str instance\n",
      "    Return a copy of the string converted to uppercase.\n",
      "\n"
     ]
    }
   ],
   "source": [
    "a = \"Hola\"\n",
    "print(type(a))\n",
    "print(a.upper())\n",
    "dir(a)\n",
    "help(a.upper)"
   ]
  }
 ],
 "metadata": {
  "kernelspec": {
   "display_name": "Python 3",
   "language": "python",
   "name": "python3"
  },
  "language_info": {
   "codemirror_mode": {
    "name": "ipython",
    "version": 3
   },
   "file_extension": ".py",
   "mimetype": "text/x-python",
   "name": "python",
   "nbconvert_exporter": "python",
   "pygments_lexer": "ipython3",
   "version": "3.9.6"
  }
 },
 "nbformat": 4,
 "nbformat_minor": 5
}
