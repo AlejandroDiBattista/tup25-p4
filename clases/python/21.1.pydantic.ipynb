{
 "cells": [
  {
   "cell_type": "code",
   "execution_count": 4,
   "id": "57468fbc",
   "metadata": {},
   "outputs": [
    {
     "name": "stdout",
     "output_type": "stream",
     "text": [
      "8\n",
      "ab\n",
      "[1, 2, 3, 4]\n"
     ]
    }
   ],
   "source": [
    "def suma(a, b): \n",
    "    return a + b\n",
    "\n",
    "print(suma(3, 5))  # Output: 8\n",
    "print(suma(\"a\", \"b\"))  # Output: \"ab\"\n",
    "print(suma([1, 2], [3, 4]))  # Output: [1, 2, 3, 4]"
   ]
  },
  {
   "cell_type": "code",
   "execution_count": 10,
   "id": "f193371f",
   "metadata": {},
   "outputs": [
    {
     "name": "stdout",
     "output_type": "stream",
     "text": [
      "<class 'int'>\n",
      "3\n",
      "ab\n",
      "{'a': <class 'int'>, 'b': <class 'float'>, 'return': <class 'float'>}\n"
     ]
    }
   ],
   "source": [
    "def suma(a: int, b: float) -> float:\n",
    "    return a + b\n",
    "\n",
    "c: str = \"hola\"\n",
    "c = 5  # No error at runtime, but type checkers will flag this\n",
    "print(type(c))  # Output: <class 'int'>\n",
    "print(suma(1, 2))  # Output: 3.0\n",
    "print(suma(\"a\", \"b\"))  # TypeError at runtime\n",
    "\n",
    "print(suma.__annotations__)  # {'a': <class 'int'>, 'b': <class 'float'>, 'return': <class 'float'>}"
   ]
  },
  {
   "cell_type": "code",
   "execution_count": 13,
   "id": "60812a59",
   "metadata": {},
   "outputs": [
    {
     "name": "stdout",
     "output_type": "stream",
     "text": [
      "<class '__main__.Persona'>\n",
      "{'nombre': <class 'str'>, 'edad': <class 'int'>}\n"
     ]
    }
   ],
   "source": [
    "class Persona:\n",
    "    nombre: str\n",
    "    edad: int\n",
    "    \n",
    "persona = Persona()\n",
    "persona.nombre = \"Adrián\"\n",
    "persona.edad = 30\n",
    "\n",
    "print(type(persona))  # Output: <class 'str'>\n",
    "print(persona.__annotations__)  # {'nombre': <class 'str'>, 'edad': <class 'int'>}"
   ]
  },
  {
   "cell_type": "code",
   "execution_count": 15,
   "id": "73f8bfd9",
   "metadata": {},
   "outputs": [
    {
     "name": "stdout",
     "output_type": "stream",
     "text": [
      "[<__main__.Persona object at 0x110384050>]\n"
     ]
    }
   ],
   "source": [
    "personas: list[Persona] = []\n",
    "personas.append(persona)\n",
    "print(personas)  # Output: [<__main__.Persona object at 0x"
   ]
  },
  {
   "cell_type": "code",
   "execution_count": 17,
   "id": "0702a934",
   "metadata": {},
   "outputs": [
    {
     "name": "stdout",
     "output_type": "stream",
     "text": [
      "{'adrian': <__main__.Persona object at 0x110384050>, 'maria': <__main__.Persona object at 0x10bf31310>}\n"
     ]
    }
   ],
   "source": [
    "db: dict[str, Persona] = {}\n",
    "db[\"adrian\"] = persona\n",
    "maria = Persona()\n",
    "maria.nombre = \"María\"\n",
    "maria.edad = 25\n",
    "\n",
    "db[\"maria\"] = maria\n",
    "\n",
    "print(db)  # Output: {'adrian': <__main__.Persona object at 0x..., 'maria': <__main__.Persona object at 0x...>}\n"
   ]
  },
  {
   "cell_type": "code",
   "execution_count": 19,
   "id": "21c150c3",
   "metadata": {},
   "outputs": [
    {
     "ename": "TypeError",
     "evalue": "Invalid types for suma function",
     "output_type": "error",
     "traceback": [
      "\u001b[31m---------------------------------------------------------------------------\u001b[39m",
      "\u001b[31mTypeError\u001b[39m                                 Traceback (most recent call last)",
      "\u001b[36mCell\u001b[39m\u001b[36m \u001b[39m\u001b[32mIn[19]\u001b[39m\u001b[32m, line 12\u001b[39m\n\u001b[32m      8\u001b[39m         \u001b[38;5;28;01mreturn\u001b[39;00m a + b\n\u001b[32m     10\u001b[39m     \u001b[38;5;28;01mraise\u001b[39;00m \u001b[38;5;167;01mTypeError\u001b[39;00m(\u001b[33m\"\u001b[39m\u001b[33mInvalid types for suma function\u001b[39m\u001b[33m\"\u001b[39m)\n\u001b[32m---> \u001b[39m\u001b[32m12\u001b[39m \u001b[43msuma\u001b[49m\u001b[43m(\u001b[49m\u001b[43m[\u001b[49m\u001b[32;43m1\u001b[39;49m\u001b[43m]\u001b[49m\u001b[43m,\u001b[49m\u001b[43m \u001b[49m\u001b[43m[\u001b[49m\u001b[32;43m2\u001b[39;49m\u001b[43m]\u001b[49m\u001b[43m)\u001b[49m  \u001b[38;5;66;03m# Raises TypeError\u001b[39;00m\n",
      "\u001b[36mCell\u001b[39m\u001b[36m \u001b[39m\u001b[32mIn[19]\u001b[39m\u001b[32m, line 10\u001b[39m, in \u001b[36msuma\u001b[39m\u001b[34m(a, b)\u001b[39m\n\u001b[32m      7\u001b[39m \u001b[38;5;28;01mif\u001b[39;00m \u001b[38;5;28misinstance\u001b[39m(a, \u001b[38;5;28mint\u001b[39m) \u001b[38;5;129;01mand\u001b[39;00m \u001b[38;5;28misinstance\u001b[39m(b, \u001b[38;5;28mint\u001b[39m):\n\u001b[32m      8\u001b[39m     \u001b[38;5;28;01mreturn\u001b[39;00m a + b\n\u001b[32m---> \u001b[39m\u001b[32m10\u001b[39m \u001b[38;5;28;01mraise\u001b[39;00m \u001b[38;5;167;01mTypeError\u001b[39;00m(\u001b[33m\"\u001b[39m\u001b[33mInvalid types for suma function\u001b[39m\u001b[33m\"\u001b[39m)\n",
      "\u001b[31mTypeError\u001b[39m: Invalid types for suma function"
     ]
    }
   ],
   "source": [
    "from typing import Union\n",
    "\n",
    "def suma(a: Union[int, str], b: Union[int, str]) -> Union[int, str]:\n",
    "    if isinstance(a, str) and isinstance(b, str):\n",
    "        return a + \" \" + b\n",
    "    \n",
    "    if isinstance(a, int) and isinstance(b, int):\n",
    "        return a + b\n",
    "    \n",
    "    raise TypeError(\"Invalid types for suma function\")\n",
    "\n",
    "suma([1], [2])  # Raises TypeError"
   ]
  },
  {
   "cell_type": "code",
   "execution_count": 23,
   "id": "b8c3d59a",
   "metadata": {},
   "outputs": [
    {
     "name": "stdout",
     "output_type": "stream",
     "text": [
      "{\n",
      "  \"nombre\": \"Adrian\",\n",
      "  \"edad\": 30\n",
      "}\n"
     ]
    }
   ],
   "source": [
    "import json \n",
    "\n",
    "a = Persona()\n",
    "a.nombre = \"Adrian\"\n",
    "a.edad = 30\n",
    "\n",
    "data = {\"nombre\": a.nombre, \"edad\": a.edad}\n",
    "\n",
    "print(json.dumps(data, indent=2))  \n",
    "# JS: JSON.stringify(data, null, 2)"
   ]
  },
  {
   "cell_type": "code",
   "execution_count": 30,
   "id": "522fa845",
   "metadata": {},
   "outputs": [
    {
     "name": "stdout",
     "output_type": "stream",
     "text": [
      "nombre='Adrián' edad=30\n",
      "Adrián\n",
      "30\n",
      "{'nombre': 'Adrián', 'edad': 30}\n",
      "{\n",
      "  \"nombre\": \"Adrián\",\n",
      "  \"edad\": 30\n",
      "}\n",
      "== Esquema de PersonaModel ==\n",
      "{\n",
      "  \"properties\": {\n",
      "    \"nombre\": {\n",
      "      \"title\": \"Nombre\",\n",
      "      \"type\": \"string\"\n",
      "    },\n",
      "    \"edad\": {\n",
      "      \"title\": \"Edad\",\n",
      "      \"type\": \"integer\"\n",
      "    }\n",
      "  },\n",
      "  \"required\": [\n",
      "    \"nombre\",\n",
      "    \"edad\"\n",
      "  ],\n",
      "  \"title\": \"PersonaModel\",\n",
      "  \"type\": \"object\"\n",
      "}\n"
     ]
    }
   ],
   "source": [
    "# !pip install pydantic\n",
    "# !uv add pydantic\n",
    "from pydantic import BaseModel\n",
    "\n",
    "class PersonaModel(BaseModel):\n",
    "    nombre: str\n",
    "    edad: int\n",
    "    \n",
    "persona = PersonaModel(nombre=\"Adrián\", edad=30)\n",
    "print(persona)  # nombre='Adrián' edad=30\n",
    "print(persona.nombre)  # Adrián\n",
    "print(persona.edad)  # 30\n",
    "\n",
    "print(persona.model_dump())  # {'nombre': 'Adrián', 'edad': 30}\n",
    "print(persona.model_dump_json(indent=2))\n",
    "sc = persona.model_json_schema()\n",
    "print(\"== Esquema de PersonaModel ==\")\n",
    "print(json.dumps(sc, indent=2))\n"
   ]
  },
  {
   "cell_type": "code",
   "execution_count": 37,
   "id": "6b3d0ed3",
   "metadata": {},
   "outputs": [
    {
     "name": "stdout",
     "output_type": "stream",
     "text": [
      "nombre='Ana' apellido='García' legajo=1234\n",
      "nombre='Luis' apellido='Pérez' legajo=5678\n",
      "nombre='María' apellido='López' legajo=9101 id=1\n",
      "{\n",
      "  \"nombre\": \"María\",\n",
      "  \"apellido\": \"López\",\n",
      "  \"legajo\": 9101,\n",
      "  \"id\": 1\n",
      "}\n"
     ]
    }
   ],
   "source": [
    "class AlumnoBase(BaseModel):\n",
    "    nombre: str\n",
    "    apellido: str\n",
    "    legajo: int\n",
    "    \n",
    "a1 = AlumnoBase(nombre=\"Ana\", apellido=\"García\", legajo=1234)\n",
    "a2 = AlumnoBase(nombre=\"Luis\", apellido=\"Pérez\", legajo=5678)\n",
    "print(a1)\n",
    "print(a2)\n",
    "    \n",
    "class Alumno(AlumnoBase):\n",
    "    id: int \n",
    "    \n",
    "a3 = Alumno(id=1, nombre=\"María\", apellido=\"López\", legajo=9101)\n",
    "print(a3)\n",
    "print(a3.model_dump_json(indent=2))\n"
   ]
  },
  {
   "cell_type": "code",
   "execution_count": null,
   "id": "60ce75aa",
   "metadata": {},
   "outputs": [
    {
     "ename": "ImportError",
     "evalue": "cannot import name 'FieldValidator' from 'pydantic' (/Users/adibattista/Library/Python/3.13/lib/python/site-packages/pydantic/__init__.py)",
     "output_type": "error",
     "traceback": [
      "\u001b[31m---------------------------------------------------------------------------\u001b[39m",
      "\u001b[31mImportError\u001b[39m                               Traceback (most recent call last)",
      "\u001b[36mCell\u001b[39m\u001b[36m \u001b[39m\u001b[32mIn[47]\u001b[39m\u001b[32m, line 1\u001b[39m\n\u001b[32m----> \u001b[39m\u001b[32m1\u001b[39m \u001b[38;5;28;01mfrom\u001b[39;00m\u001b[38;5;250m \u001b[39m\u001b[34;01mpydantic\u001b[39;00m\u001b[38;5;250m \u001b[39m\u001b[38;5;28;01mimport\u001b[39;00m BaseModel, Field, FieldValidator\n\u001b[32m      3\u001b[39m \u001b[38;5;28;01mclass\u001b[39;00m\u001b[38;5;250m \u001b[39m\u001b[34;01mEmpleadoModel\u001b[39;00m(BaseModel):\n\u001b[32m      4\u001b[39m     nombre: \u001b[38;5;28mstr\u001b[39m\n",
      "\u001b[31mImportError\u001b[39m: cannot import name 'FieldValidator' from 'pydantic' (/Users/adibattista/Library/Python/3.13/lib/python/site-packages/pydantic/__init__.py)"
     ]
    }
   ],
   "source": [
    "from pydantic import BaseModel, Field, FieldValidator, ModelValidator \n",
    "\n",
    "class EmpleadoModel(BaseModel):\n",
    "    nombre: str\n",
    "    puesto: str\n",
    "    edad: int = Field(default=18, ge=18, le=65)  # Default value and validation\n",
    "    salario: float | None = None  # Optional field\n",
    "    created_at: str = Field(alias=\"creado_en\", default_factory=lambda: \"2024-01-01\")\n",
    "    updated_at: str = Field(alias=\"actualizado_en\",default_factory=lambda: \"2024-01-01\")  # Default factory\n",
    "    \n",
    "    \n",
    "e1 = EmpleadoModel(nombre=\"Carlos\", puesto=\"Desarrollador\", edad=\"28\", salario=50000.0)\n",
    "\n",
    "s = e1.model_json_schema()\n",
    "print(\"== Esquema de EmpleadoModel ==\")\n",
    "print(json.dumps(s, indent=2))\n"
   ]
  }
 ],
 "metadata": {
  "kernelspec": {
   "display_name": "Python 3",
   "language": "python",
   "name": "python3"
  },
  "language_info": {
   "codemirror_mode": {
    "name": "ipython",
    "version": 3
   },
   "file_extension": ".py",
   "mimetype": "text/x-python",
   "name": "python",
   "nbconvert_exporter": "python",
   "pygments_lexer": "ipython3",
   "version": "3.13.7"
  }
 },
 "nbformat": 4,
 "nbformat_minor": 5
}
