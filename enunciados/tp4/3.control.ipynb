{
 "cells": [
  {
   "cell_type": "code",
   "execution_count": null,
   "id": "c0b8c66d",
   "metadata": {},
   "outputs": [],
   "source": [
    "a = 10\n",
    "b = 20\n",
    "c = 15\n",
    "min = 0\n",
    "if a < b and a < c:\n",
    "    min = a\n",
    "elif b < a and b < c:\n",
    "    min = b\n",
    "else:\n",
    "    min = c\n",
    "\n"
   ]
  },
  {
   "cell_type": "code",
   "execution_count": null,
   "id": "552422ed",
   "metadata": {},
   "outputs": [],
   "source": [
    "m1 = 10\n",
    "m2 = 20\n",
    "\n",
    "if m1 < m2:\n",
    "    m = m1\n",
    "else:\n",
    "    m = m2\n",
    "\n",
    "m = m1 if m1 < m2 else m2"
   ]
  },
  {
   "cell_type": "code",
   "execution_count": null,
   "id": "e3dc4ba4",
   "metadata": {},
   "outputs": [
    {
     "name": "stdout",
     "output_type": "stream",
     "text": [
      "1\n",
      "3\n",
      "5\n"
     ]
    }
   ],
   "source": [
    "i = 0\n",
    "while i <= 10:\n",
    "    i += 1\n",
    "    if i % 2 == 0: \n",
    "        continue\n",
    "    if i > 5:\n",
    "        break\n",
    "    print(i)\n",
    "\n",
    "else:\n",
    "    print(\"Todo Ok\")\n",
    "    \n",
    "    \n",
    "    "
   ]
  },
  {
   "cell_type": "code",
   "execution_count": null,
   "id": "fb62e05f",
   "metadata": {},
   "outputs": [
    {
     "name": "stdout",
     "output_type": "stream",
     "text": [
      "10\n",
      "20\n",
      "30\n",
      "40\n",
      "50\n",
      "10\n",
      "[5, 7, 9]\n",
      "H\n",
      "o\n",
      "l\n",
      "a\n",
      " \n",
      "M\n",
      "u\n",
      "n\n",
      "d\n",
      "o\n"
     ]
    }
   ],
   "source": [
    "numeros = [10, 20, 30, 40, 50]\n",
    "i = 0 #Inicio\n",
    "while i < len(numeros): #Condicion\n",
    "    print(numeros[i])\n",
    "    i += 1 #Avance\n",
    "\n",
    "for n in range(1,26):\n",
    "    if n % 15 == 0:\n",
    "        continue\n",
    "    if n > 20:\n",
    "        break\n",
    "    print(n)\n",
    "else:\n",
    "    print(\"Todo Ok\")"
   ]
  },
  {
   "cell_type": "code",
   "execution_count": 35,
   "id": "b1574b36",
   "metadata": {},
   "outputs": [
    {
     "name": "stdout",
     "output_type": "stream",
     "text": [
      "{'nombre': 'Adrián', 'apellido': 'Di Battista', 'edad': 35}\n",
      "dict_keys(['nombre', 'apellido', 'edad'])\n",
      "dict_values(['Adrián', 'Di Battista', 35])\n",
      "dict_items([('nombre', 'Adrián'), ('apellido', 'Di Battista'), ('edad', 35)])\n",
      "=== Listar ===\n",
      "nombre : Adrián\n",
      "apellido : Di Battista\n",
      "edad : 35\n"
     ]
    }
   ],
   "source": [
    "persona = {\n",
    "    \"nombre\": \"Adrián\",\n",
    "    \"apellido\": \"Di Battista\",\n",
    "    \"edad\": 35\n",
    "}\n",
    "print(persona)\n",
    "print(persona.keys())\n",
    "print(persona.values())\n",
    "print(persona.items())\n",
    "\n",
    "print(\"=== Listar ===\")\n",
    "for clave, valor in persona.items():\n",
    "    print(clave, \":\", valor)"
   ]
  },
  {
   "cell_type": "code",
   "execution_count": 39,
   "id": "9dd4ce80",
   "metadata": {},
   "outputs": [
    {
     "name": "stdout",
     "output_type": "stream",
     "text": [
      "1 a\n",
      "2 e\n",
      "3 i\n",
      "4 o\n",
      "5 u\n",
      "1 a\n",
      "2 e\n",
      "3 i\n",
      "4 o\n",
      "5 u\n"
     ]
    }
   ],
   "source": [
    "vocales = list(\"aeiou\")\n",
    "for i in range(len(vocales)):\n",
    "    x = vocales[i]\n",
    "    print(i+1, x)\n",
    "\n",
    "for i, x in enumerate(vocales, start=1):\n",
    "    print(i, x)\n",
    "\n"
   ]
  },
  {
   "cell_type": "code",
   "execution_count": null,
   "id": "af2ef351",
   "metadata": {},
   "outputs": [],
   "source": [
    "decenas = [10, 20, 30, 40, 50]\n",
    "\n",
    "triple = []\n",
    "for n in decenas:\n",
    "    triple.append(n * 3)\n",
    "print(triple)\n",
    "\n",
    "triple = [n * 3 for n in decenas]"
   ]
  },
  {
   "cell_type": "code",
   "execution_count": null,
   "id": "8120c086",
   "metadata": {},
   "outputs": [
    {
     "name": "stdout",
     "output_type": "stream",
     "text": [
      "{'hola': 4, 'que': 3, 'tal': 3}\n",
      "{10, 20, 30, 15}\n"
     ]
    }
   ],
   "source": [
    "palabras = [\"hola\", \"que\", \"tal\"]\n",
    "dic = {}\n",
    "for p in palabras:\n",
    "    k, v = p, len(p)\n",
    "    dic[k] = v\n",
    "cl = { k: len(k) for k in palabras }\n",
    "print(dic)\n",
    "\n",
    "edades = [10, 20, 10, 15, 20, 30]\n",
    "unicos = set()\n",
    "for e in edades:\n",
    "    unicos.add(e)\n",
    "print(unicos)\n",
    "u = { e for e in edades }\n",
    "\n"
   ]
  },
  {
   "cell_type": "code",
   "execution_count": null,
   "id": "10968f57",
   "metadata": {},
   "outputs": [
    {
     "name": "stdout",
     "output_type": "stream",
     "text": [
      "[2, 4, 6, 8, 10]\n",
      "[4, 8]\n",
      "0\n",
      "1\n",
      "2\n",
      "3\n",
      "4\n",
      "5\n",
      "6\n",
      "7\n",
      "8\n",
      "9\n"
     ]
    }
   ],
   "source": [
    "numeros = [1, 2, 3, 4, 5]\n",
    "dobles = [n * 2 for n in numeros ]\n",
    "print(dobles)\n",
    "\n",
    "salida = []\n",
    "for n in numeros:\n",
    "    if n % 2 == 0:\n",
    "        salida.append(n * 2)\n",
    "print(salida)\n",
    "\n",
    "suma = [x * 2 for x in numeros if x % 2 == 0]\n"
   ]
  },
  {
   "cell_type": "code",
   "execution_count": 56,
   "id": "44e01eab",
   "metadata": {},
   "outputs": [
    {
     "name": "stdout",
     "output_type": "stream",
     "text": [
      "1\n",
      "8\n",
      "27\n",
      "64\n",
      "125\n",
      "216\n",
      "343\n",
      "512\n",
      "729\n",
      "1000\n",
      "[1, 8, 27, 64, 125]\n",
      "225\n",
      "1\n",
      "[1, 8, 27, 64, 125]\n"
     ]
    }
   ],
   "source": [
    "\n",
    "def cubos(n):\n",
    "    i = 1\n",
    "    while i <= n:\n",
    "        yield i ** 3\n",
    "        i += 1\n",
    "        \n",
    "for i in cubos(10):\n",
    "    print(i)\n",
    "\n",
    "print(list(cubos(5)))\n",
    "\n",
    "print(sum(cubos(5)))\n",
    "print(min(cubos(5)))\n",
    "\n",
    "aa = (x ** 3 for x in range(1, 6))\n",
    "print( list(aa))\n",
    "for x in aa:\n",
    "    print(x)"
   ]
  }
 ],
 "metadata": {
  "kernelspec": {
   "display_name": "Python 3",
   "language": "python",
   "name": "python3"
  },
  "language_info": {
   "codemirror_mode": {
    "name": "ipython",
    "version": 3
   },
   "file_extension": ".py",
   "mimetype": "text/x-python",
   "name": "python",
   "nbconvert_exporter": "python",
   "pygments_lexer": "ipython3",
   "version": "3.13.7"
  }
 },
 "nbformat": 4,
 "nbformat_minor": 5
}
